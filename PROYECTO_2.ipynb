{
 "cells": [
  {
   "cell_type": "markdown",
   "metadata": {},
   "source": [
    "# Pruebas AA/B"
   ]
  },
  {
   "cell_type": "markdown",
   "metadata": {},
   "source": [
    "En el presente caso se va a realizar una prueba AA/B similar a aquella requerida en el proyecto 2 de analisis de datos. Para esto se tomaron en consideracion los mismos datos del archivo logs_exp_us.csv que contiene las siguientes columnas:\n",
    "\n",
    "- EventName: Nombre del evento\n",
    "- DeviceIDHash: Identificador del usuario univoco\n",
    "- EventTimestamp: Fecha y hora del evento\n",
    "- Expid:Numero de experimento 246 y 247 son los grupos de control y 248 es el grupo de prueba\n",
    "\n",
    "Al igual que en el proyecto , seplantea un experimento en el cual la empresa deproductos alimenticios realiza un cambio en las fuentes de la aplicacion, y usted debe evaluar si dicho cambio afectara a los niveles de conversion en diferentes momentos de la navegacion de usuarios. Para esto, los datos se encuentran divididos en 3 grupos, lo cuales  2 son de control (A1 y A2) y uno de prueba (B).\n",
    "\n",
    "Visto lo anterior usted debe\n",
    "\n",
    "1. Realizar un diagnostico inicial de los datos y definir una estrategia de procesamiento acorde.\n",
    "2. Realizar el debido procesamiento de los datos.\n",
    "3. Realizar un analisis exploratorio de los datos.\n",
    "4. Ejecutar la pruebas estadisticas que le permitan validar la hipostesis asociada al impacto que tendria el experimento."
   ]
  },
  {
   "cell_type": "code",
   "execution_count": null,
   "metadata": {},
   "outputs": [],
   "source": [
    "#Impotar librerias\n",
    "import numpy as np\n",
    "import matplotlib.pyplot as plt\n",
    "import pandas as pd\n",
    "import seaborn as sns\n",
    "from statsmodels.stats.proportion import proportions_ztest, proportion_confint"
   ]
  },
  {
   "cell_type": "code",
   "execution_count": 1,
   "metadata": {},
   "outputs": [
    {
     "ename": "NameError",
     "evalue": "name 'pd' is not defined",
     "output_type": "error",
     "traceback": [
      "\u001b[1;31m---------------------------------------------------------------------------\u001b[0m",
      "\u001b[1;31mNameError\u001b[0m                                 Traceback (most recent call last)",
      "Cell \u001b[1;32mIn[1], line 2\u001b[0m\n\u001b[0;32m      1\u001b[0m \u001b[38;5;66;03m#Carga de datos\u001b[39;00m\n\u001b[1;32m----> 2\u001b[0m data \u001b[38;5;241m=\u001b[39m \u001b[43mpd\u001b[49m\u001b[38;5;241m.\u001b[39mread_csv(\u001b[38;5;124m'\u001b[39m\u001b[38;5;124mhttps://raw.githubusercontent.com/jsaraujott/datos/refs/heads/main/logs_exp_us.csv\u001b[39m\u001b[38;5;124m'\u001b[39m, sep\u001b[38;5;241m=\u001b[39m\u001b[38;5;124m'\u001b[39m\u001b[38;5;130;01m\\t\u001b[39;00m\u001b[38;5;124m'\u001b[39m)\n",
      "\u001b[1;31mNameError\u001b[0m: name 'pd' is not defined"
     ]
    }
   ],
   "source": [
    "#Carga de datos\n",
    "data = pd.read_csv('https://raw.githubusercontent.com/jsaraujott/datos/refs/heads/main/logs_exp_us.csv', sep='\\t')"
   ]
  },
  {
   "cell_type": "markdown",
   "metadata": {},
   "source": [
    "# Diagnostico inicial de los datos"
   ]
  },
  {
   "cell_type": "code",
   "execution_count": null,
   "metadata": {},
   "outputs": [
    {
     "name": "stdout",
     "output_type": "stream",
     "text": [
      "<class 'pandas.core.frame.DataFrame'>\n",
      "RangeIndex: 244126 entries, 0 to 244125\n",
      "Data columns (total 4 columns):\n",
      " #   Column          Non-Null Count   Dtype \n",
      "---  ------          --------------   ----- \n",
      " 0   EventName       244126 non-null  object\n",
      " 1   DeviceIDHash    244126 non-null  int64 \n",
      " 2   EventTimestamp  244126 non-null  int64 \n",
      " 3   ExpId           244126 non-null  int64 \n",
      "dtypes: int64(3), object(1)\n",
      "memory usage: 7.5+ MB\n"
     ]
    }
   ],
   "source": [
    "data.info()"
   ]
  },
  {
   "cell_type": "code",
   "execution_count": null,
   "metadata": {},
   "outputs": [
    {
     "data": {
      "application/vnd.microsoft.datawrangler.viewer.v0+json": {
       "columns": [
        {
         "name": "index",
         "rawType": "int64",
         "type": "integer"
        },
        {
         "name": "EventName",
         "rawType": "object",
         "type": "string"
        },
        {
         "name": "DeviceIDHash",
         "rawType": "int64",
         "type": "integer"
        },
        {
         "name": "EventTimestamp",
         "rawType": "int64",
         "type": "integer"
        },
        {
         "name": "ExpId",
         "rawType": "int64",
         "type": "integer"
        }
       ],
       "conversionMethod": "pd.DataFrame",
       "ref": "f44761c6-e411-49dd-b8b2-480c9c3740fd",
       "rows": [
        [
         "50925",
         "MainScreenAppear",
         "6953415790057009349",
         "1564739723",
         "248"
        ],
        [
         "90714",
         "CartScreenAppear",
         "9070105870042240910",
         "1564835003",
         "247"
        ],
        [
         "6353",
         "MainScreenAppear",
         "3179569210883065573",
         "1564639596",
         "248"
        ],
        [
         "96494",
         "PaymentScreenSuccessful",
         "197027893265565660",
         "1564844042",
         "246"
        ],
        [
         "157302",
         "MainScreenAppear",
         "6520920615385872661",
         "1565008964",
         "248"
        ],
        [
         "135591",
         "MainScreenAppear",
         "2702313608280400792",
         "1564941208",
         "246"
        ],
        [
         "216921",
         "MainScreenAppear",
         "1941104928179008131",
         "1565158405",
         "248"
        ],
        [
         "203854",
         "MainScreenAppear",
         "3371952072282142471",
         "1565109378",
         "247"
        ],
        [
         "201109",
         "MainScreenAppear",
         "8836933201165064417",
         "1565105795",
         "248"
        ],
        [
         "157183",
         "PaymentScreenSuccessful",
         "4257848154605915902",
         "1565008729",
         "247"
        ]
       ],
       "shape": {
        "columns": 4,
        "rows": 10
       }
      },
      "text/html": [
       "<div>\n",
       "<style scoped>\n",
       "    .dataframe tbody tr th:only-of-type {\n",
       "        vertical-align: middle;\n",
       "    }\n",
       "\n",
       "    .dataframe tbody tr th {\n",
       "        vertical-align: top;\n",
       "    }\n",
       "\n",
       "    .dataframe thead th {\n",
       "        text-align: right;\n",
       "    }\n",
       "</style>\n",
       "<table border=\"1\" class=\"dataframe\">\n",
       "  <thead>\n",
       "    <tr style=\"text-align: right;\">\n",
       "      <th></th>\n",
       "      <th>EventName</th>\n",
       "      <th>DeviceIDHash</th>\n",
       "      <th>EventTimestamp</th>\n",
       "      <th>ExpId</th>\n",
       "    </tr>\n",
       "  </thead>\n",
       "  <tbody>\n",
       "    <tr>\n",
       "      <th>50925</th>\n",
       "      <td>MainScreenAppear</td>\n",
       "      <td>6953415790057009349</td>\n",
       "      <td>1564739723</td>\n",
       "      <td>248</td>\n",
       "    </tr>\n",
       "    <tr>\n",
       "      <th>90714</th>\n",
       "      <td>CartScreenAppear</td>\n",
       "      <td>9070105870042240910</td>\n",
       "      <td>1564835003</td>\n",
       "      <td>247</td>\n",
       "    </tr>\n",
       "    <tr>\n",
       "      <th>6353</th>\n",
       "      <td>MainScreenAppear</td>\n",
       "      <td>3179569210883065573</td>\n",
       "      <td>1564639596</td>\n",
       "      <td>248</td>\n",
       "    </tr>\n",
       "    <tr>\n",
       "      <th>96494</th>\n",
       "      <td>PaymentScreenSuccessful</td>\n",
       "      <td>197027893265565660</td>\n",
       "      <td>1564844042</td>\n",
       "      <td>246</td>\n",
       "    </tr>\n",
       "    <tr>\n",
       "      <th>157302</th>\n",
       "      <td>MainScreenAppear</td>\n",
       "      <td>6520920615385872661</td>\n",
       "      <td>1565008964</td>\n",
       "      <td>248</td>\n",
       "    </tr>\n",
       "    <tr>\n",
       "      <th>135591</th>\n",
       "      <td>MainScreenAppear</td>\n",
       "      <td>2702313608280400792</td>\n",
       "      <td>1564941208</td>\n",
       "      <td>246</td>\n",
       "    </tr>\n",
       "    <tr>\n",
       "      <th>216921</th>\n",
       "      <td>MainScreenAppear</td>\n",
       "      <td>1941104928179008131</td>\n",
       "      <td>1565158405</td>\n",
       "      <td>248</td>\n",
       "    </tr>\n",
       "    <tr>\n",
       "      <th>203854</th>\n",
       "      <td>MainScreenAppear</td>\n",
       "      <td>3371952072282142471</td>\n",
       "      <td>1565109378</td>\n",
       "      <td>247</td>\n",
       "    </tr>\n",
       "    <tr>\n",
       "      <th>201109</th>\n",
       "      <td>MainScreenAppear</td>\n",
       "      <td>8836933201165064417</td>\n",
       "      <td>1565105795</td>\n",
       "      <td>248</td>\n",
       "    </tr>\n",
       "    <tr>\n",
       "      <th>157183</th>\n",
       "      <td>PaymentScreenSuccessful</td>\n",
       "      <td>4257848154605915902</td>\n",
       "      <td>1565008729</td>\n",
       "      <td>247</td>\n",
       "    </tr>\n",
       "  </tbody>\n",
       "</table>\n",
       "</div>"
      ],
      "text/plain": [
       "                      EventName         DeviceIDHash  EventTimestamp  ExpId\n",
       "50925          MainScreenAppear  6953415790057009349      1564739723    248\n",
       "90714          CartScreenAppear  9070105870042240910      1564835003    247\n",
       "6353           MainScreenAppear  3179569210883065573      1564639596    248\n",
       "96494   PaymentScreenSuccessful   197027893265565660      1564844042    246\n",
       "157302         MainScreenAppear  6520920615385872661      1565008964    248\n",
       "135591         MainScreenAppear  2702313608280400792      1564941208    246\n",
       "216921         MainScreenAppear  1941104928179008131      1565158405    248\n",
       "203854         MainScreenAppear  3371952072282142471      1565109378    247\n",
       "201109         MainScreenAppear  8836933201165064417      1565105795    248\n",
       "157183  PaymentScreenSuccessful  4257848154605915902      1565008729    247"
      ]
     },
     "execution_count": 4,
     "metadata": {},
     "output_type": "execute_result"
    }
   ],
   "source": [
    "data.sample(10)"
   ]
  },
  {
   "cell_type": "code",
   "execution_count": null,
   "metadata": {},
   "outputs": [
    {
     "data": {
      "text/plain": [
       "EventName\n",
       "MainScreenAppear           119205\n",
       "OffersScreenAppear          46825\n",
       "CartScreenAppear            42731\n",
       "PaymentScreenSuccessful     34313\n",
       "Tutorial                     1052\n",
       "Name: count, dtype: int64"
      ]
     },
     "execution_count": 5,
     "metadata": {},
     "output_type": "execute_result"
    }
   ],
   "source": [
    "data['EventName'].value_counts()"
   ]
  },
  {
   "cell_type": "code",
   "execution_count": null,
   "metadata": {},
   "outputs": [
    {
     "data": {
      "text/plain": [
       "7551"
      ]
     },
     "execution_count": 6,
     "metadata": {},
     "output_type": "execute_result"
    }
   ],
   "source": [
    "#visalizacion de usuarios\n",
    "len(data['DeviceIDHash'].unique())"
   ]
  },
  {
   "cell_type": "code",
   "execution_count": null,
   "metadata": {},
   "outputs": [
    {
     "data": {
      "text/plain": [
       "ExpId\n",
       "248    85747\n",
       "246    80304\n",
       "247    78075\n",
       "Name: count, dtype: int64"
      ]
     },
     "execution_count": 7,
     "metadata": {},
     "output_type": "execute_result"
    }
   ],
   "source": [
    "data['ExpId'].value_counts()"
   ]
  },
  {
   "cell_type": "markdown",
   "metadata": {},
   "source": [
    "## Plan de accion de procesamiento de los datos\n",
    "\n",
    "* Cambiar los nombres de las columnas a un formato snake_case.\n",
    "* Convertir la columna EventTimestamp a tipo datetime.\n",
    "* Extraer los componentes relevantes de las fechas que salgan del timestamp. Dia y la hora.\n",
    "* Poner de una forma mas semantica a los grupos del experimento (A1, A2 y B).\n",
    "* Eliminar los registros del tutorial."
   ]
  },
  {
   "cell_type": "markdown",
   "metadata": {},
   "source": [
    "**PLAN DE ACCION RESPECTO A OTRAS ACCIONES POSTERIORES**\n",
    "\n",
    "* Analisis exploratorio de los datos\n",
    "    *Resumen estadistico de los principales indicadores del caso\n",
    "    * Estudiar la evolucion de los eventos por dia\n",
    "    * Comportamiento de los eventos por hora\n",
    "    * estuciar el balance de los grupos experimentales\n",
    "\n",
    "* Analisis inferencia (Prueba AA/B)\n",
    "    * Estudiar si existen diferencias  significativas de conversion entre los grupos\n",
    "\n",
    "* Preparar el reporte final\n"
   ]
  },
  {
   "cell_type": "markdown",
   "metadata": {},
   "source": [
    "**PROCESAMIENTO DE LOS DATOS**\n"
   ]
  },
  {
   "cell_type": "markdown",
   "metadata": {},
   "source": [
    "Ajustar nombre de columnas\n"
   ]
  },
  {
   "cell_type": "code",
   "execution_count": null,
   "metadata": {},
   "outputs": [
    {
     "data": {
      "application/vnd.microsoft.datawrangler.viewer.v0+json": {
       "columns": [
        {
         "name": "index",
         "rawType": "int64",
         "type": "integer"
        },
        {
         "name": "event",
         "rawType": "object",
         "type": "string"
        },
        {
         "name": "user",
         "rawType": "int64",
         "type": "integer"
        },
        {
         "name": "timestamp",
         "rawType": "int64",
         "type": "integer"
        },
        {
         "name": "exp_id",
         "rawType": "int64",
         "type": "integer"
        }
       ],
       "conversionMethod": "pd.DataFrame",
       "ref": "52572130-0459-4c91-bd60-8d4f41d4719f",
       "rows": [
        [
         "0",
         "MainScreenAppear",
         "4575588528974610257",
         "1564029816",
         "246"
        ],
        [
         "1",
         "MainScreenAppear",
         "7416695313311560658",
         "1564053102",
         "246"
        ],
        [
         "2",
         "PaymentScreenSuccessful",
         "3518123091307005509",
         "1564054127",
         "248"
        ],
        [
         "3",
         "CartScreenAppear",
         "3518123091307005509",
         "1564054127",
         "248"
        ],
        [
         "4",
         "PaymentScreenSuccessful",
         "6217807653094995999",
         "1564055322",
         "248"
        ]
       ],
       "shape": {
        "columns": 4,
        "rows": 5
       }
      },
      "text/html": [
       "<div>\n",
       "<style scoped>\n",
       "    .dataframe tbody tr th:only-of-type {\n",
       "        vertical-align: middle;\n",
       "    }\n",
       "\n",
       "    .dataframe tbody tr th {\n",
       "        vertical-align: top;\n",
       "    }\n",
       "\n",
       "    .dataframe thead th {\n",
       "        text-align: right;\n",
       "    }\n",
       "</style>\n",
       "<table border=\"1\" class=\"dataframe\">\n",
       "  <thead>\n",
       "    <tr style=\"text-align: right;\">\n",
       "      <th></th>\n",
       "      <th>event</th>\n",
       "      <th>user</th>\n",
       "      <th>timestamp</th>\n",
       "      <th>exp_id</th>\n",
       "    </tr>\n",
       "  </thead>\n",
       "  <tbody>\n",
       "    <tr>\n",
       "      <th>0</th>\n",
       "      <td>MainScreenAppear</td>\n",
       "      <td>4575588528974610257</td>\n",
       "      <td>1564029816</td>\n",
       "      <td>246</td>\n",
       "    </tr>\n",
       "    <tr>\n",
       "      <th>1</th>\n",
       "      <td>MainScreenAppear</td>\n",
       "      <td>7416695313311560658</td>\n",
       "      <td>1564053102</td>\n",
       "      <td>246</td>\n",
       "    </tr>\n",
       "    <tr>\n",
       "      <th>2</th>\n",
       "      <td>PaymentScreenSuccessful</td>\n",
       "      <td>3518123091307005509</td>\n",
       "      <td>1564054127</td>\n",
       "      <td>248</td>\n",
       "    </tr>\n",
       "    <tr>\n",
       "      <th>3</th>\n",
       "      <td>CartScreenAppear</td>\n",
       "      <td>3518123091307005509</td>\n",
       "      <td>1564054127</td>\n",
       "      <td>248</td>\n",
       "    </tr>\n",
       "    <tr>\n",
       "      <th>4</th>\n",
       "      <td>PaymentScreenSuccessful</td>\n",
       "      <td>6217807653094995999</td>\n",
       "      <td>1564055322</td>\n",
       "      <td>248</td>\n",
       "    </tr>\n",
       "  </tbody>\n",
       "</table>\n",
       "</div>"
      ],
      "text/plain": [
       "                     event                 user   timestamp  exp_id\n",
       "0         MainScreenAppear  4575588528974610257  1564029816     246\n",
       "1         MainScreenAppear  7416695313311560658  1564053102     246\n",
       "2  PaymentScreenSuccessful  3518123091307005509  1564054127     248\n",
       "3         CartScreenAppear  3518123091307005509  1564054127     248\n",
       "4  PaymentScreenSuccessful  6217807653094995999  1564055322     248"
      ]
     },
     "execution_count": 8,
     "metadata": {},
     "output_type": "execute_result"
    }
   ],
   "source": [
    "data = data.rename(columns={'EventName': 'event', 'DeviceIDHash': 'user', 'EventTimestamp':'timestamp', 'ExpId': 'exp_id'})\n",
    "\n",
    "data.head ()"
   ]
  },
  {
   "cell_type": "markdown",
   "metadata": {},
   "source": [
    "**Ajustar el tipo de timestamp**"
   ]
  },
  {
   "cell_type": "code",
   "execution_count": null,
   "metadata": {},
   "outputs": [
    {
     "data": {
      "application/vnd.microsoft.datawrangler.viewer.v0+json": {
       "columns": [
        {
         "name": "index",
         "rawType": "int64",
         "type": "integer"
        },
        {
         "name": "event",
         "rawType": "object",
         "type": "string"
        },
        {
         "name": "user",
         "rawType": "int64",
         "type": "integer"
        },
        {
         "name": "timestamp",
         "rawType": "datetime64[ns]",
         "type": "datetime"
        },
        {
         "name": "exp_id",
         "rawType": "int64",
         "type": "integer"
        }
       ],
       "conversionMethod": "pd.DataFrame",
       "ref": "7851ff30-0dd3-495f-a5cb-aa49607f83f7",
       "rows": [
        [
         "60041",
         "MainScreenAppear",
         "3894219336678663559",
         "2019-08-02 14:11:02",
         "247"
        ],
        [
         "230614",
         "OffersScreenAppear",
         "2431455045762717569",
         "2019-08-07 14:06:19",
         "247"
        ],
        [
         "93525",
         "MainScreenAppear",
         "7712419871006855851",
         "2019-08-03 13:43:22",
         "247"
        ],
        [
         "104827",
         "OffersScreenAppear",
         "3746015443593251752",
         "2019-08-03 18:58:22",
         "247"
        ],
        [
         "124142",
         "MainScreenAppear",
         "7939747556084232140",
         "2019-08-04 12:41:18",
         "247"
        ],
        [
         "237640",
         "PaymentScreenSuccessful",
         "3157218280152762199",
         "2019-08-07 16:52:18",
         "247"
        ],
        [
         "233728",
         "CartScreenAppear",
         "6567588976245816164",
         "2019-08-07 15:18:51",
         "247"
        ],
        [
         "132392",
         "OffersScreenAppear",
         "8005753485514903385",
         "2019-08-04 16:24:13",
         "247"
        ],
        [
         "49845",
         "MainScreenAppear",
         "8529102644019234716",
         "2019-08-02 09:26:32",
         "248"
        ],
        [
         "188100",
         "MainScreenAppear",
         "6571482566359906964",
         "2019-08-06 09:39:39",
         "248"
        ]
       ],
       "shape": {
        "columns": 4,
        "rows": 10
       }
      },
      "text/html": [
       "<div>\n",
       "<style scoped>\n",
       "    .dataframe tbody tr th:only-of-type {\n",
       "        vertical-align: middle;\n",
       "    }\n",
       "\n",
       "    .dataframe tbody tr th {\n",
       "        vertical-align: top;\n",
       "    }\n",
       "\n",
       "    .dataframe thead th {\n",
       "        text-align: right;\n",
       "    }\n",
       "</style>\n",
       "<table border=\"1\" class=\"dataframe\">\n",
       "  <thead>\n",
       "    <tr style=\"text-align: right;\">\n",
       "      <th></th>\n",
       "      <th>event</th>\n",
       "      <th>user</th>\n",
       "      <th>timestamp</th>\n",
       "      <th>exp_id</th>\n",
       "    </tr>\n",
       "  </thead>\n",
       "  <tbody>\n",
       "    <tr>\n",
       "      <th>60041</th>\n",
       "      <td>MainScreenAppear</td>\n",
       "      <td>3894219336678663559</td>\n",
       "      <td>2019-08-02 14:11:02</td>\n",
       "      <td>247</td>\n",
       "    </tr>\n",
       "    <tr>\n",
       "      <th>230614</th>\n",
       "      <td>OffersScreenAppear</td>\n",
       "      <td>2431455045762717569</td>\n",
       "      <td>2019-08-07 14:06:19</td>\n",
       "      <td>247</td>\n",
       "    </tr>\n",
       "    <tr>\n",
       "      <th>93525</th>\n",
       "      <td>MainScreenAppear</td>\n",
       "      <td>7712419871006855851</td>\n",
       "      <td>2019-08-03 13:43:22</td>\n",
       "      <td>247</td>\n",
       "    </tr>\n",
       "    <tr>\n",
       "      <th>104827</th>\n",
       "      <td>OffersScreenAppear</td>\n",
       "      <td>3746015443593251752</td>\n",
       "      <td>2019-08-03 18:58:22</td>\n",
       "      <td>247</td>\n",
       "    </tr>\n",
       "    <tr>\n",
       "      <th>124142</th>\n",
       "      <td>MainScreenAppear</td>\n",
       "      <td>7939747556084232140</td>\n",
       "      <td>2019-08-04 12:41:18</td>\n",
       "      <td>247</td>\n",
       "    </tr>\n",
       "    <tr>\n",
       "      <th>237640</th>\n",
       "      <td>PaymentScreenSuccessful</td>\n",
       "      <td>3157218280152762199</td>\n",
       "      <td>2019-08-07 16:52:18</td>\n",
       "      <td>247</td>\n",
       "    </tr>\n",
       "    <tr>\n",
       "      <th>233728</th>\n",
       "      <td>CartScreenAppear</td>\n",
       "      <td>6567588976245816164</td>\n",
       "      <td>2019-08-07 15:18:51</td>\n",
       "      <td>247</td>\n",
       "    </tr>\n",
       "    <tr>\n",
       "      <th>132392</th>\n",
       "      <td>OffersScreenAppear</td>\n",
       "      <td>8005753485514903385</td>\n",
       "      <td>2019-08-04 16:24:13</td>\n",
       "      <td>247</td>\n",
       "    </tr>\n",
       "    <tr>\n",
       "      <th>49845</th>\n",
       "      <td>MainScreenAppear</td>\n",
       "      <td>8529102644019234716</td>\n",
       "      <td>2019-08-02 09:26:32</td>\n",
       "      <td>248</td>\n",
       "    </tr>\n",
       "    <tr>\n",
       "      <th>188100</th>\n",
       "      <td>MainScreenAppear</td>\n",
       "      <td>6571482566359906964</td>\n",
       "      <td>2019-08-06 09:39:39</td>\n",
       "      <td>248</td>\n",
       "    </tr>\n",
       "  </tbody>\n",
       "</table>\n",
       "</div>"
      ],
      "text/plain": [
       "                          event                 user           timestamp  \\\n",
       "60041          MainScreenAppear  3894219336678663559 2019-08-02 14:11:02   \n",
       "230614       OffersScreenAppear  2431455045762717569 2019-08-07 14:06:19   \n",
       "93525          MainScreenAppear  7712419871006855851 2019-08-03 13:43:22   \n",
       "104827       OffersScreenAppear  3746015443593251752 2019-08-03 18:58:22   \n",
       "124142         MainScreenAppear  7939747556084232140 2019-08-04 12:41:18   \n",
       "237640  PaymentScreenSuccessful  3157218280152762199 2019-08-07 16:52:18   \n",
       "233728         CartScreenAppear  6567588976245816164 2019-08-07 15:18:51   \n",
       "132392       OffersScreenAppear  8005753485514903385 2019-08-04 16:24:13   \n",
       "49845          MainScreenAppear  8529102644019234716 2019-08-02 09:26:32   \n",
       "188100         MainScreenAppear  6571482566359906964 2019-08-06 09:39:39   \n",
       "\n",
       "        exp_id  \n",
       "60041      247  \n",
       "230614     247  \n",
       "93525      247  \n",
       "104827     247  \n",
       "124142     247  \n",
       "237640     247  \n",
       "233728     247  \n",
       "132392     247  \n",
       "49845      248  \n",
       "188100     248  "
      ]
     },
     "execution_count": 9,
     "metadata": {},
     "output_type": "execute_result"
    }
   ],
   "source": [
    "data['timestamp'] = pd.to_datetime(data['timestamp'],unit='s')\n",
    "\n",
    "data.sample(10)"
   ]
  },
  {
   "cell_type": "markdown",
   "metadata": {},
   "source": [
    "**Extraer el dia del timestamp**"
   ]
  },
  {
   "cell_type": "code",
   "execution_count": null,
   "metadata": {},
   "outputs": [
    {
     "data": {
      "text/plain": [
       "count                           244126\n",
       "mean     2019-08-04 10:18:35.842716160\n",
       "min                2019-07-25 04:43:36\n",
       "25%      2019-08-02 14:36:20.249999872\n",
       "50%                2019-08-04 11:49:55\n",
       "75%                2019-08-06 06:55:11\n",
       "max                2019-08-07 21:15:17\n",
       "Name: timestamp, dtype: object"
      ]
     },
     "execution_count": 10,
     "metadata": {},
     "output_type": "execute_result"
    }
   ],
   "source": [
    "data['timestamp'].describe()"
   ]
  },
  {
   "cell_type": "code",
   "execution_count": null,
   "metadata": {},
   "outputs": [
    {
     "data": {
      "application/vnd.microsoft.datawrangler.viewer.v0+json": {
       "columns": [
        {
         "name": "index",
         "rawType": "int64",
         "type": "integer"
        },
        {
         "name": "event",
         "rawType": "object",
         "type": "string"
        },
        {
         "name": "user",
         "rawType": "int64",
         "type": "integer"
        },
        {
         "name": "timestamp",
         "rawType": "datetime64[ns]",
         "type": "datetime"
        },
        {
         "name": "exp_id",
         "rawType": "int64",
         "type": "integer"
        },
        {
         "name": "date",
         "rawType": "datetime64[ns]",
         "type": "datetime"
        }
       ],
       "conversionMethod": "pd.DataFrame",
       "ref": "31bc3895-f76b-462c-9813-e68479ea34da",
       "rows": [
        [
         "136273",
         "OffersScreenAppear",
         "6560178062388764565",
         "2019-08-04 18:15:24",
         "246",
         "2019-08-04 00:00:00"
        ],
        [
         "31468",
         "MainScreenAppear",
         "6664988900969927561",
         "2019-08-01 17:25:53",
         "246",
         "2019-08-01 00:00:00"
        ],
        [
         "76517",
         "OffersScreenAppear",
         "308940995223272529",
         "2019-08-03 05:05:11",
         "248",
         "2019-08-03 00:00:00"
        ],
        [
         "54529",
         "CartScreenAppear",
         "4623191541214045580",
         "2019-08-02 11:38:33",
         "247",
         "2019-08-02 00:00:00"
        ],
        [
         "24379",
         "OffersScreenAppear",
         "8581162121865650933",
         "2019-08-01 14:36:08",
         "248",
         "2019-08-01 00:00:00"
        ],
        [
         "125991",
         "OffersScreenAppear",
         "3998117183680723225",
         "2019-08-04 13:28:54",
         "248",
         "2019-08-04 00:00:00"
        ],
        [
         "119413",
         "PaymentScreenSuccessful",
         "3416523485693578105",
         "2019-08-04 10:44:01",
         "248",
         "2019-08-04 00:00:00"
        ],
        [
         "86961",
         "OffersScreenAppear",
         "5556707202539887138",
         "2019-08-03 11:00:58",
         "247",
         "2019-08-03 00:00:00"
        ],
        [
         "14451",
         "CartScreenAppear",
         "6672921039703653653",
         "2019-08-01 10:32:34",
         "247",
         "2019-08-01 00:00:00"
        ],
        [
         "196701",
         "OffersScreenAppear",
         "6633275515297644052",
         "2019-08-06 13:57:38",
         "246",
         "2019-08-06 00:00:00"
        ]
       ],
       "shape": {
        "columns": 5,
        "rows": 10
       }
      },
      "text/html": [
       "<div>\n",
       "<style scoped>\n",
       "    .dataframe tbody tr th:only-of-type {\n",
       "        vertical-align: middle;\n",
       "    }\n",
       "\n",
       "    .dataframe tbody tr th {\n",
       "        vertical-align: top;\n",
       "    }\n",
       "\n",
       "    .dataframe thead th {\n",
       "        text-align: right;\n",
       "    }\n",
       "</style>\n",
       "<table border=\"1\" class=\"dataframe\">\n",
       "  <thead>\n",
       "    <tr style=\"text-align: right;\">\n",
       "      <th></th>\n",
       "      <th>event</th>\n",
       "      <th>user</th>\n",
       "      <th>timestamp</th>\n",
       "      <th>exp_id</th>\n",
       "      <th>date</th>\n",
       "    </tr>\n",
       "  </thead>\n",
       "  <tbody>\n",
       "    <tr>\n",
       "      <th>136273</th>\n",
       "      <td>OffersScreenAppear</td>\n",
       "      <td>6560178062388764565</td>\n",
       "      <td>2019-08-04 18:15:24</td>\n",
       "      <td>246</td>\n",
       "      <td>2019-08-04</td>\n",
       "    </tr>\n",
       "    <tr>\n",
       "      <th>31468</th>\n",
       "      <td>MainScreenAppear</td>\n",
       "      <td>6664988900969927561</td>\n",
       "      <td>2019-08-01 17:25:53</td>\n",
       "      <td>246</td>\n",
       "      <td>2019-08-01</td>\n",
       "    </tr>\n",
       "    <tr>\n",
       "      <th>76517</th>\n",
       "      <td>OffersScreenAppear</td>\n",
       "      <td>308940995223272529</td>\n",
       "      <td>2019-08-03 05:05:11</td>\n",
       "      <td>248</td>\n",
       "      <td>2019-08-03</td>\n",
       "    </tr>\n",
       "    <tr>\n",
       "      <th>54529</th>\n",
       "      <td>CartScreenAppear</td>\n",
       "      <td>4623191541214045580</td>\n",
       "      <td>2019-08-02 11:38:33</td>\n",
       "      <td>247</td>\n",
       "      <td>2019-08-02</td>\n",
       "    </tr>\n",
       "    <tr>\n",
       "      <th>24379</th>\n",
       "      <td>OffersScreenAppear</td>\n",
       "      <td>8581162121865650933</td>\n",
       "      <td>2019-08-01 14:36:08</td>\n",
       "      <td>248</td>\n",
       "      <td>2019-08-01</td>\n",
       "    </tr>\n",
       "    <tr>\n",
       "      <th>125991</th>\n",
       "      <td>OffersScreenAppear</td>\n",
       "      <td>3998117183680723225</td>\n",
       "      <td>2019-08-04 13:28:54</td>\n",
       "      <td>248</td>\n",
       "      <td>2019-08-04</td>\n",
       "    </tr>\n",
       "    <tr>\n",
       "      <th>119413</th>\n",
       "      <td>PaymentScreenSuccessful</td>\n",
       "      <td>3416523485693578105</td>\n",
       "      <td>2019-08-04 10:44:01</td>\n",
       "      <td>248</td>\n",
       "      <td>2019-08-04</td>\n",
       "    </tr>\n",
       "    <tr>\n",
       "      <th>86961</th>\n",
       "      <td>OffersScreenAppear</td>\n",
       "      <td>5556707202539887138</td>\n",
       "      <td>2019-08-03 11:00:58</td>\n",
       "      <td>247</td>\n",
       "      <td>2019-08-03</td>\n",
       "    </tr>\n",
       "    <tr>\n",
       "      <th>14451</th>\n",
       "      <td>CartScreenAppear</td>\n",
       "      <td>6672921039703653653</td>\n",
       "      <td>2019-08-01 10:32:34</td>\n",
       "      <td>247</td>\n",
       "      <td>2019-08-01</td>\n",
       "    </tr>\n",
       "    <tr>\n",
       "      <th>196701</th>\n",
       "      <td>OffersScreenAppear</td>\n",
       "      <td>6633275515297644052</td>\n",
       "      <td>2019-08-06 13:57:38</td>\n",
       "      <td>246</td>\n",
       "      <td>2019-08-06</td>\n",
       "    </tr>\n",
       "  </tbody>\n",
       "</table>\n",
       "</div>"
      ],
      "text/plain": [
       "                          event                 user           timestamp  \\\n",
       "136273       OffersScreenAppear  6560178062388764565 2019-08-04 18:15:24   \n",
       "31468          MainScreenAppear  6664988900969927561 2019-08-01 17:25:53   \n",
       "76517        OffersScreenAppear   308940995223272529 2019-08-03 05:05:11   \n",
       "54529          CartScreenAppear  4623191541214045580 2019-08-02 11:38:33   \n",
       "24379        OffersScreenAppear  8581162121865650933 2019-08-01 14:36:08   \n",
       "125991       OffersScreenAppear  3998117183680723225 2019-08-04 13:28:54   \n",
       "119413  PaymentScreenSuccessful  3416523485693578105 2019-08-04 10:44:01   \n",
       "86961        OffersScreenAppear  5556707202539887138 2019-08-03 11:00:58   \n",
       "14451          CartScreenAppear  6672921039703653653 2019-08-01 10:32:34   \n",
       "196701       OffersScreenAppear  6633275515297644052 2019-08-06 13:57:38   \n",
       "\n",
       "        exp_id       date  \n",
       "136273     246 2019-08-04  \n",
       "31468      246 2019-08-01  \n",
       "76517      248 2019-08-03  \n",
       "54529      247 2019-08-02  \n",
       "24379      248 2019-08-01  \n",
       "125991     248 2019-08-04  \n",
       "119413     248 2019-08-04  \n",
       "86961      247 2019-08-03  \n",
       "14451      247 2019-08-01  \n",
       "196701     246 2019-08-06  "
      ]
     },
     "execution_count": 11,
     "metadata": {},
     "output_type": "execute_result"
    }
   ],
   "source": [
    "data['date'] = data['timestamp'].dt.floor('d')  # floor para redondear a la fecha mas cercana\n",
    "data.sample(10)"
   ]
  },
  {
   "cell_type": "markdown",
   "metadata": {},
   "source": [
    "**Extraer la hora del timestamp**"
   ]
  },
  {
   "cell_type": "code",
   "execution_count": null,
   "metadata": {},
   "outputs": [
    {
     "data": {
      "application/vnd.microsoft.datawrangler.viewer.v0+json": {
       "columns": [
        {
         "name": "index",
         "rawType": "int64",
         "type": "integer"
        },
        {
         "name": "event",
         "rawType": "object",
         "type": "string"
        },
        {
         "name": "user",
         "rawType": "int64",
         "type": "integer"
        },
        {
         "name": "timestamp",
         "rawType": "datetime64[ns]",
         "type": "datetime"
        },
        {
         "name": "exp_id",
         "rawType": "int64",
         "type": "integer"
        },
        {
         "name": "date",
         "rawType": "datetime64[ns]",
         "type": "datetime"
        },
        {
         "name": "hour",
         "rawType": "int32",
         "type": "integer"
        }
       ],
       "conversionMethod": "pd.DataFrame",
       "ref": "44461330-4d96-4e2f-aa24-2e3058147bdc",
       "rows": [
        [
         "5152",
         "MainScreenAppear",
         "8470940792016881889",
         "2019-08-01 05:04:41",
         "247",
         "2019-08-01 00:00:00",
         "5"
        ],
        [
         "40772",
         "OffersScreenAppear",
         "5462686011002931011",
         "2019-08-02 02:36:35",
         "247",
         "2019-08-02 00:00:00",
         "2"
        ],
        [
         "84706",
         "MainScreenAppear",
         "1501908752948001879",
         "2019-08-03 09:55:03",
         "246",
         "2019-08-03 00:00:00",
         "9"
        ],
        [
         "3102",
         "MainScreenAppear",
         "3875442471617517817",
         "2019-08-01 01:23:49",
         "248",
         "2019-08-01 00:00:00",
         "1"
        ],
        [
         "151646",
         "PaymentScreenSuccessful",
         "1100007125648169445",
         "2019-08-05 10:06:06",
         "248",
         "2019-08-05 00:00:00",
         "10"
        ],
        [
         "72506",
         "MainScreenAppear",
         "4903282557313240250",
         "2019-08-02 20:17:21",
         "247",
         "2019-08-02 00:00:00",
         "20"
        ],
        [
         "205851",
         "CartScreenAppear",
         "8942553003070671545",
         "2019-08-06 17:25:14",
         "247",
         "2019-08-06 00:00:00",
         "17"
        ],
        [
         "139755",
         "MainScreenAppear",
         "5470324789239987013",
         "2019-08-04 20:56:23",
         "248",
         "2019-08-04 00:00:00",
         "20"
        ],
        [
         "65147",
         "MainScreenAppear",
         "8685495455749621832",
         "2019-08-02 16:15:07",
         "247",
         "2019-08-02 00:00:00",
         "16"
        ],
        [
         "176843",
         "MainScreenAppear",
         "4946524891244986315",
         "2019-08-05 22:44:21",
         "248",
         "2019-08-05 00:00:00",
         "22"
        ]
       ],
       "shape": {
        "columns": 6,
        "rows": 10
       }
      },
      "text/html": [
       "<div>\n",
       "<style scoped>\n",
       "    .dataframe tbody tr th:only-of-type {\n",
       "        vertical-align: middle;\n",
       "    }\n",
       "\n",
       "    .dataframe tbody tr th {\n",
       "        vertical-align: top;\n",
       "    }\n",
       "\n",
       "    .dataframe thead th {\n",
       "        text-align: right;\n",
       "    }\n",
       "</style>\n",
       "<table border=\"1\" class=\"dataframe\">\n",
       "  <thead>\n",
       "    <tr style=\"text-align: right;\">\n",
       "      <th></th>\n",
       "      <th>event</th>\n",
       "      <th>user</th>\n",
       "      <th>timestamp</th>\n",
       "      <th>exp_id</th>\n",
       "      <th>date</th>\n",
       "      <th>hour</th>\n",
       "    </tr>\n",
       "  </thead>\n",
       "  <tbody>\n",
       "    <tr>\n",
       "      <th>5152</th>\n",
       "      <td>MainScreenAppear</td>\n",
       "      <td>8470940792016881889</td>\n",
       "      <td>2019-08-01 05:04:41</td>\n",
       "      <td>247</td>\n",
       "      <td>2019-08-01</td>\n",
       "      <td>5</td>\n",
       "    </tr>\n",
       "    <tr>\n",
       "      <th>40772</th>\n",
       "      <td>OffersScreenAppear</td>\n",
       "      <td>5462686011002931011</td>\n",
       "      <td>2019-08-02 02:36:35</td>\n",
       "      <td>247</td>\n",
       "      <td>2019-08-02</td>\n",
       "      <td>2</td>\n",
       "    </tr>\n",
       "    <tr>\n",
       "      <th>84706</th>\n",
       "      <td>MainScreenAppear</td>\n",
       "      <td>1501908752948001879</td>\n",
       "      <td>2019-08-03 09:55:03</td>\n",
       "      <td>246</td>\n",
       "      <td>2019-08-03</td>\n",
       "      <td>9</td>\n",
       "    </tr>\n",
       "    <tr>\n",
       "      <th>3102</th>\n",
       "      <td>MainScreenAppear</td>\n",
       "      <td>3875442471617517817</td>\n",
       "      <td>2019-08-01 01:23:49</td>\n",
       "      <td>248</td>\n",
       "      <td>2019-08-01</td>\n",
       "      <td>1</td>\n",
       "    </tr>\n",
       "    <tr>\n",
       "      <th>151646</th>\n",
       "      <td>PaymentScreenSuccessful</td>\n",
       "      <td>1100007125648169445</td>\n",
       "      <td>2019-08-05 10:06:06</td>\n",
       "      <td>248</td>\n",
       "      <td>2019-08-05</td>\n",
       "      <td>10</td>\n",
       "    </tr>\n",
       "    <tr>\n",
       "      <th>72506</th>\n",
       "      <td>MainScreenAppear</td>\n",
       "      <td>4903282557313240250</td>\n",
       "      <td>2019-08-02 20:17:21</td>\n",
       "      <td>247</td>\n",
       "      <td>2019-08-02</td>\n",
       "      <td>20</td>\n",
       "    </tr>\n",
       "    <tr>\n",
       "      <th>205851</th>\n",
       "      <td>CartScreenAppear</td>\n",
       "      <td>8942553003070671545</td>\n",
       "      <td>2019-08-06 17:25:14</td>\n",
       "      <td>247</td>\n",
       "      <td>2019-08-06</td>\n",
       "      <td>17</td>\n",
       "    </tr>\n",
       "    <tr>\n",
       "      <th>139755</th>\n",
       "      <td>MainScreenAppear</td>\n",
       "      <td>5470324789239987013</td>\n",
       "      <td>2019-08-04 20:56:23</td>\n",
       "      <td>248</td>\n",
       "      <td>2019-08-04</td>\n",
       "      <td>20</td>\n",
       "    </tr>\n",
       "    <tr>\n",
       "      <th>65147</th>\n",
       "      <td>MainScreenAppear</td>\n",
       "      <td>8685495455749621832</td>\n",
       "      <td>2019-08-02 16:15:07</td>\n",
       "      <td>247</td>\n",
       "      <td>2019-08-02</td>\n",
       "      <td>16</td>\n",
       "    </tr>\n",
       "    <tr>\n",
       "      <th>176843</th>\n",
       "      <td>MainScreenAppear</td>\n",
       "      <td>4946524891244986315</td>\n",
       "      <td>2019-08-05 22:44:21</td>\n",
       "      <td>248</td>\n",
       "      <td>2019-08-05</td>\n",
       "      <td>22</td>\n",
       "    </tr>\n",
       "  </tbody>\n",
       "</table>\n",
       "</div>"
      ],
      "text/plain": [
       "                          event                 user           timestamp  \\\n",
       "5152           MainScreenAppear  8470940792016881889 2019-08-01 05:04:41   \n",
       "40772        OffersScreenAppear  5462686011002931011 2019-08-02 02:36:35   \n",
       "84706          MainScreenAppear  1501908752948001879 2019-08-03 09:55:03   \n",
       "3102           MainScreenAppear  3875442471617517817 2019-08-01 01:23:49   \n",
       "151646  PaymentScreenSuccessful  1100007125648169445 2019-08-05 10:06:06   \n",
       "72506          MainScreenAppear  4903282557313240250 2019-08-02 20:17:21   \n",
       "205851         CartScreenAppear  8942553003070671545 2019-08-06 17:25:14   \n",
       "139755         MainScreenAppear  5470324789239987013 2019-08-04 20:56:23   \n",
       "65147          MainScreenAppear  8685495455749621832 2019-08-02 16:15:07   \n",
       "176843         MainScreenAppear  4946524891244986315 2019-08-05 22:44:21   \n",
       "\n",
       "        exp_id       date  hour  \n",
       "5152       247 2019-08-01     5  \n",
       "40772      247 2019-08-02     2  \n",
       "84706      246 2019-08-03     9  \n",
       "3102       248 2019-08-01     1  \n",
       "151646     248 2019-08-05    10  \n",
       "72506      247 2019-08-02    20  \n",
       "205851     247 2019-08-06    17  \n",
       "139755     248 2019-08-04    20  \n",
       "65147      247 2019-08-02    16  \n",
       "176843     248 2019-08-05    22  "
      ]
     },
     "execution_count": 12,
     "metadata": {},
     "output_type": "execute_result"
    }
   ],
   "source": [
    "data['hour'] = data['timestamp'].dt.hour\n",
    "data.sample(10)"
   ]
  },
  {
   "cell_type": "markdown",
   "metadata": {},
   "source": [
    "**Cambiar semantica de exp_id**"
   ]
  },
  {
   "cell_type": "code",
   "execution_count": null,
   "metadata": {},
   "outputs": [
    {
     "data": {
      "application/vnd.microsoft.datawrangler.viewer.v0+json": {
       "columns": [
        {
         "name": "index",
         "rawType": "int64",
         "type": "integer"
        },
        {
         "name": "event",
         "rawType": "object",
         "type": "string"
        },
        {
         "name": "user",
         "rawType": "int64",
         "type": "integer"
        },
        {
         "name": "timestamp",
         "rawType": "datetime64[ns]",
         "type": "datetime"
        },
        {
         "name": "exp_id",
         "rawType": "int64",
         "type": "integer"
        },
        {
         "name": "date",
         "rawType": "datetime64[ns]",
         "type": "datetime"
        },
        {
         "name": "hour",
         "rawType": "int32",
         "type": "integer"
        },
        {
         "name": "group",
         "rawType": "object",
         "type": "string"
        }
       ],
       "conversionMethod": "pd.DataFrame",
       "ref": "9b6bec87-7d6c-4c79-907c-b88333a5d019",
       "rows": [
        [
         "210643",
         "CartScreenAppear",
         "1989685320445148348",
         "2019-08-06 19:43:50",
         "247",
         "2019-08-06 00:00:00",
         "19",
         "A2"
        ],
        [
         "45099",
         "CartScreenAppear",
         "7483596365340385091",
         "2019-08-02 06:54:35",
         "248",
         "2019-08-02 00:00:00",
         "6",
         "B"
        ],
        [
         "210683",
         "MainScreenAppear",
         "1683981161505856484",
         "2019-08-06 19:45:04",
         "248",
         "2019-08-06 00:00:00",
         "19",
         "B"
        ],
        [
         "110159",
         "MainScreenAppear",
         "5353434405992767128",
         "2019-08-04 05:25:44",
         "248",
         "2019-08-04 00:00:00",
         "5",
         "B"
        ],
        [
         "157076",
         "OffersScreenAppear",
         "7572795345577928939",
         "2019-08-05 12:36:37",
         "247",
         "2019-08-05 00:00:00",
         "12",
         "A2"
        ],
        [
         "136968",
         "MainScreenAppear",
         "4045960531434778873",
         "2019-08-04 18:36:43",
         "247",
         "2019-08-04 00:00:00",
         "18",
         "A2"
        ],
        [
         "26788",
         "MainScreenAppear",
         "6705876350616553983",
         "2019-08-01 15:37:36",
         "248",
         "2019-08-01 00:00:00",
         "15",
         "B"
        ],
        [
         "188847",
         "MainScreenAppear",
         "5577907597733399014",
         "2019-08-06 10:00:55",
         "248",
         "2019-08-06 00:00:00",
         "10",
         "B"
        ],
        [
         "58617",
         "MainScreenAppear",
         "5287660122200561379",
         "2019-08-02 13:34:23",
         "247",
         "2019-08-02 00:00:00",
         "13",
         "A2"
        ],
        [
         "48527",
         "OffersScreenAppear",
         "1878105091481906390",
         "2019-08-02 08:48:32",
         "246",
         "2019-08-02 00:00:00",
         "8",
         "A1"
        ]
       ],
       "shape": {
        "columns": 7,
        "rows": 10
       }
      },
      "text/html": [
       "<div>\n",
       "<style scoped>\n",
       "    .dataframe tbody tr th:only-of-type {\n",
       "        vertical-align: middle;\n",
       "    }\n",
       "\n",
       "    .dataframe tbody tr th {\n",
       "        vertical-align: top;\n",
       "    }\n",
       "\n",
       "    .dataframe thead th {\n",
       "        text-align: right;\n",
       "    }\n",
       "</style>\n",
       "<table border=\"1\" class=\"dataframe\">\n",
       "  <thead>\n",
       "    <tr style=\"text-align: right;\">\n",
       "      <th></th>\n",
       "      <th>event</th>\n",
       "      <th>user</th>\n",
       "      <th>timestamp</th>\n",
       "      <th>exp_id</th>\n",
       "      <th>date</th>\n",
       "      <th>hour</th>\n",
       "      <th>group</th>\n",
       "    </tr>\n",
       "  </thead>\n",
       "  <tbody>\n",
       "    <tr>\n",
       "      <th>210643</th>\n",
       "      <td>CartScreenAppear</td>\n",
       "      <td>1989685320445148348</td>\n",
       "      <td>2019-08-06 19:43:50</td>\n",
       "      <td>247</td>\n",
       "      <td>2019-08-06</td>\n",
       "      <td>19</td>\n",
       "      <td>A2</td>\n",
       "    </tr>\n",
       "    <tr>\n",
       "      <th>45099</th>\n",
       "      <td>CartScreenAppear</td>\n",
       "      <td>7483596365340385091</td>\n",
       "      <td>2019-08-02 06:54:35</td>\n",
       "      <td>248</td>\n",
       "      <td>2019-08-02</td>\n",
       "      <td>6</td>\n",
       "      <td>B</td>\n",
       "    </tr>\n",
       "    <tr>\n",
       "      <th>210683</th>\n",
       "      <td>MainScreenAppear</td>\n",
       "      <td>1683981161505856484</td>\n",
       "      <td>2019-08-06 19:45:04</td>\n",
       "      <td>248</td>\n",
       "      <td>2019-08-06</td>\n",
       "      <td>19</td>\n",
       "      <td>B</td>\n",
       "    </tr>\n",
       "    <tr>\n",
       "      <th>110159</th>\n",
       "      <td>MainScreenAppear</td>\n",
       "      <td>5353434405992767128</td>\n",
       "      <td>2019-08-04 05:25:44</td>\n",
       "      <td>248</td>\n",
       "      <td>2019-08-04</td>\n",
       "      <td>5</td>\n",
       "      <td>B</td>\n",
       "    </tr>\n",
       "    <tr>\n",
       "      <th>157076</th>\n",
       "      <td>OffersScreenAppear</td>\n",
       "      <td>7572795345577928939</td>\n",
       "      <td>2019-08-05 12:36:37</td>\n",
       "      <td>247</td>\n",
       "      <td>2019-08-05</td>\n",
       "      <td>12</td>\n",
       "      <td>A2</td>\n",
       "    </tr>\n",
       "    <tr>\n",
       "      <th>136968</th>\n",
       "      <td>MainScreenAppear</td>\n",
       "      <td>4045960531434778873</td>\n",
       "      <td>2019-08-04 18:36:43</td>\n",
       "      <td>247</td>\n",
       "      <td>2019-08-04</td>\n",
       "      <td>18</td>\n",
       "      <td>A2</td>\n",
       "    </tr>\n",
       "    <tr>\n",
       "      <th>26788</th>\n",
       "      <td>MainScreenAppear</td>\n",
       "      <td>6705876350616553983</td>\n",
       "      <td>2019-08-01 15:37:36</td>\n",
       "      <td>248</td>\n",
       "      <td>2019-08-01</td>\n",
       "      <td>15</td>\n",
       "      <td>B</td>\n",
       "    </tr>\n",
       "    <tr>\n",
       "      <th>188847</th>\n",
       "      <td>MainScreenAppear</td>\n",
       "      <td>5577907597733399014</td>\n",
       "      <td>2019-08-06 10:00:55</td>\n",
       "      <td>248</td>\n",
       "      <td>2019-08-06</td>\n",
       "      <td>10</td>\n",
       "      <td>B</td>\n",
       "    </tr>\n",
       "    <tr>\n",
       "      <th>58617</th>\n",
       "      <td>MainScreenAppear</td>\n",
       "      <td>5287660122200561379</td>\n",
       "      <td>2019-08-02 13:34:23</td>\n",
       "      <td>247</td>\n",
       "      <td>2019-08-02</td>\n",
       "      <td>13</td>\n",
       "      <td>A2</td>\n",
       "    </tr>\n",
       "    <tr>\n",
       "      <th>48527</th>\n",
       "      <td>OffersScreenAppear</td>\n",
       "      <td>1878105091481906390</td>\n",
       "      <td>2019-08-02 08:48:32</td>\n",
       "      <td>246</td>\n",
       "      <td>2019-08-02</td>\n",
       "      <td>8</td>\n",
       "      <td>A1</td>\n",
       "    </tr>\n",
       "  </tbody>\n",
       "</table>\n",
       "</div>"
      ],
      "text/plain": [
       "                     event                 user           timestamp  exp_id  \\\n",
       "210643    CartScreenAppear  1989685320445148348 2019-08-06 19:43:50     247   \n",
       "45099     CartScreenAppear  7483596365340385091 2019-08-02 06:54:35     248   \n",
       "210683    MainScreenAppear  1683981161505856484 2019-08-06 19:45:04     248   \n",
       "110159    MainScreenAppear  5353434405992767128 2019-08-04 05:25:44     248   \n",
       "157076  OffersScreenAppear  7572795345577928939 2019-08-05 12:36:37     247   \n",
       "136968    MainScreenAppear  4045960531434778873 2019-08-04 18:36:43     247   \n",
       "26788     MainScreenAppear  6705876350616553983 2019-08-01 15:37:36     248   \n",
       "188847    MainScreenAppear  5577907597733399014 2019-08-06 10:00:55     248   \n",
       "58617     MainScreenAppear  5287660122200561379 2019-08-02 13:34:23     247   \n",
       "48527   OffersScreenAppear  1878105091481906390 2019-08-02 08:48:32     246   \n",
       "\n",
       "             date  hour group  \n",
       "210643 2019-08-06    19    A2  \n",
       "45099  2019-08-02     6     B  \n",
       "210683 2019-08-06    19     B  \n",
       "110159 2019-08-04     5     B  \n",
       "157076 2019-08-05    12    A2  \n",
       "136968 2019-08-04    18    A2  \n",
       "26788  2019-08-01    15     B  \n",
       "188847 2019-08-06    10     B  \n",
       "58617  2019-08-02    13    A2  \n",
       "48527  2019-08-02     8    A1  "
      ]
     },
     "execution_count": 13,
     "metadata": {},
     "output_type": "execute_result"
    }
   ],
   "source": [
    "def exp_sem (x):\n",
    "    if x == 246:\n",
    "        return 'A1'\n",
    "    elif x == 247:\n",
    "        return 'A2'\n",
    "    else:\n",
    "        return 'B'\n",
    "    \n",
    "data['group'] = data['exp_id'].apply(exp_sem)\n",
    "data.sample(10)"
   ]
  },
  {
   "cell_type": "markdown",
   "metadata": {},
   "source": [
    "**Eliminar los registros del tutorial**"
   ]
  },
  {
   "cell_type": "code",
   "execution_count": null,
   "metadata": {},
   "outputs": [
    {
     "data": {
      "text/plain": [
       "(243074, 7)"
      ]
     },
     "execution_count": 14,
     "metadata": {},
     "output_type": "execute_result"
    }
   ],
   "source": [
    "data = data.query('event != \"Tutorial\"')\n",
    "data.shape"
   ]
  },
  {
   "cell_type": "code",
   "execution_count": null,
   "metadata": {},
   "outputs": [
    {
     "name": "stdout",
     "output_type": "stream",
     "text": [
      "<class 'pandas.core.frame.DataFrame'>\n",
      "Index: 243074 entries, 0 to 244125\n",
      "Data columns (total 7 columns):\n",
      " #   Column     Non-Null Count   Dtype         \n",
      "---  ------     --------------   -----         \n",
      " 0   event      243074 non-null  object        \n",
      " 1   user       243074 non-null  int64         \n",
      " 2   timestamp  243074 non-null  datetime64[ns]\n",
      " 3   exp_id     243074 non-null  int64         \n",
      " 4   date       243074 non-null  datetime64[ns]\n",
      " 5   hour       243074 non-null  int32         \n",
      " 6   group      243074 non-null  object        \n",
      "dtypes: datetime64[ns](2), int32(1), int64(2), object(2)\n",
      "memory usage: 13.9+ MB\n"
     ]
    }
   ],
   "source": [
    "data.info()"
   ]
  },
  {
   "cell_type": "markdown",
   "metadata": {},
   "source": [
    "# Analisis exploratorio de los datos"
   ]
  },
  {
   "cell_type": "markdown",
   "metadata": {},
   "source": [
    "**Resumen de los principales indicadores**"
   ]
  },
  {
   "cell_type": "code",
   "execution_count": null,
   "metadata": {},
   "outputs": [
    {
     "name": "stdout",
     "output_type": "stream",
     "text": [
      "KPI SUMMARY\n",
      "============\n",
      "243,074 events\n",
      "14 days\n",
      "7,547 users\n",
      "32.21 events per user\n",
      "17362.43 events per day\n"
     ]
    }
   ],
   "source": [
    "#Grandes numero\n",
    "events = len(data)\n",
    "days = len(data['date'].unique())\n",
    "users = len(data['user'].unique())\n",
    "events_per_user = events / users\n",
    "events_per_day = events / days\n",
    "\n",
    "print('KPI SUMMARY')\n",
    "print('============')\n",
    "print(f'{events:,} events')\n",
    "print(f'{days} days')\n",
    "print(f'{users:,} users')\n",
    "print(f'{events_per_user:.2f} events per user')\n",
    "print(f'{events_per_day:.2f} events per day')\n",
    "\n"
   ]
  },
  {
   "cell_type": "code",
   "execution_count": null,
   "metadata": {},
   "outputs": [
    {
     "data": {
      "application/vnd.microsoft.datawrangler.viewer.v0+json": {
       "columns": [
        {
         "name": "event",
         "rawType": "object",
         "type": "string"
        },
        {
         "name": "user",
         "rawType": "int64",
         "type": "integer"
        },
        {
         "name": "conv",
         "rawType": "float64",
         "type": "float"
        }
       ],
       "conversionMethod": "pd.DataFrame",
       "ref": "13e9b0de-7c3d-47d7-841e-de1a35296398",
       "rows": [
        [
         "MainScreenAppear",
         "7439",
         "100.0"
        ],
        [
         "OffersScreenAppear",
         "4613",
         "62.01102298696061"
        ],
        [
         "CartScreenAppear",
         "3749",
         "50.396558677241565"
        ],
        [
         "PaymentScreenSuccessful",
         "3547",
         "47.68113993816373"
        ]
       ],
       "shape": {
        "columns": 2,
        "rows": 4
       }
      },
      "text/html": [
       "<div>\n",
       "<style scoped>\n",
       "    .dataframe tbody tr th:only-of-type {\n",
       "        vertical-align: middle;\n",
       "    }\n",
       "\n",
       "    .dataframe tbody tr th {\n",
       "        vertical-align: top;\n",
       "    }\n",
       "\n",
       "    .dataframe thead th {\n",
       "        text-align: right;\n",
       "    }\n",
       "</style>\n",
       "<table border=\"1\" class=\"dataframe\">\n",
       "  <thead>\n",
       "    <tr style=\"text-align: right;\">\n",
       "      <th></th>\n",
       "      <th>user</th>\n",
       "      <th>conv</th>\n",
       "    </tr>\n",
       "    <tr>\n",
       "      <th>event</th>\n",
       "      <th></th>\n",
       "      <th></th>\n",
       "    </tr>\n",
       "  </thead>\n",
       "  <tbody>\n",
       "    <tr>\n",
       "      <th>MainScreenAppear</th>\n",
       "      <td>7439</td>\n",
       "      <td>100.000000</td>\n",
       "    </tr>\n",
       "    <tr>\n",
       "      <th>OffersScreenAppear</th>\n",
       "      <td>4613</td>\n",
       "      <td>62.011023</td>\n",
       "    </tr>\n",
       "    <tr>\n",
       "      <th>CartScreenAppear</th>\n",
       "      <td>3749</td>\n",
       "      <td>50.396559</td>\n",
       "    </tr>\n",
       "    <tr>\n",
       "      <th>PaymentScreenSuccessful</th>\n",
       "      <td>3547</td>\n",
       "      <td>47.681140</td>\n",
       "    </tr>\n",
       "  </tbody>\n",
       "</table>\n",
       "</div>"
      ],
      "text/plain": [
       "                         user        conv\n",
       "event                                    \n",
       "MainScreenAppear         7439  100.000000\n",
       "OffersScreenAppear       4613   62.011023\n",
       "CartScreenAppear         3749   50.396559\n",
       "PaymentScreenSuccessful  3547   47.681140"
      ]
     },
     "execution_count": 17,
     "metadata": {},
     "output_type": "execute_result"
    }
   ],
   "source": [
    "#Tasas de conversión\n",
    "funnel =(\n",
    "    data\n",
    "    .pivot_table(index= 'event', values='user', aggfunc='nunique')\n",
    "    .sort_values('user', ascending=False)\n",
    "\n",
    ")\n",
    "\n",
    "funnel['conv'] = 100*funnel['user'] / funnel['user'].max()\n",
    "\n",
    "funnel"
   ]
  },
  {
   "cell_type": "markdown",
   "metadata": {},
   "source": [
    "**Evolucion de los eventos por dia**"
   ]
  },
  {
   "cell_type": "code",
   "execution_count": null,
   "metadata": {},
   "outputs": [
    {
     "data": {
      "image/png": "[encoded data removed]",
      "text/plain": [
       "<Figure size 640x480 with 1 Axes>"
      ]
     },
     "metadata": {},
     "output_type": "display_data"
    }
   ],
   "source": [
    "#Agregar datos\n",
    "events_by_date = data.groupby('date').agg(events=('event', 'count')).reset_index()\n",
    "\n",
    "#visualizacion\n",
    "sns.lineplot(\n",
    "    data=events_by_date,\n",
    "    x='date',\n",
    "    y='events',\n",
    "    marker= 'o'\n",
    ")\n",
    "\n",
    "plt.title('Eventos por día')\n",
    "plt.xticks(rotation=45)\n",
    "plt.grid()\n",
    "\n",
    "plt.show()"
   ]
  },
  {
   "cell_type": "code",
   "execution_count": null,
   "metadata": {},
   "outputs": [],
   "source": [
    "#Eliminar fechas con poca informacion\n",
    "data = data.query('date >= \"2019-08-01\"')"
   ]
  },
  {
   "cell_type": "markdown",
   "metadata": {},
   "source": [
    "**Comportamiento de los eventos por hora**"
   ]
  },
  {
   "cell_type": "code",
   "execution_count": null,
   "metadata": {},
   "outputs": [
    {
     "data": {
      "text/plain": [
       "<function matplotlib.pyplot.show(close=None, block=None)>"
      ]
     },
     "execution_count": 20,
     "metadata": {},
     "output_type": "execute_result"
    },
    {
     "data": {
      "image/png": "[encoded data removed]",
      "text/plain": [
       "<Figure size 640x480 with 1 Axes>"
      ]
     },
     "metadata": {},
     "output_type": "display_data"
    }
   ],
   "source": [
    "events_by_hour = data.groupby(['date', 'hour']).agg(events=('event', 'count')).reset_index()\n",
    "\n",
    "sns.barplot(\n",
    "    data=events_by_hour,\n",
    "    x='hour',\n",
    "    y='events',\n",
    "    color='blue',\n",
    "    alpha=0.75,\n",
    "    err_kws={'color': 'tomato'}\n",
    ")\n",
    "\n",
    "plt.grid(axis='y', linestyle='--')\n",
    "plt.title('Eventos por hora')\n",
    "plt.show"
   ]
  },
  {
   "cell_type": "markdown",
   "metadata": {},
   "source": [
    "**Balance de los grupos experimentales**"
   ]
  },
  {
   "cell_type": "code",
   "execution_count": null,
   "metadata": {},
   "outputs": [
    {
     "data": {
      "application/vnd.microsoft.datawrangler.viewer.v0+json": {
       "columns": [
        {
         "name": "group",
         "rawType": "object",
         "type": "string"
        },
        {
         "name": "events",
         "rawType": "int64",
         "type": "integer"
        },
        {
         "name": "share",
         "rawType": "float64",
         "type": "float"
        }
       ],
       "conversionMethod": "pd.DataFrame",
       "ref": "e060aca1-1c4e-414e-acdc-017baa2c39ca",
       "rows": [
        [
         "A1",
         "79102",
         "32.92363657552891"
        ],
        [
         "A2",
         "76804",
         "31.967168763709164"
        ],
        [
         "B",
         "84353",
         "35.10919466076193"
        ]
       ],
       "shape": {
        "columns": 2,
        "rows": 3
       }
      },
      "text/html": [
       "<div>\n",
       "<style scoped>\n",
       "    .dataframe tbody tr th:only-of-type {\n",
       "        vertical-align: middle;\n",
       "    }\n",
       "\n",
       "    .dataframe tbody tr th {\n",
       "        vertical-align: top;\n",
       "    }\n",
       "\n",
       "    .dataframe thead th {\n",
       "        text-align: right;\n",
       "    }\n",
       "</style>\n",
       "<table border=\"1\" class=\"dataframe\">\n",
       "  <thead>\n",
       "    <tr style=\"text-align: right;\">\n",
       "      <th></th>\n",
       "      <th>events</th>\n",
       "      <th>share</th>\n",
       "    </tr>\n",
       "    <tr>\n",
       "      <th>group</th>\n",
       "      <th></th>\n",
       "      <th></th>\n",
       "    </tr>\n",
       "  </thead>\n",
       "  <tbody>\n",
       "    <tr>\n",
       "      <th>A1</th>\n",
       "      <td>79102</td>\n",
       "      <td>32.923637</td>\n",
       "    </tr>\n",
       "    <tr>\n",
       "      <th>A2</th>\n",
       "      <td>76804</td>\n",
       "      <td>31.967169</td>\n",
       "    </tr>\n",
       "    <tr>\n",
       "      <th>B</th>\n",
       "      <td>84353</td>\n",
       "      <td>35.109195</td>\n",
       "    </tr>\n",
       "  </tbody>\n",
       "</table>\n",
       "</div>"
      ],
      "text/plain": [
       "       events      share\n",
       "group                   \n",
       "A1      79102  32.923637\n",
       "A2      76804  31.967169\n",
       "B       84353  35.109195"
      ]
     },
     "execution_count": 21,
     "metadata": {},
     "output_type": "execute_result"
    }
   ],
   "source": [
    "events_by_exp = data.groupby('group').agg(events=('event', 'count'))\n",
    "events_by_exp['share'] = 100*events_by_exp['events'] / events_by_exp['events'].sum()\n",
    "events_by_exp\n"
   ]
  },
  {
   "cell_type": "markdown",
   "metadata": {},
   "source": [
    "# Balance por dia\n"
   ]
  },
  {
   "cell_type": "code",
   "execution_count": null,
   "metadata": {},
   "outputs": [
    {
     "data": {
      "image/png": "[encoded data removed]",
      "text/plain": [
       "<Figure size 640x480 with 1 Axes>"
      ]
     },
     "metadata": {},
     "output_type": "display_data"
    }
   ],
   "source": [
    "events_by_dategroup = data.groupby(['date', 'group']).agg(events=('event', 'count')).reset_index()\n",
    "\n",
    "sns.set_palette(['darkblue','blue', 'tomato'])\n",
    "\n",
    "sns.barplot(\n",
    "    data=events_by_dategroup,\n",
    "    x='date',\n",
    "    y='events',\n",
    "    hue='group'\n",
    ")\n",
    "\n",
    "plt.legend(title= '', ncol=3)\n",
    "\n",
    "plt.show()\n"
   ]
  },
  {
   "cell_type": "code",
   "execution_count": null,
   "metadata": {},
   "outputs": [
    {
     "data": {
      "image/png": "[encoded data removed]",
      "text/plain": [
       "<Figure size 1500x300 with 2 Axes>"
      ]
     },
     "metadata": {},
     "output_type": "display_data"
    }
   ],
   "source": [
    "#balance por hora\n",
    "events_by_hourgroup = data.pivot_table(\n",
    "    columns='hour',\n",
    "    index='group',\n",
    "    values='event',\n",
    "    aggfunc='count'\n",
    ")\n",
    "\n",
    "plt.subplots (figsize=(15,3))\n",
    "\n",
    "sns.heatmap(\n",
    "    data= events_by_hourgroup,\n",
    "    linewidths=1,\n",
    "    annot=True,\n",
    "    fmt='d',\n",
    "    annot_kws={'rotation': 90}\n",
    ")\n",
    "\n",
    "plt.show()"
   ]
  },
  {
   "cell_type": "code",
   "execution_count": null,
   "metadata": {},
   "outputs": [
    {
     "name": "stdout",
     "output_type": "stream",
     "text": [
      "                             convA1\n",
      "event                              \n",
      "MainScreenAppear         100.000000\n",
      "OffersScreenAppear        62.938776\n",
      "CartScreenAppear          51.673469\n",
      "PaymentScreenSuccessful   48.979592\n"
     ]
    }
   ],
   "source": [
    "#Tasa de conversion de grupo A1\n",
    "\n",
    "funnel_A1 = (\n",
    "    data.query('group == \"A1\"')\n",
    "    .pivot_table(index='event', values='user', aggfunc='nunique')\n",
    "    .sort_values('user', ascending=False)\n",
    ")\n",
    "\n",
    "n_A1 = funnel_A1['user'].max()\n",
    "funnel_A1['convA1'] = 100*funnel_A1['user'] / n_A1\n",
    "funnel_A1.drop(columns='user', inplace=True)\n",
    "\n",
    "print(funnel_A1) "
   ]
  },
  {
   "cell_type": "code",
   "execution_count": null,
   "metadata": {},
   "outputs": [
    {
     "name": "stdout",
     "output_type": "stream",
     "text": [
      "                             convA1\n",
      "event                              \n",
      "MainScreenAppear         100.000000\n",
      "OffersScreenAppear        61.389338\n",
      "CartScreenAppear          50.000000\n",
      "PaymentScreenSuccessful   46.768982\n"
     ]
    }
   ],
   "source": [
    "#Tasa de conversion de grupo A2\n",
    "\n",
    "funnel_A2 = (\n",
    "    data.query('group == \"A2\"')\n",
    "    .pivot_table(index='event', values='user', aggfunc='nunique')\n",
    "    .sort_values('user', ascending=False)\n",
    ")\n",
    "\n",
    "n_A2 = funnel_A2['user'].max()\n",
    "funnel_A2['convA1'] = 100*funnel_A2['user'] / n_A2\n",
    "funnel_A2.drop(columns='user', inplace=True)\n",
    "\n",
    "print(funnel_A2) "
   ]
  },
  {
   "cell_type": "code",
   "execution_count": null,
   "metadata": {},
   "outputs": [
    {
     "name": "stdout",
     "output_type": "stream",
     "text": [
      "                             convA1\n",
      "event                              \n",
      "MainScreenAppear         100.000000\n",
      "OffersScreenAppear        61.411953\n",
      "CartScreenAppear          49.338147\n",
      "PaymentScreenSuccessful   47.372643\n"
     ]
    }
   ],
   "source": [
    "#Tasa de conversion de grupo B\n",
    "\n",
    "funnel_B = (\n",
    "    data.query('group == \"B\"')\n",
    "    .pivot_table(index='event', values='user', aggfunc='nunique')\n",
    "    .sort_values('user', ascending=False)\n",
    ")\n",
    "\n",
    "n_B = funnel_B['user'].max()\n",
    "funnel_B['convA1'] = 100*funnel_B['user'] / n_B\n",
    "funnel_B.drop(columns='user', inplace=True)\n",
    "\n",
    "print(funnel_B) "
   ]
  },
  {
   "cell_type": "code",
   "execution_count": null,
   "metadata": {},
   "outputs": [
    {
     "name": "stdout",
     "output_type": "stream",
     "text": [
      "                                 A1          A2           B\n",
      "event                                                      \n",
      "MainScreenAppear         100.000000  100.000000  100.000000\n",
      "OffersScreenAppear        62.938776   61.389338   61.411953\n",
      "CartScreenAppear          51.673469   50.000000   49.338147\n",
      "PaymentScreenSuccessful   48.979592   46.768982   47.372643\n"
     ]
    }
   ],
   "source": [
    "#funnel agregado\n",
    "\n",
    "funnel = (\n",
    "    funnel_A1\n",
    "    .merge(funnel_A2, on= 'event')\n",
    "    .merge(funnel_B, on='event')\n",
    ")\n",
    "\n",
    "funnel.columns = ['A1', 'A2', 'B']  \n",
    "\n",
    "print(funnel)"
   ]
  },
  {
   "cell_type": "code",
   "execution_count": null,
   "metadata": {},
   "outputs": [
    {
     "data": {
      "image/png": "[encoded data removed]",
      "text/plain": [
       "<Figure size 640x480 with 1 Axes>"
      ]
     },
     "metadata": {},
     "output_type": "display_data"
    }
   ],
   "source": [
    "#Visualizacion de funnel\n",
    "\n",
    "sns.set_palette(['darkblue', 'blue', 'red'])\n",
    "\n",
    "sns.lineplot(data=funnel, marker='o')\n",
    "\n",
    "\n",
    "\n",
    "plt.xticks(rotation=45)\n",
    "plt.show()"
   ]
  },
  {
   "cell_type": "markdown",
   "metadata": {},
   "source": [
    "**Pruebas de hipotesis**\n",
    "\n",
    "- Hipotesis nula: No hay diferencias significativas entre los grupos experimentales\n",
    "- hipotesis alternativa: Existen diferencias significativas entre los grupos experimentales"
   ]
  },
  {
   "cell_type": "code",
   "execution_count": null,
   "metadata": {},
   "outputs": [
    {
     "data": {
      "text/plain": [
       "A1    2450\n",
       "A2    2476\n",
       "B     2493\n",
       "dtype: int64"
      ]
     },
     "execution_count": 29,
     "metadata": {},
     "output_type": "execute_result"
    }
   ],
   "source": [
    "#Tener una serie con el numero de observaciones de cada grupo\n",
    "n = pd.Series([n_A1, n_A2, n_B], index=['A1', 'A2', 'B'])\n",
    "n"
   ]
  },
  {
   "cell_type": "code",
   "execution_count": null,
   "metadata": {},
   "outputs": [
    {
     "name": "stdout",
     "output_type": "stream",
     "text": [
      "Valor p: 26.2%\n",
      "Intervalo de confianza para A1: [61.0%, 64.9%]\n",
      "Intervalo de confianza para A2: [59.5%, 63.3%]\n",
      "No se rechaza la hipotesis nula: Las tasas de conversion son iguales\n"
     ]
    }
   ],
   "source": [
    "# Prueba de hipotesis en el evento offerscreenappear antre A1 y A2\n",
    "\n",
    "#Significancia\n",
    "alpha = 0.05\n",
    "\n",
    "#Exitos de la muestra 1\n",
    "p_1 = funnel.loc['OffersScreenAppear', 'A1'] /100\n",
    "suc_1 = int(p_1*n['A1'])\n",
    "#suc_1\n",
    "\n",
    "#Exitos de la muestra 2\n",
    "p_2 = funnel.loc['OffersScreenAppear', 'A2'] /100\n",
    "suc_2 = int(p_2*n['A2'])\n",
    "#suc_2\n",
    "\n",
    "#Consolidar en una lista los existos y observaciones\n",
    "suc = [suc_1, suc_2]\n",
    "obs = [n['A1'], n['A2']]\n",
    "\n",
    "#Prueba de hipotesis\n",
    "z_stat, p_value = proportions_ztest(\n",
    "    count=suc,\n",
    "    nobs=obs,\n",
    "    alternative='two-sided'\n",
    ")\n",
    "\n",
    "print (f'Valor p: {p_value:.1%}')\n",
    "\n",
    "#Calcular los intervalos de confianza\n",
    "(inf_1, inf_2), (sup_1, sup_2) = proportion_confint(\n",
    "    count=suc,\n",
    "    nobs=obs,\n",
    "    alpha=alpha\n",
    ")\n",
    "print(f'Intervalo de confianza para A1: [{inf_1:.1%}, {sup_1:.1%}]')\n",
    "print(f'Intervalo de confianza para A2: [{inf_2:.1%}, {sup_2:.1%}]')\n",
    "\n",
    "#Criterio de decision\n",
    "\n",
    "if p_value > alpha:\n",
    "    print('No se rechaza la hipotesis nula: Las tasas de conversion son iguales')\n",
    "else:\n",
    "    print('Se rechaza la hipotesis nula: Las tasas de conversion son diferentes')"
   ]
  },
  {
   "cell_type": "code",
   "execution_count": null,
   "metadata": {},
   "outputs": [],
   "source": [
    "#Funcion secuencial para pruebas de hipotesis\n",
    "def prueba_ab (evento, g1, g2 , alpha=0.05):\n",
    "    p_1 = funnel.loc[evento, g1] /100\n",
    "    suc_1 = int(p_1*n[g1])\n",
    "\n",
    "    p_2 = funnel.loc[evento, g2] /100\n",
    "    suc_2 = int(p_2*n[g2])\n",
    "\n",
    "    suc = [suc_1, suc_2]\n",
    "    obs = [n[g1], n[g2]]\n",
    "\n",
    "    z_stat, p_value = proportions_ztest(\n",
    "        count=suc,\n",
    "        nobs=obs,\n",
    "        alternative='two-sided'\n",
    "    )\n",
    "\n",
    "    print (f'Valor p: {p_value:.1%}')\n",
    "    (inf_1, inf_2), (sup_1, sup_2) = proportion_confint(\n",
    "        count=suc,\n",
    "        nobs=obs,\n",
    "        alpha=alpha\n",
    "    )\n",
    "\n",
    "\n",
    "    print(f'Intervalo de confianza para {g1}: [{inf_1:.1%}, {sup_1:.1%}]')\n",
    "    print(f'Intervalo de confianza para {g2}: [{inf_2:.1%}, {sup_2:.1%}]')\n",
    "\n",
    "    if p_value > alpha:\n",
    "        print('No se rechaza la hipotesis nula: Las tasas de conversion son iguales')\n",
    "    else:\n",
    "        print('Se rechaza la hipotesis nula: Las tasas de conversion son diferentes')\n",
    "    return p_value"
   ]
  },
  {
   "cell_type": "code",
   "execution_count": null,
   "metadata": {},
   "outputs": [
    {
     "name": "stdout",
     "output_type": "stream",
     "text": [
      "EVENTO: OffersScreenAppear\n",
      "====================\n",
      "Valor p: 26.2%\n",
      "Intervalo de confianza para A1: [61.0%, 64.9%]\n",
      "Intervalo de confianza para A2: [59.5%, 63.3%]\n",
      "No se rechaza la hipotesis nula: Las tasas de conversion son iguales\n",
      "\n",
      "\n",
      "EVENTO: CartScreenAppear\n",
      "====================\n",
      "Valor p: 24.0%\n",
      "Intervalo de confianza para A1: [49.7%, 53.7%]\n",
      "Intervalo de confianza para A2: [48.0%, 52.0%]\n",
      "No se rechaza la hipotesis nula: Las tasas de conversion son iguales\n",
      "\n",
      "\n",
      "EVENTO: PaymentScreenSuccessful\n",
      "====================\n",
      "Valor p: 12.0%\n",
      "Intervalo de confianza para A1: [47.0%, 51.0%]\n",
      "Intervalo de confianza para A2: [44.8%, 48.7%]\n",
      "No se rechaza la hipotesis nula: Las tasas de conversion son iguales\n",
      "\n",
      "\n"
     ]
    }
   ],
   "source": [
    "#Hacer los test para cada evento entro los dintintos grupos\n",
    "\n",
    "#Comprobacion entre grupos A1 y A2\n",
    "A1_A2 = []\n",
    "for e in funnel.index[1:]:\n",
    "    print(f'EVENTO: {e}')\n",
    "    print('====================')\n",
    "    A1_A2.append(prueba_ab(e, 'A1', 'A2'))\n",
    "    print('\\n')\n",
    "    "
   ]
  },
  {
   "cell_type": "code",
   "execution_count": null,
   "metadata": {},
   "outputs": [
    {
     "name": "stdout",
     "output_type": "stream",
     "text": [
      "EVENTO: OffersScreenAppear\n",
      "====================\n",
      "Valor p: 25.6%\n",
      "Intervalo de confianza para A1: [61.0%, 64.9%]\n",
      "Intervalo de confianza para B: [59.5%, 63.3%]\n",
      "No se rechaza la hipotesis nula: Las tasas de conversion son iguales\n",
      "\n",
      "\n",
      "EVENTO: CartScreenAppear\n",
      "====================\n",
      "Valor p: 10.1%\n",
      "Intervalo de confianza para A1: [49.7%, 53.7%]\n",
      "Intervalo de confianza para B: [47.4%, 51.3%]\n",
      "No se rechaza la hipotesis nula: Las tasas de conversion son iguales\n",
      "\n",
      "\n",
      "EVENTO: PaymentScreenSuccessful\n",
      "====================\n",
      "Valor p: 25.8%\n",
      "Intervalo de confianza para A1: [47.0%, 51.0%]\n",
      "Intervalo de confianza para B: [45.4%, 49.3%]\n",
      "No se rechaza la hipotesis nula: Las tasas de conversion son iguales\n",
      "\n",
      "\n"
     ]
    }
   ],
   "source": [
    "#Comprobacion entre grupos A1 y b\n",
    "A1_B = []\n",
    "for e in funnel.index[1:]:\n",
    "    print(f'EVENTO: {e}')\n",
    "    print('====================')\n",
    "    A1_B.append(prueba_ab(e, 'A1', 'B'))\n",
    "    print('\\n')"
   ]
  },
  {
   "cell_type": "code",
   "execution_count": null,
   "metadata": {},
   "outputs": [
    {
     "name": "stdout",
     "output_type": "stream",
     "text": [
      "EVENTO: OffersScreenAppear\n",
      "====================\n",
      "Valor p: 99.0%\n",
      "Intervalo de confianza para A2: [59.5%, 63.3%]\n",
      "Intervalo de confianza para B: [59.5%, 63.3%]\n",
      "No se rechaza la hipotesis nula: Las tasas de conversion son iguales\n",
      "\n",
      "\n",
      "EVENTO: CartScreenAppear\n",
      "====================\n",
      "Valor p: 64.1%\n",
      "Intervalo de confianza para A2: [48.0%, 52.0%]\n",
      "Intervalo de confianza para B: [47.4%, 51.3%]\n",
      "No se rechaza la hipotesis nula: Las tasas de conversion son iguales\n",
      "\n",
      "\n",
      "EVENTO: PaymentScreenSuccessful\n",
      "====================\n",
      "Valor p: 67.0%\n",
      "Intervalo de confianza para A2: [44.8%, 48.7%]\n",
      "Intervalo de confianza para B: [45.4%, 49.3%]\n",
      "No se rechaza la hipotesis nula: Las tasas de conversion son iguales\n",
      "\n",
      "\n"
     ]
    }
   ],
   "source": [
    "#Comprobacion entre grupos A2 y B\n",
    "A2_B = []\n",
    "for e in funnel.index[1:]:\n",
    "    print(f'EVENTO: {e}')\n",
    "    print('====================')\n",
    "    A2_B.append(prueba_ab(e, 'A2', 'B'))\n",
    "    print('\\n')"
   ]
  },
  {
   "cell_type": "code",
   "execution_count": null,
   "metadata": {},
   "outputs": [
    {
     "name": "stdout",
     "output_type": "stream",
     "text": [
      "                           A1vsA2     A1vsB\n",
      "event                                      \n",
      "OffersScreenAppear       0.262234  0.256105\n",
      "CartScreenAppear         0.240123  0.100610\n",
      "PaymentScreenSuccessful  0.120443  0.258264\n",
      "\n",
      "\n",
      "                     event   group    signif\n",
      "0       OffersScreenAppear  A1vsA2  0.262234\n",
      "1         CartScreenAppear  A1vsA2  0.240123\n",
      "2  PaymentScreenSuccessful  A1vsA2  0.120443\n",
      "3       OffersScreenAppear   A1vsB  0.256105\n",
      "4         CartScreenAppear   A1vsB  0.100610\n",
      "5  PaymentScreenSuccessful   A1vsB  0.258264\n"
     ]
    }
   ],
   "source": [
    "signif = pd.DataFrame(dict(\n",
    "    A1vsA2 = A1_A2,\n",
    "    A1vsB = A1_B,\n",
    "),index = funnel.index[1:])\n",
    "\n",
    "print(signif)\n",
    "print('\\n')\n",
    "\n",
    "signif = signif.reset_index().melt(id_vars= 'event', var_name='group', value_name='signif')\n",
    "print(signif)"
   ]
  },
  {
   "cell_type": "code",
   "execution_count": null,
   "metadata": {},
   "outputs": [
    {
     "data": {
      "image/png": "[encoded data removed]",
      "text/plain": [
       "<Figure size 640x480 with 1 Axes>"
      ]
     },
     "metadata": {},
     "output_type": "display_data"
    }
   ],
   "source": [
    "sns.set_palette([ 'blue', 'red'])\n",
    "\n",
    "sns.barplot(\n",
    "    data=signif,\n",
    "    x='event',\n",
    "    y='signif',\n",
    "    hue='group'\n",
    ")\n",
    "\n",
    "plt.axhline(y=0.05, color='black', linestyle='--')\n",
    "plt.axhline(y=0.1, color='black', linestyle='--')\n",
    "\n",
    "plt.show()"
   ]
  }
 ],
 "metadata": {
  "kernelspec": {
   "display_name": "Python 3",
   "language": "python",
   "name": "python3"
  },
  "language_info": {
   "codemirror_mode": {
    "name": "ipython",
    "version": 3
   },
   "file_extension": ".py",
   "mimetype": "text/x-python",
   "name": "python",
   "nbconvert_exporter": "python",
   "pygments_lexer": "ipython3",
   "version": "3.13.2"
  }
 },
 "nbformat": 4,
 "nbformat_minor": 2
}
