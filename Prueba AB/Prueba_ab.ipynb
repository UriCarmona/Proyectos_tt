{
 "cells": [
  {
   "cell_type": "markdown",
   "id": "f0f4294d",
   "metadata": {},
   "source": [
    "# Proyecto de pruebas A/B"
   ]
  },
  {
   "cell_type": "markdown",
   "id": "1fd663ce",
   "metadata": {},
   "source": [
    "### Ejercicio\n",
    "Has recibido una tarea analítica de una tienda en línea internacional. Tus predecesores no consiguieron completarla: lanzaron una prueba A/B y luego abandonaron (para iniciar una granja de sandías en Brasil). Solo dejaron las especificaciones técnicas y los resultados de las pruebas.\n",
    "\n",
    "- Descripción técnica\n",
    "    - Nombre de la prueba: recommender_system_test\n",
    "    - Grupos: А (control), B (nuevo embudo de pago)\n",
    "    - Fecha de lanzamiento: 2020-12-07\n",
    "    - Fecha en la que dejaron de aceptar nuevos usuarios: 2020-12-21\n",
    "    - Fecha de finalización: 2021-01-01\n",
    "    - Audiencia: 15% de los nuevos usuarios de la región de la UE\n",
    "    - Propósito de la prueba: probar cambios relacionados con la introducción de un sistema de recomendaciones mejorado\n",
    "    - Resultado esperado: dentro de los 14 días posteriores a la inscripción, los usuarios mostrarán una mejor conversión en vistas de la página del        producto `(el evento product_page)`, instancias de agregar artículos al carrito de compras `(product_cart)` y compras `(purchase)`. En cada etapa del embudo product_page → product_cart → purchase, habrá al menos un 10% de aumento.\n",
    "    - Número previsto de participantes de la prueba: 6 000"
   ]
  },
  {
   "cell_type": "code",
   "execution_count": 343,
   "id": "f97ef5b9",
   "metadata": {},
   "outputs": [],
   "source": [
    "# Carga de librerias\n",
    "import pandas as pd\n",
    "import numpy as np\n",
    "from scipy import stats\n",
    "import matplotlib.pyplot as plt\n",
    "import seaborn as sns\n",
    "from IPython.display import display, HTML"
   ]
  },
  {
   "cell_type": "code",
   "execution_count": 344,
   "id": "ab8473b6",
   "metadata": {},
   "outputs": [],
   "source": [
    "# Carga de datos\n",
    "marketing_events = pd.read_csv('ab_project_marketing_events_us.csv', sep=',')\n",
    "events = pd.read_csv('final_ab_events_upd_us.csv', sep=',')\n",
    "new_users = pd.read_csv('final_ab_new_users_upd_us.csv', sep=',')\n",
    "participants = pd.read_csv('final_ab_participants_upd_us.csv', sep=',')"
   ]
  },
  {
   "cell_type": "markdown",
   "id": "edda9dcc",
   "metadata": {},
   "source": [
    "### Muestra de datos\n"
   ]
  },
  {
   "cell_type": "markdown",
   "id": "0eca6df3",
   "metadata": {},
   "source": [
    "### Primer archivo `marketing_events_us.csv`\n"
   ]
  },
  {
   "cell_type": "code",
   "execution_count": 345,
   "id": "fbe6bc4c",
   "metadata": {},
   "outputs": [
    {
     "name": "stdout",
     "output_type": "stream",
     "text": [
      "<class 'pandas.core.frame.DataFrame'>\n",
      "RangeIndex: 14 entries, 0 to 13\n",
      "Data columns (total 4 columns):\n",
      " #   Column     Non-Null Count  Dtype \n",
      "---  ------     --------------  ----- \n",
      " 0   name       14 non-null     object\n",
      " 1   regions    14 non-null     object\n",
      " 2   start_dt   14 non-null     object\n",
      " 3   finish_dt  14 non-null     object\n",
      "dtypes: object(4)\n",
      "memory usage: 580.0+ bytes\n"
     ]
    }
   ],
   "source": [
    "\n",
    "marketing_events.info()"
   ]
  },
  {
   "cell_type": "code",
   "execution_count": 346,
   "id": "671c803b",
   "metadata": {},
   "outputs": [
    {
     "data": {
      "application/vnd.microsoft.datawrangler.viewer.v0+json": {
       "columns": [
        {
         "name": "index",
         "rawType": "int64",
         "type": "integer"
        },
        {
         "name": "name",
         "rawType": "object",
         "type": "string"
        },
        {
         "name": "regions",
         "rawType": "object",
         "type": "string"
        },
        {
         "name": "start_dt",
         "rawType": "object",
         "type": "string"
        },
        {
         "name": "finish_dt",
         "rawType": "object",
         "type": "string"
        }
       ],
       "conversionMethod": "pd.DataFrame",
       "ref": "eddbab08-da86-4111-a4c0-8f7d1c7ea726",
       "rows": [
        [
         "0",
         "Christmas&New Year Promo",
         "EU, N.America",
         "2020-12-25",
         "2021-01-03"
        ],
        [
         "1",
         "St. Valentine's Day Giveaway",
         "EU, CIS, APAC, N.America",
         "2020-02-14",
         "2020-02-16"
        ],
        [
         "2",
         "St. Patric's Day Promo",
         "EU, N.America",
         "2020-03-17",
         "2020-03-19"
        ],
        [
         "3",
         "Easter Promo",
         "EU, CIS, APAC, N.America",
         "2020-04-12",
         "2020-04-19"
        ],
        [
         "4",
         "4th of July Promo",
         "N.America",
         "2020-07-04",
         "2020-07-11"
        ],
        [
         "5",
         "Black Friday Ads Campaign",
         "EU, CIS, APAC, N.America",
         "2020-11-26",
         "2020-12-01"
        ],
        [
         "6",
         "Chinese New Year Promo",
         "APAC",
         "2020-01-25",
         "2020-02-07"
        ],
        [
         "7",
         "Labor day (May 1st) Ads Campaign",
         "EU, CIS, APAC",
         "2020-05-01",
         "2020-05-03"
        ],
        [
         "8",
         "International Women's Day Promo",
         "EU, CIS, APAC",
         "2020-03-08",
         "2020-03-10"
        ],
        [
         "9",
         "Victory Day CIS (May 9th) Event",
         "CIS",
         "2020-05-09",
         "2020-05-11"
        ],
        [
         "10",
         "CIS New Year Gift Lottery",
         "CIS",
         "2020-12-30",
         "2021-01-07"
        ]
       ],
       "shape": {
        "columns": 4,
        "rows": 11
       }
      },
      "text/html": [
       "<div>\n",
       "<style scoped>\n",
       "    .dataframe tbody tr th:only-of-type {\n",
       "        vertical-align: middle;\n",
       "    }\n",
       "\n",
       "    .dataframe tbody tr th {\n",
       "        vertical-align: top;\n",
       "    }\n",
       "\n",
       "    .dataframe thead th {\n",
       "        text-align: right;\n",
       "    }\n",
       "</style>\n",
       "<table border=\"1\" class=\"dataframe\">\n",
       "  <thead>\n",
       "    <tr style=\"text-align: right;\">\n",
       "      <th></th>\n",
       "      <th>name</th>\n",
       "      <th>regions</th>\n",
       "      <th>start_dt</th>\n",
       "      <th>finish_dt</th>\n",
       "    </tr>\n",
       "  </thead>\n",
       "  <tbody>\n",
       "    <tr>\n",
       "      <th>0</th>\n",
       "      <td>Christmas&amp;New Year Promo</td>\n",
       "      <td>EU, N.America</td>\n",
       "      <td>2020-12-25</td>\n",
       "      <td>2021-01-03</td>\n",
       "    </tr>\n",
       "    <tr>\n",
       "      <th>1</th>\n",
       "      <td>St. Valentine's Day Giveaway</td>\n",
       "      <td>EU, CIS, APAC, N.America</td>\n",
       "      <td>2020-02-14</td>\n",
       "      <td>2020-02-16</td>\n",
       "    </tr>\n",
       "    <tr>\n",
       "      <th>2</th>\n",
       "      <td>St. Patric's Day Promo</td>\n",
       "      <td>EU, N.America</td>\n",
       "      <td>2020-03-17</td>\n",
       "      <td>2020-03-19</td>\n",
       "    </tr>\n",
       "    <tr>\n",
       "      <th>3</th>\n",
       "      <td>Easter Promo</td>\n",
       "      <td>EU, CIS, APAC, N.America</td>\n",
       "      <td>2020-04-12</td>\n",
       "      <td>2020-04-19</td>\n",
       "    </tr>\n",
       "    <tr>\n",
       "      <th>4</th>\n",
       "      <td>4th of July Promo</td>\n",
       "      <td>N.America</td>\n",
       "      <td>2020-07-04</td>\n",
       "      <td>2020-07-11</td>\n",
       "    </tr>\n",
       "    <tr>\n",
       "      <th>5</th>\n",
       "      <td>Black Friday Ads Campaign</td>\n",
       "      <td>EU, CIS, APAC, N.America</td>\n",
       "      <td>2020-11-26</td>\n",
       "      <td>2020-12-01</td>\n",
       "    </tr>\n",
       "    <tr>\n",
       "      <th>6</th>\n",
       "      <td>Chinese New Year Promo</td>\n",
       "      <td>APAC</td>\n",
       "      <td>2020-01-25</td>\n",
       "      <td>2020-02-07</td>\n",
       "    </tr>\n",
       "    <tr>\n",
       "      <th>7</th>\n",
       "      <td>Labor day (May 1st) Ads Campaign</td>\n",
       "      <td>EU, CIS, APAC</td>\n",
       "      <td>2020-05-01</td>\n",
       "      <td>2020-05-03</td>\n",
       "    </tr>\n",
       "    <tr>\n",
       "      <th>8</th>\n",
       "      <td>International Women's Day Promo</td>\n",
       "      <td>EU, CIS, APAC</td>\n",
       "      <td>2020-03-08</td>\n",
       "      <td>2020-03-10</td>\n",
       "    </tr>\n",
       "    <tr>\n",
       "      <th>9</th>\n",
       "      <td>Victory Day CIS (May 9th) Event</td>\n",
       "      <td>CIS</td>\n",
       "      <td>2020-05-09</td>\n",
       "      <td>2020-05-11</td>\n",
       "    </tr>\n",
       "    <tr>\n",
       "      <th>10</th>\n",
       "      <td>CIS New Year Gift Lottery</td>\n",
       "      <td>CIS</td>\n",
       "      <td>2020-12-30</td>\n",
       "      <td>2021-01-07</td>\n",
       "    </tr>\n",
       "  </tbody>\n",
       "</table>\n",
       "</div>"
      ],
      "text/plain": [
       "                                name                   regions    start_dt  \\\n",
       "0           Christmas&New Year Promo             EU, N.America  2020-12-25   \n",
       "1       St. Valentine's Day Giveaway  EU, CIS, APAC, N.America  2020-02-14   \n",
       "2             St. Patric's Day Promo             EU, N.America  2020-03-17   \n",
       "3                       Easter Promo  EU, CIS, APAC, N.America  2020-04-12   \n",
       "4                  4th of July Promo                 N.America  2020-07-04   \n",
       "5          Black Friday Ads Campaign  EU, CIS, APAC, N.America  2020-11-26   \n",
       "6             Chinese New Year Promo                      APAC  2020-01-25   \n",
       "7   Labor day (May 1st) Ads Campaign             EU, CIS, APAC  2020-05-01   \n",
       "8    International Women's Day Promo             EU, CIS, APAC  2020-03-08   \n",
       "9    Victory Day CIS (May 9th) Event                       CIS  2020-05-09   \n",
       "10         CIS New Year Gift Lottery                       CIS  2020-12-30   \n",
       "\n",
       "     finish_dt  \n",
       "0   2021-01-03  \n",
       "1   2020-02-16  \n",
       "2   2020-03-19  \n",
       "3   2020-04-19  \n",
       "4   2020-07-11  \n",
       "5   2020-12-01  \n",
       "6   2020-02-07  \n",
       "7   2020-05-03  \n",
       "8   2020-03-10  \n",
       "9   2020-05-11  \n",
       "10  2021-01-07  "
      ]
     },
     "execution_count": 346,
     "metadata": {},
     "output_type": "execute_result"
    }
   ],
   "source": [
    "#Muestra de datos\n",
    "marketing_events.head(11)"
   ]
  },
  {
   "cell_type": "markdown",
   "id": "847548e4",
   "metadata": {},
   "source": [
    "Convertimos el tipo de datos de las columnas de `start_dt` y `finish_dt` a datetime\n"
   ]
  },
  {
   "cell_type": "code",
   "execution_count": 347,
   "id": "51da038e",
   "metadata": {},
   "outputs": [
    {
     "name": "stdout",
     "output_type": "stream",
     "text": [
      "<class 'pandas.core.frame.DataFrame'>\n",
      "RangeIndex: 14 entries, 0 to 13\n",
      "Data columns (total 4 columns):\n",
      " #   Column     Non-Null Count  Dtype         \n",
      "---  ------     --------------  -----         \n",
      " 0   name       14 non-null     object        \n",
      " 1   regions    14 non-null     object        \n",
      " 2   start_dt   14 non-null     datetime64[ns]\n",
      " 3   finish_dt  14 non-null     datetime64[ns]\n",
      "dtypes: datetime64[ns](2), object(2)\n",
      "memory usage: 580.0+ bytes\n"
     ]
    }
   ],
   "source": [
    "#Convertimos el tipo de datos de las columnas de start_dt y finish_dt a datetime\n",
    "marketing_events['start_dt'] = pd.to_datetime(marketing_events['start_dt'])\n",
    "marketing_events['finish_dt'] = pd.to_datetime(marketing_events['finish_dt'])\n",
    "\n",
    "# Comprobamos el tipo de datos de las columnas  \n",
    "marketing_events.info()"
   ]
  },
  {
   "cell_type": "code",
   "execution_count": 348,
   "id": "ba966973",
   "metadata": {},
   "outputs": [
    {
     "data": {
      "text/plain": [
       "np.int64(0)"
      ]
     },
     "execution_count": 348,
     "metadata": {},
     "output_type": "execute_result"
    }
   ],
   "source": [
    "#Comprobamos si hay duplicados en el dataframe\n",
    "marketing_events.duplicated().sum()"
   ]
  },
  {
   "cell_type": "markdown",
   "id": "884cff5d",
   "metadata": {},
   "source": [
    "### Segundo archivo: `events.csv`"
   ]
  },
  {
   "cell_type": "code",
   "execution_count": 349,
   "id": "b6f0bde9",
   "metadata": {},
   "outputs": [
    {
     "name": "stdout",
     "output_type": "stream",
     "text": [
      "<class 'pandas.core.frame.DataFrame'>\n",
      "RangeIndex: 423761 entries, 0 to 423760\n",
      "Data columns (total 4 columns):\n",
      " #   Column      Non-Null Count   Dtype  \n",
      "---  ------      --------------   -----  \n",
      " 0   user_id     423761 non-null  object \n",
      " 1   event_dt    423761 non-null  object \n",
      " 2   event_name  423761 non-null  object \n",
      " 3   details     60314 non-null   float64\n",
      "dtypes: float64(1), object(3)\n",
      "memory usage: 12.9+ MB\n"
     ]
    }
   ],
   "source": [
    "events.info()"
   ]
  },
  {
   "cell_type": "code",
   "execution_count": 350,
   "id": "948191b8",
   "metadata": {},
   "outputs": [
    {
     "data": {
      "application/vnd.microsoft.datawrangler.viewer.v0+json": {
       "columns": [
        {
         "name": "index",
         "rawType": "int64",
         "type": "integer"
        },
        {
         "name": "user_id",
         "rawType": "object",
         "type": "string"
        },
        {
         "name": "event_dt",
         "rawType": "object",
         "type": "string"
        },
        {
         "name": "event_name",
         "rawType": "object",
         "type": "string"
        },
        {
         "name": "details",
         "rawType": "float64",
         "type": "float"
        }
       ],
       "conversionMethod": "pd.DataFrame",
       "ref": "144a0c48-f31b-497d-a67b-7dd11b80c1db",
       "rows": [
        [
         "165740",
         "62AF6F5E8CD71BEA",
         "2020-12-16 06:55:12",
         "product_page",
         null
        ],
        [
         "374039",
         "1DAA4A4466D53646",
         "2020-12-22 07:46:15",
         "login",
         null
        ],
        [
         "142460",
         "F8FDA0C2D2124C12",
         "2020-12-12 08:04:48",
         "product_page",
         null
        ],
        [
         "413074",
         "542E93EBC2DA0F34",
         "2020-12-27 07:09:29",
         "login",
         null
        ],
        [
         "376360",
         "000F1B87E2F87740",
         "2020-12-22 02:40:16",
         "login",
         null
        ],
        [
         "328132",
         "2D82D1C3384BD5DC",
         "2020-12-18 16:32:26",
         "login",
         null
        ],
        [
         "124415",
         "485C195C67C2717C",
         "2020-12-08 17:21:28",
         "product_page",
         null
        ],
        [
         "381811",
         "ABC99D63A3451EF5",
         "2020-12-22 20:32:11",
         "login",
         null
        ],
        [
         "143522",
         "5F9155C14FF5C5FA",
         "2020-12-12 01:41:11",
         "product_page",
         null
        ],
        [
         "224470",
         "1DEEE0A91AB6C173",
         "2020-12-24 04:14:59",
         "product_page",
         null
        ],
        [
         "340203",
         "B4B4AE9399D416E7",
         "2020-12-19 16:27:33",
         "login",
         null
        ]
       ],
       "shape": {
        "columns": 4,
        "rows": 11
       }
      },
      "text/html": [
       "<div>\n",
       "<style scoped>\n",
       "    .dataframe tbody tr th:only-of-type {\n",
       "        vertical-align: middle;\n",
       "    }\n",
       "\n",
       "    .dataframe tbody tr th {\n",
       "        vertical-align: top;\n",
       "    }\n",
       "\n",
       "    .dataframe thead th {\n",
       "        text-align: right;\n",
       "    }\n",
       "</style>\n",
       "<table border=\"1\" class=\"dataframe\">\n",
       "  <thead>\n",
       "    <tr style=\"text-align: right;\">\n",
       "      <th></th>\n",
       "      <th>user_id</th>\n",
       "      <th>event_dt</th>\n",
       "      <th>event_name</th>\n",
       "      <th>details</th>\n",
       "    </tr>\n",
       "  </thead>\n",
       "  <tbody>\n",
       "    <tr>\n",
       "      <th>165740</th>\n",
       "      <td>62AF6F5E8CD71BEA</td>\n",
       "      <td>2020-12-16 06:55:12</td>\n",
       "      <td>product_page</td>\n",
       "      <td>NaN</td>\n",
       "    </tr>\n",
       "    <tr>\n",
       "      <th>374039</th>\n",
       "      <td>1DAA4A4466D53646</td>\n",
       "      <td>2020-12-22 07:46:15</td>\n",
       "      <td>login</td>\n",
       "      <td>NaN</td>\n",
       "    </tr>\n",
       "    <tr>\n",
       "      <th>142460</th>\n",
       "      <td>F8FDA0C2D2124C12</td>\n",
       "      <td>2020-12-12 08:04:48</td>\n",
       "      <td>product_page</td>\n",
       "      <td>NaN</td>\n",
       "    </tr>\n",
       "    <tr>\n",
       "      <th>413074</th>\n",
       "      <td>542E93EBC2DA0F34</td>\n",
       "      <td>2020-12-27 07:09:29</td>\n",
       "      <td>login</td>\n",
       "      <td>NaN</td>\n",
       "    </tr>\n",
       "    <tr>\n",
       "      <th>376360</th>\n",
       "      <td>000F1B87E2F87740</td>\n",
       "      <td>2020-12-22 02:40:16</td>\n",
       "      <td>login</td>\n",
       "      <td>NaN</td>\n",
       "    </tr>\n",
       "    <tr>\n",
       "      <th>328132</th>\n",
       "      <td>2D82D1C3384BD5DC</td>\n",
       "      <td>2020-12-18 16:32:26</td>\n",
       "      <td>login</td>\n",
       "      <td>NaN</td>\n",
       "    </tr>\n",
       "    <tr>\n",
       "      <th>124415</th>\n",
       "      <td>485C195C67C2717C</td>\n",
       "      <td>2020-12-08 17:21:28</td>\n",
       "      <td>product_page</td>\n",
       "      <td>NaN</td>\n",
       "    </tr>\n",
       "    <tr>\n",
       "      <th>381811</th>\n",
       "      <td>ABC99D63A3451EF5</td>\n",
       "      <td>2020-12-22 20:32:11</td>\n",
       "      <td>login</td>\n",
       "      <td>NaN</td>\n",
       "    </tr>\n",
       "    <tr>\n",
       "      <th>143522</th>\n",
       "      <td>5F9155C14FF5C5FA</td>\n",
       "      <td>2020-12-12 01:41:11</td>\n",
       "      <td>product_page</td>\n",
       "      <td>NaN</td>\n",
       "    </tr>\n",
       "    <tr>\n",
       "      <th>224470</th>\n",
       "      <td>1DEEE0A91AB6C173</td>\n",
       "      <td>2020-12-24 04:14:59</td>\n",
       "      <td>product_page</td>\n",
       "      <td>NaN</td>\n",
       "    </tr>\n",
       "    <tr>\n",
       "      <th>340203</th>\n",
       "      <td>B4B4AE9399D416E7</td>\n",
       "      <td>2020-12-19 16:27:33</td>\n",
       "      <td>login</td>\n",
       "      <td>NaN</td>\n",
       "    </tr>\n",
       "  </tbody>\n",
       "</table>\n",
       "</div>"
      ],
      "text/plain": [
       "                 user_id             event_dt    event_name  details\n",
       "165740  62AF6F5E8CD71BEA  2020-12-16 06:55:12  product_page      NaN\n",
       "374039  1DAA4A4466D53646  2020-12-22 07:46:15         login      NaN\n",
       "142460  F8FDA0C2D2124C12  2020-12-12 08:04:48  product_page      NaN\n",
       "413074  542E93EBC2DA0F34  2020-12-27 07:09:29         login      NaN\n",
       "376360  000F1B87E2F87740  2020-12-22 02:40:16         login      NaN\n",
       "328132  2D82D1C3384BD5DC  2020-12-18 16:32:26         login      NaN\n",
       "124415  485C195C67C2717C  2020-12-08 17:21:28  product_page      NaN\n",
       "381811  ABC99D63A3451EF5  2020-12-22 20:32:11         login      NaN\n",
       "143522  5F9155C14FF5C5FA  2020-12-12 01:41:11  product_page      NaN\n",
       "224470  1DEEE0A91AB6C173  2020-12-24 04:14:59  product_page      NaN\n",
       "340203  B4B4AE9399D416E7  2020-12-19 16:27:33         login      NaN"
      ]
     },
     "execution_count": 350,
     "metadata": {},
     "output_type": "execute_result"
    }
   ],
   "source": [
    "#Muestra de datos\n",
    "events.sample(11)"
   ]
  },
  {
   "cell_type": "markdown",
   "id": "64fba607",
   "metadata": {},
   "source": [
    "Convertimos el tipo de datos de la columna `event_dt` a datetime\n"
   ]
  },
  {
   "cell_type": "code",
   "execution_count": 351,
   "id": "fc0e27b6",
   "metadata": {},
   "outputs": [
    {
     "name": "stdout",
     "output_type": "stream",
     "text": [
      "<class 'pandas.core.frame.DataFrame'>\n",
      "RangeIndex: 423761 entries, 0 to 423760\n",
      "Data columns (total 4 columns):\n",
      " #   Column      Non-Null Count   Dtype         \n",
      "---  ------      --------------   -----         \n",
      " 0   user_id     423761 non-null  object        \n",
      " 1   event_dt    423761 non-null  datetime64[ns]\n",
      " 2   event_name  423761 non-null  object        \n",
      " 3   details     60314 non-null   float64       \n",
      "dtypes: datetime64[ns](1), float64(1), object(2)\n",
      "memory usage: 12.9+ MB\n"
     ]
    }
   ],
   "source": [
    "#Convertimos el tipo de datos de las columnas de start_dt y finish_dt a datetime\n",
    "events['event_dt'] = pd.to_datetime(events['event_dt'])\n",
    "\n",
    "# Comprobamos el tipo de datos de las columnas  \n",
    "events.info()"
   ]
  },
  {
   "cell_type": "code",
   "execution_count": 352,
   "id": "a6ced234",
   "metadata": {},
   "outputs": [
    {
     "data": {
      "text/plain": [
       "array(['purchase', 'product_cart', 'product_page', 'login'], dtype=object)"
      ]
     },
     "execution_count": 352,
     "metadata": {},
     "output_type": "execute_result"
    }
   ],
   "source": [
    "#analizamos valores unicos de la columna event_name\n",
    "events['event_name'].unique()"
   ]
  },
  {
   "cell_type": "markdown",
   "id": "1f8e4087",
   "metadata": {},
   "source": [
    "Para los valores ausentes en la columna `details` es normal, debido a que no todos los eventos terminaron comprando. Por lo tanto, no es necesario eliminar estos valores ausentes. "
   ]
  },
  {
   "cell_type": "markdown",
   "id": "2366a449",
   "metadata": {},
   "source": [
    "### Tercer archivo: `new_users.csv`"
   ]
  },
  {
   "cell_type": "code",
   "execution_count": 353,
   "id": "3e234e5a",
   "metadata": {},
   "outputs": [
    {
     "name": "stdout",
     "output_type": "stream",
     "text": [
      "<class 'pandas.core.frame.DataFrame'>\n",
      "RangeIndex: 58703 entries, 0 to 58702\n",
      "Data columns (total 4 columns):\n",
      " #   Column      Non-Null Count  Dtype \n",
      "---  ------      --------------  ----- \n",
      " 0   user_id     58703 non-null  object\n",
      " 1   first_date  58703 non-null  object\n",
      " 2   region      58703 non-null  object\n",
      " 3   device      58703 non-null  object\n",
      "dtypes: object(4)\n",
      "memory usage: 1.8+ MB\n"
     ]
    }
   ],
   "source": [
    "new_users.info()"
   ]
  },
  {
   "cell_type": "code",
   "execution_count": 354,
   "id": "3a1bbbfb",
   "metadata": {},
   "outputs": [
    {
     "data": {
      "application/vnd.microsoft.datawrangler.viewer.v0+json": {
       "columns": [
        {
         "name": "index",
         "rawType": "int64",
         "type": "integer"
        },
        {
         "name": "user_id",
         "rawType": "object",
         "type": "string"
        },
        {
         "name": "first_date",
         "rawType": "object",
         "type": "string"
        },
        {
         "name": "region",
         "rawType": "object",
         "type": "string"
        },
        {
         "name": "device",
         "rawType": "object",
         "type": "string"
        }
       ],
       "conversionMethod": "pd.DataFrame",
       "ref": "8dc2ec25-da02-469c-8470-8691b169476d",
       "rows": [
        [
         "7622",
         "E51E39F1E4BF4567",
         "2020-12-14",
         "APAC",
         "Android"
        ],
        [
         "45702",
         "0AFF58884FF696F9",
         "2020-12-12",
         "N.America",
         "iPhone"
        ],
        [
         "53968",
         "A1445CD2207E312E",
         "2020-12-13",
         "APAC",
         "PC"
        ],
        [
         "2110",
         "320CE96A266DF0CC",
         "2020-12-07",
         "EU",
         "Android"
        ],
        [
         "44723",
         "50221A8D91AB25CC",
         "2020-12-12",
         "EU",
         "iPhone"
        ],
        [
         "9931",
         "6B3132292D7B6E2D",
         "2020-12-14",
         "EU",
         "Android"
        ],
        [
         "56540",
         "6DD4631EDB9E9BB2",
         "2020-12-20",
         "EU",
         "iPhone"
        ],
        [
         "11553",
         "B5836DC912FAAB7C",
         "2020-12-21",
         "EU",
         "iPhone"
        ],
        [
         "35000",
         "81971E00E433A4AD",
         "2020-12-17",
         "N.America",
         "Mac"
        ],
        [
         "36888",
         "85BCB2964422392A",
         "2020-12-17",
         "CIS",
         "iPhone"
        ],
        [
         "21676",
         "D98CC0539F308BC1",
         "2020-12-15",
         "EU",
         "Android"
        ]
       ],
       "shape": {
        "columns": 4,
        "rows": 11
       }
      },
      "text/html": [
       "<div>\n",
       "<style scoped>\n",
       "    .dataframe tbody tr th:only-of-type {\n",
       "        vertical-align: middle;\n",
       "    }\n",
       "\n",
       "    .dataframe tbody tr th {\n",
       "        vertical-align: top;\n",
       "    }\n",
       "\n",
       "    .dataframe thead th {\n",
       "        text-align: right;\n",
       "    }\n",
       "</style>\n",
       "<table border=\"1\" class=\"dataframe\">\n",
       "  <thead>\n",
       "    <tr style=\"text-align: right;\">\n",
       "      <th></th>\n",
       "      <th>user_id</th>\n",
       "      <th>first_date</th>\n",
       "      <th>region</th>\n",
       "      <th>device</th>\n",
       "    </tr>\n",
       "  </thead>\n",
       "  <tbody>\n",
       "    <tr>\n",
       "      <th>7622</th>\n",
       "      <td>E51E39F1E4BF4567</td>\n",
       "      <td>2020-12-14</td>\n",
       "      <td>APAC</td>\n",
       "      <td>Android</td>\n",
       "    </tr>\n",
       "    <tr>\n",
       "      <th>45702</th>\n",
       "      <td>0AFF58884FF696F9</td>\n",
       "      <td>2020-12-12</td>\n",
       "      <td>N.America</td>\n",
       "      <td>iPhone</td>\n",
       "    </tr>\n",
       "    <tr>\n",
       "      <th>53968</th>\n",
       "      <td>A1445CD2207E312E</td>\n",
       "      <td>2020-12-13</td>\n",
       "      <td>APAC</td>\n",
       "      <td>PC</td>\n",
       "    </tr>\n",
       "    <tr>\n",
       "      <th>2110</th>\n",
       "      <td>320CE96A266DF0CC</td>\n",
       "      <td>2020-12-07</td>\n",
       "      <td>EU</td>\n",
       "      <td>Android</td>\n",
       "    </tr>\n",
       "    <tr>\n",
       "      <th>44723</th>\n",
       "      <td>50221A8D91AB25CC</td>\n",
       "      <td>2020-12-12</td>\n",
       "      <td>EU</td>\n",
       "      <td>iPhone</td>\n",
       "    </tr>\n",
       "    <tr>\n",
       "      <th>9931</th>\n",
       "      <td>6B3132292D7B6E2D</td>\n",
       "      <td>2020-12-14</td>\n",
       "      <td>EU</td>\n",
       "      <td>Android</td>\n",
       "    </tr>\n",
       "    <tr>\n",
       "      <th>56540</th>\n",
       "      <td>6DD4631EDB9E9BB2</td>\n",
       "      <td>2020-12-20</td>\n",
       "      <td>EU</td>\n",
       "      <td>iPhone</td>\n",
       "    </tr>\n",
       "    <tr>\n",
       "      <th>11553</th>\n",
       "      <td>B5836DC912FAAB7C</td>\n",
       "      <td>2020-12-21</td>\n",
       "      <td>EU</td>\n",
       "      <td>iPhone</td>\n",
       "    </tr>\n",
       "    <tr>\n",
       "      <th>35000</th>\n",
       "      <td>81971E00E433A4AD</td>\n",
       "      <td>2020-12-17</td>\n",
       "      <td>N.America</td>\n",
       "      <td>Mac</td>\n",
       "    </tr>\n",
       "    <tr>\n",
       "      <th>36888</th>\n",
       "      <td>85BCB2964422392A</td>\n",
       "      <td>2020-12-17</td>\n",
       "      <td>CIS</td>\n",
       "      <td>iPhone</td>\n",
       "    </tr>\n",
       "    <tr>\n",
       "      <th>21676</th>\n",
       "      <td>D98CC0539F308BC1</td>\n",
       "      <td>2020-12-15</td>\n",
       "      <td>EU</td>\n",
       "      <td>Android</td>\n",
       "    </tr>\n",
       "  </tbody>\n",
       "</table>\n",
       "</div>"
      ],
      "text/plain": [
       "                user_id  first_date     region   device\n",
       "7622   E51E39F1E4BF4567  2020-12-14       APAC  Android\n",
       "45702  0AFF58884FF696F9  2020-12-12  N.America   iPhone\n",
       "53968  A1445CD2207E312E  2020-12-13       APAC       PC\n",
       "2110   320CE96A266DF0CC  2020-12-07         EU  Android\n",
       "44723  50221A8D91AB25CC  2020-12-12         EU   iPhone\n",
       "9931   6B3132292D7B6E2D  2020-12-14         EU  Android\n",
       "56540  6DD4631EDB9E9BB2  2020-12-20         EU   iPhone\n",
       "11553  B5836DC912FAAB7C  2020-12-21         EU   iPhone\n",
       "35000  81971E00E433A4AD  2020-12-17  N.America      Mac\n",
       "36888  85BCB2964422392A  2020-12-17        CIS   iPhone\n",
       "21676  D98CC0539F308BC1  2020-12-15         EU  Android"
      ]
     },
     "execution_count": 354,
     "metadata": {},
     "output_type": "execute_result"
    }
   ],
   "source": [
    "#Muestra de datos\n",
    "new_users.sample(11)"
   ]
  },
  {
   "cell_type": "code",
   "execution_count": 355,
   "id": "7d9bb70c",
   "metadata": {},
   "outputs": [
    {
     "data": {
      "text/plain": [
       "array(['EU', 'N.America', 'APAC', 'CIS'], dtype=object)"
      ]
     },
     "execution_count": 355,
     "metadata": {},
     "output_type": "execute_result"
    }
   ],
   "source": [
    "# validamos datos unicos en la columna de region\n",
    "new_users['region'].unique()"
   ]
  },
  {
   "cell_type": "code",
   "execution_count": 356,
   "id": "5aa57d78",
   "metadata": {},
   "outputs": [
    {
     "data": {
      "application/vnd.microsoft.datawrangler.viewer.v0+json": {
       "columns": [
        {
         "name": "index",
         "rawType": "int64",
         "type": "integer"
        },
        {
         "name": "user_id",
         "rawType": "object",
         "type": "string"
        },
        {
         "name": "first_date",
         "rawType": "object",
         "type": "string"
        },
        {
         "name": "region",
         "rawType": "object",
         "type": "string"
        },
        {
         "name": "device",
         "rawType": "object",
         "type": "string"
        },
        {
         "name": "region_s",
         "rawType": "object",
         "type": "string"
        }
       ],
       "conversionMethod": "pd.DataFrame",
       "ref": "de315a12-141f-4c0e-803c-9ac3c979e9be",
       "rows": [
        [
         "19322",
         "8CAD73CBC0CA4A48",
         "2020-12-08",
         "EU",
         "PC",
         "UNION EUROPEA"
        ],
        [
         "36849",
         "87DB490C0D56F3CC",
         "2020-12-17",
         "N.America",
         "Android",
         "NORTE AMERICA"
        ],
        [
         "8032",
         "D50CD4AF27FBFAE6",
         "2020-12-14",
         "N.America",
         "iPhone",
         "NORTE AMERICA"
        ],
        [
         "33058",
         "CFAC426394D36FA8",
         "2020-12-10",
         "EU",
         "Android",
         "UNION EUROPEA"
        ],
        [
         "17142",
         "10E628CE1AE6562D",
         "2020-12-08",
         "APAC",
         "PC",
         "ASIA-PACIFICO"
        ],
        [
         "37303",
         "E473C937CD368C92",
         "2020-12-17",
         "EU",
         "PC",
         "UNION EUROPEA"
        ],
        [
         "24652",
         "B27BB2F00951DCB8",
         "2020-12-22",
         "EU",
         "iPhone",
         "UNION EUROPEA"
        ],
        [
         "55392",
         "FF397AB41B7A8D9C",
         "2020-12-20",
         "N.America",
         "iPhone",
         "NORTE AMERICA"
        ],
        [
         "14348",
         "31AFB4FCC5A5CB3C",
         "2020-12-21",
         "EU",
         "PC",
         "UNION EUROPEA"
        ],
        [
         "673",
         "9E533297C26C03D1",
         "2020-12-07",
         "EU",
         "PC",
         "UNION EUROPEA"
        ],
        [
         "46207",
         "FD8460923333DC54",
         "2020-12-12",
         "EU",
         "PC",
         "UNION EUROPEA"
        ]
       ],
       "shape": {
        "columns": 5,
        "rows": 11
       }
      },
      "text/html": [
       "<div>\n",
       "<style scoped>\n",
       "    .dataframe tbody tr th:only-of-type {\n",
       "        vertical-align: middle;\n",
       "    }\n",
       "\n",
       "    .dataframe tbody tr th {\n",
       "        vertical-align: top;\n",
       "    }\n",
       "\n",
       "    .dataframe thead th {\n",
       "        text-align: right;\n",
       "    }\n",
       "</style>\n",
       "<table border=\"1\" class=\"dataframe\">\n",
       "  <thead>\n",
       "    <tr style=\"text-align: right;\">\n",
       "      <th></th>\n",
       "      <th>user_id</th>\n",
       "      <th>first_date</th>\n",
       "      <th>region</th>\n",
       "      <th>device</th>\n",
       "      <th>region_s</th>\n",
       "    </tr>\n",
       "  </thead>\n",
       "  <tbody>\n",
       "    <tr>\n",
       "      <th>19322</th>\n",
       "      <td>8CAD73CBC0CA4A48</td>\n",
       "      <td>2020-12-08</td>\n",
       "      <td>EU</td>\n",
       "      <td>PC</td>\n",
       "      <td>UNION EUROPEA</td>\n",
       "    </tr>\n",
       "    <tr>\n",
       "      <th>36849</th>\n",
       "      <td>87DB490C0D56F3CC</td>\n",
       "      <td>2020-12-17</td>\n",
       "      <td>N.America</td>\n",
       "      <td>Android</td>\n",
       "      <td>NORTE AMERICA</td>\n",
       "    </tr>\n",
       "    <tr>\n",
       "      <th>8032</th>\n",
       "      <td>D50CD4AF27FBFAE6</td>\n",
       "      <td>2020-12-14</td>\n",
       "      <td>N.America</td>\n",
       "      <td>iPhone</td>\n",
       "      <td>NORTE AMERICA</td>\n",
       "    </tr>\n",
       "    <tr>\n",
       "      <th>33058</th>\n",
       "      <td>CFAC426394D36FA8</td>\n",
       "      <td>2020-12-10</td>\n",
       "      <td>EU</td>\n",
       "      <td>Android</td>\n",
       "      <td>UNION EUROPEA</td>\n",
       "    </tr>\n",
       "    <tr>\n",
       "      <th>17142</th>\n",
       "      <td>10E628CE1AE6562D</td>\n",
       "      <td>2020-12-08</td>\n",
       "      <td>APAC</td>\n",
       "      <td>PC</td>\n",
       "      <td>ASIA-PACIFICO</td>\n",
       "    </tr>\n",
       "    <tr>\n",
       "      <th>37303</th>\n",
       "      <td>E473C937CD368C92</td>\n",
       "      <td>2020-12-17</td>\n",
       "      <td>EU</td>\n",
       "      <td>PC</td>\n",
       "      <td>UNION EUROPEA</td>\n",
       "    </tr>\n",
       "    <tr>\n",
       "      <th>24652</th>\n",
       "      <td>B27BB2F00951DCB8</td>\n",
       "      <td>2020-12-22</td>\n",
       "      <td>EU</td>\n",
       "      <td>iPhone</td>\n",
       "      <td>UNION EUROPEA</td>\n",
       "    </tr>\n",
       "    <tr>\n",
       "      <th>55392</th>\n",
       "      <td>FF397AB41B7A8D9C</td>\n",
       "      <td>2020-12-20</td>\n",
       "      <td>N.America</td>\n",
       "      <td>iPhone</td>\n",
       "      <td>NORTE AMERICA</td>\n",
       "    </tr>\n",
       "    <tr>\n",
       "      <th>14348</th>\n",
       "      <td>31AFB4FCC5A5CB3C</td>\n",
       "      <td>2020-12-21</td>\n",
       "      <td>EU</td>\n",
       "      <td>PC</td>\n",
       "      <td>UNION EUROPEA</td>\n",
       "    </tr>\n",
       "    <tr>\n",
       "      <th>673</th>\n",
       "      <td>9E533297C26C03D1</td>\n",
       "      <td>2020-12-07</td>\n",
       "      <td>EU</td>\n",
       "      <td>PC</td>\n",
       "      <td>UNION EUROPEA</td>\n",
       "    </tr>\n",
       "    <tr>\n",
       "      <th>46207</th>\n",
       "      <td>FD8460923333DC54</td>\n",
       "      <td>2020-12-12</td>\n",
       "      <td>EU</td>\n",
       "      <td>PC</td>\n",
       "      <td>UNION EUROPEA</td>\n",
       "    </tr>\n",
       "  </tbody>\n",
       "</table>\n",
       "</div>"
      ],
      "text/plain": [
       "                user_id  first_date     region   device       region_s\n",
       "19322  8CAD73CBC0CA4A48  2020-12-08         EU       PC  UNION EUROPEA\n",
       "36849  87DB490C0D56F3CC  2020-12-17  N.America  Android  NORTE AMERICA\n",
       "8032   D50CD4AF27FBFAE6  2020-12-14  N.America   iPhone  NORTE AMERICA\n",
       "33058  CFAC426394D36FA8  2020-12-10         EU  Android  UNION EUROPEA\n",
       "17142  10E628CE1AE6562D  2020-12-08       APAC       PC  ASIA-PACIFICO\n",
       "37303  E473C937CD368C92  2020-12-17         EU       PC  UNION EUROPEA\n",
       "24652  B27BB2F00951DCB8  2020-12-22         EU   iPhone  UNION EUROPEA\n",
       "55392  FF397AB41B7A8D9C  2020-12-20  N.America   iPhone  NORTE AMERICA\n",
       "14348  31AFB4FCC5A5CB3C  2020-12-21         EU       PC  UNION EUROPEA\n",
       "673    9E533297C26C03D1  2020-12-07         EU       PC  UNION EUROPEA\n",
       "46207  FD8460923333DC54  2020-12-12         EU       PC  UNION EUROPEA"
      ]
     },
     "execution_count": 356,
     "metadata": {},
     "output_type": "execute_result"
    }
   ],
   "source": [
    "# Creamos una nueva columna para que los datos de region sean mas semanticos\n",
    "def region(x):\n",
    "    if x == 'EU':\n",
    "        return 'UNION EUROPEA'\n",
    "    elif x == 'N.America':\n",
    "        return 'NORTE AMERICA'\n",
    "    elif x == 'APAC':\n",
    "        return 'ASIA-PACIFICO'\n",
    "    else:\n",
    "        return 'COMUNUNIDAD DE ESTADOS INDEPENDIENTES'\n",
    "new_users['region_s'] = new_users['region'].apply(region)\n",
    "\n",
    "new_users.sample(11)\n",
    "    "
   ]
  },
  {
   "cell_type": "code",
   "execution_count": 357,
   "id": "e3101de6",
   "metadata": {},
   "outputs": [
    {
     "data": {
      "text/plain": [
       "np.int64(0)"
      ]
     },
     "execution_count": 357,
     "metadata": {},
     "output_type": "execute_result"
    }
   ],
   "source": [
    "#Revisamos si hay duplicados en el dataframe\n",
    "new_users.duplicated().sum()"
   ]
  },
  {
   "cell_type": "markdown",
   "id": "0ef5153a",
   "metadata": {},
   "source": [
    "### Cuarto archivo: `participants.csv`"
   ]
  },
  {
   "cell_type": "code",
   "execution_count": 358,
   "id": "5a0c2eb9",
   "metadata": {},
   "outputs": [
    {
     "name": "stdout",
     "output_type": "stream",
     "text": [
      "<class 'pandas.core.frame.DataFrame'>\n",
      "RangeIndex: 14525 entries, 0 to 14524\n",
      "Data columns (total 3 columns):\n",
      " #   Column   Non-Null Count  Dtype \n",
      "---  ------   --------------  ----- \n",
      " 0   user_id  14525 non-null  object\n",
      " 1   group    14525 non-null  object\n",
      " 2   ab_test  14525 non-null  object\n",
      "dtypes: object(3)\n",
      "memory usage: 340.6+ KB\n"
     ]
    }
   ],
   "source": [
    "participants.info()"
   ]
  },
  {
   "cell_type": "code",
   "execution_count": 359,
   "id": "8277fbe3",
   "metadata": {},
   "outputs": [
    {
     "data": {
      "application/vnd.microsoft.datawrangler.viewer.v0+json": {
       "columns": [
        {
         "name": "index",
         "rawType": "int64",
         "type": "integer"
        },
        {
         "name": "user_id",
         "rawType": "object",
         "type": "string"
        },
        {
         "name": "group",
         "rawType": "object",
         "type": "string"
        },
        {
         "name": "ab_test",
         "rawType": "object",
         "type": "string"
        }
       ],
       "conversionMethod": "pd.DataFrame",
       "ref": "a4d3498b-c513-4e59-aab4-598613ba0d84",
       "rows": [
        [
         "8082",
         "76B98E4196DBD07B",
         "A",
         "interface_eu_test"
        ],
        [
         "88",
         "C86F0150DA3B10F2",
         "A",
         "recommender_system_test"
        ],
        [
         "2531",
         "0DB417842D3B79A2",
         "A",
         "recommender_system_test"
        ],
        [
         "10197",
         "3D182147F0C3EC21",
         "B",
         "interface_eu_test"
        ],
        [
         "14501",
         "8155910F11B56B21",
         "A",
         "interface_eu_test"
        ],
        [
         "3105",
         "E62E2664B4743026",
         "A",
         "recommender_system_test"
        ],
        [
         "13580",
         "ADB92D69EEEA3E9A",
         "B",
         "interface_eu_test"
        ],
        [
         "11214",
         "43A01BDD0E721B87",
         "B",
         "interface_eu_test"
        ],
        [
         "12634",
         "F2D9CEE188EDF1B3",
         "A",
         "interface_eu_test"
        ],
        [
         "13995",
         "71C2BB62F75CABCA",
         "A",
         "interface_eu_test"
        ],
        [
         "7284",
         "96BDB7E217039196",
         "B",
         "interface_eu_test"
        ]
       ],
       "shape": {
        "columns": 3,
        "rows": 11
       }
      },
      "text/html": [
       "<div>\n",
       "<style scoped>\n",
       "    .dataframe tbody tr th:only-of-type {\n",
       "        vertical-align: middle;\n",
       "    }\n",
       "\n",
       "    .dataframe tbody tr th {\n",
       "        vertical-align: top;\n",
       "    }\n",
       "\n",
       "    .dataframe thead th {\n",
       "        text-align: right;\n",
       "    }\n",
       "</style>\n",
       "<table border=\"1\" class=\"dataframe\">\n",
       "  <thead>\n",
       "    <tr style=\"text-align: right;\">\n",
       "      <th></th>\n",
       "      <th>user_id</th>\n",
       "      <th>group</th>\n",
       "      <th>ab_test</th>\n",
       "    </tr>\n",
       "  </thead>\n",
       "  <tbody>\n",
       "    <tr>\n",
       "      <th>8082</th>\n",
       "      <td>76B98E4196DBD07B</td>\n",
       "      <td>A</td>\n",
       "      <td>interface_eu_test</td>\n",
       "    </tr>\n",
       "    <tr>\n",
       "      <th>88</th>\n",
       "      <td>C86F0150DA3B10F2</td>\n",
       "      <td>A</td>\n",
       "      <td>recommender_system_test</td>\n",
       "    </tr>\n",
       "    <tr>\n",
       "      <th>2531</th>\n",
       "      <td>0DB417842D3B79A2</td>\n",
       "      <td>A</td>\n",
       "      <td>recommender_system_test</td>\n",
       "    </tr>\n",
       "    <tr>\n",
       "      <th>10197</th>\n",
       "      <td>3D182147F0C3EC21</td>\n",
       "      <td>B</td>\n",
       "      <td>interface_eu_test</td>\n",
       "    </tr>\n",
       "    <tr>\n",
       "      <th>14501</th>\n",
       "      <td>8155910F11B56B21</td>\n",
       "      <td>A</td>\n",
       "      <td>interface_eu_test</td>\n",
       "    </tr>\n",
       "    <tr>\n",
       "      <th>3105</th>\n",
       "      <td>E62E2664B4743026</td>\n",
       "      <td>A</td>\n",
       "      <td>recommender_system_test</td>\n",
       "    </tr>\n",
       "    <tr>\n",
       "      <th>13580</th>\n",
       "      <td>ADB92D69EEEA3E9A</td>\n",
       "      <td>B</td>\n",
       "      <td>interface_eu_test</td>\n",
       "    </tr>\n",
       "    <tr>\n",
       "      <th>11214</th>\n",
       "      <td>43A01BDD0E721B87</td>\n",
       "      <td>B</td>\n",
       "      <td>interface_eu_test</td>\n",
       "    </tr>\n",
       "    <tr>\n",
       "      <th>12634</th>\n",
       "      <td>F2D9CEE188EDF1B3</td>\n",
       "      <td>A</td>\n",
       "      <td>interface_eu_test</td>\n",
       "    </tr>\n",
       "    <tr>\n",
       "      <th>13995</th>\n",
       "      <td>71C2BB62F75CABCA</td>\n",
       "      <td>A</td>\n",
       "      <td>interface_eu_test</td>\n",
       "    </tr>\n",
       "    <tr>\n",
       "      <th>7284</th>\n",
       "      <td>96BDB7E217039196</td>\n",
       "      <td>B</td>\n",
       "      <td>interface_eu_test</td>\n",
       "    </tr>\n",
       "  </tbody>\n",
       "</table>\n",
       "</div>"
      ],
      "text/plain": [
       "                user_id group                  ab_test\n",
       "8082   76B98E4196DBD07B     A        interface_eu_test\n",
       "88     C86F0150DA3B10F2     A  recommender_system_test\n",
       "2531   0DB417842D3B79A2     A  recommender_system_test\n",
       "10197  3D182147F0C3EC21     B        interface_eu_test\n",
       "14501  8155910F11B56B21     A        interface_eu_test\n",
       "3105   E62E2664B4743026     A  recommender_system_test\n",
       "13580  ADB92D69EEEA3E9A     B        interface_eu_test\n",
       "11214  43A01BDD0E721B87     B        interface_eu_test\n",
       "12634  F2D9CEE188EDF1B3     A        interface_eu_test\n",
       "13995  71C2BB62F75CABCA     A        interface_eu_test\n",
       "7284   96BDB7E217039196     B        interface_eu_test"
      ]
     },
     "execution_count": 359,
     "metadata": {},
     "output_type": "execute_result"
    }
   ],
   "source": [
    "# Muestra de datos\n",
    "participants.sample(11)"
   ]
  },
  {
   "cell_type": "code",
   "execution_count": 360,
   "id": "46145f8b",
   "metadata": {},
   "outputs": [
    {
     "name": "stdout",
     "output_type": "stream",
     "text": [
      "group\n",
      "A    8214\n",
      "B    6311\n",
      "Name: count, dtype: int64\n"
     ]
    }
   ],
   "source": [
    "#Verificamos distribucion entre grupos A y B\n",
    "group_distribution = participants['group'].value_counts()\n",
    "print(group_distribution)"
   ]
  },
  {
   "cell_type": "code",
   "execution_count": 361,
   "id": "115b3b4f",
   "metadata": {},
   "outputs": [
    {
     "data": {
      "text/plain": [
       "group\n",
       "A    6311\n",
       "B    6311\n",
       "Name: count, dtype: int64"
      ]
     },
     "execution_count": 361,
     "metadata": {},
     "output_type": "execute_result"
    }
   ],
   "source": [
    "#Muestreo de datos para balancear grupos A y B\n",
    "# Seleccionamos el grupo A y lo balanceamos con el grupo B\n",
    "group_a = participants[participants['group'] == 'A'].sample(n=len(participants[participants['group'] == 'B']), random_state=42)\n",
    "balanced_data = pd.concat([group_a, participants[participants['group'] == 'B']])\n",
    "\n",
    "balanced_data['group'].value_counts()\n",
    "\n"
   ]
  },
  {
   "cell_type": "markdown",
   "id": "4533daad",
   "metadata": {},
   "source": [
    "### Embudo de conversión\n",
    "- `product_page` → `product_cart` → `purchase`"
   ]
  },
  {
   "cell_type": "code",
   "execution_count": 362,
   "id": "343d3e17",
   "metadata": {},
   "outputs": [
    {
     "data": {
      "application/vnd.microsoft.datawrangler.viewer.v0+json": {
       "columns": [
        {
         "name": "index",
         "rawType": "int64",
         "type": "integer"
        },
        {
         "name": "user_id",
         "rawType": "object",
         "type": "string"
        },
        {
         "name": "group",
         "rawType": "object",
         "type": "string"
        },
        {
         "name": "ab_test",
         "rawType": "object",
         "type": "string"
        },
        {
         "name": "first_date",
         "rawType": "object",
         "type": "string"
        },
        {
         "name": "region",
         "rawType": "object",
         "type": "string"
        },
        {
         "name": "device",
         "rawType": "object",
         "type": "string"
        },
        {
         "name": "region_s",
         "rawType": "object",
         "type": "string"
        },
        {
         "name": "event_dt",
         "rawType": "datetime64[ns]",
         "type": "datetime"
        },
        {
         "name": "event_name",
         "rawType": "object",
         "type": "string"
        },
        {
         "name": "details",
         "rawType": "float64",
         "type": "float"
        }
       ],
       "conversionMethod": "pd.DataFrame",
       "ref": "a76f962d-4185-4d29-af29-cec8dcc30da6",
       "rows": [
        [
         "0",
         "D41F3E4CB153371E",
         "A",
         "interface_eu_test",
         "2020-12-19",
         "EU",
         "Android",
         "UNION EUROPEA",
         "2020-12-19 07:34:51",
         "product_page",
         null
        ],
        [
         "1",
         "D41F3E4CB153371E",
         "A",
         "interface_eu_test",
         "2020-12-19",
         "EU",
         "Android",
         "UNION EUROPEA",
         "2020-12-21 01:50:30",
         "product_page",
         null
        ],
        [
         "2",
         "D41F3E4CB153371E",
         "A",
         "interface_eu_test",
         "2020-12-19",
         "EU",
         "Android",
         "UNION EUROPEA",
         "2020-12-23 00:46:12",
         "product_page",
         null
        ],
        [
         "3",
         "D41F3E4CB153371E",
         "A",
         "interface_eu_test",
         "2020-12-19",
         "EU",
         "Android",
         "UNION EUROPEA",
         "2020-12-19 07:34:50",
         "login",
         null
        ],
        [
         "4",
         "D41F3E4CB153371E",
         "A",
         "interface_eu_test",
         "2020-12-19",
         "EU",
         "Android",
         "UNION EUROPEA",
         "2020-12-21 01:50:27",
         "login",
         null
        ],
        [
         "5",
         "D41F3E4CB153371E",
         "A",
         "interface_eu_test",
         "2020-12-19",
         "EU",
         "Android",
         "UNION EUROPEA",
         "2020-12-23 00:46:12",
         "login",
         null
        ],
        [
         "6",
         "7D8B317BEC349961",
         "A",
         "interface_eu_test",
         "2020-12-13",
         "EU",
         "PC",
         "UNION EUROPEA",
         "2020-12-13 02:37:00",
         "product_page",
         null
        ],
        [
         "7",
         "7D8B317BEC349961",
         "A",
         "interface_eu_test",
         "2020-12-13",
         "EU",
         "PC",
         "UNION EUROPEA",
         "2020-12-13 02:37:00",
         "login",
         null
        ],
        [
         "8",
         "5650B53B91DC98BB",
         "A",
         "interface_eu_test",
         "2020-12-18",
         "EU",
         "PC",
         "UNION EUROPEA",
         "2020-12-18 09:50:16",
         "product_page",
         null
        ],
        [
         "9",
         "5650B53B91DC98BB",
         "A",
         "interface_eu_test",
         "2020-12-18",
         "EU",
         "PC",
         "UNION EUROPEA",
         "2020-12-20 16:22:38",
         "product_page",
         null
        ],
        [
         "10",
         "5650B53B91DC98BB",
         "A",
         "interface_eu_test",
         "2020-12-18",
         "EU",
         "PC",
         "UNION EUROPEA",
         "2020-12-22 23:20:06",
         "product_page",
         null
        ],
        [
         "11",
         "5650B53B91DC98BB",
         "A",
         "interface_eu_test",
         "2020-12-18",
         "EU",
         "PC",
         "UNION EUROPEA",
         "2020-12-18 09:50:15",
         "login",
         null
        ],
        [
         "12",
         "5650B53B91DC98BB",
         "A",
         "interface_eu_test",
         "2020-12-18",
         "EU",
         "PC",
         "UNION EUROPEA",
         "2020-12-20 16:22:38",
         "login",
         null
        ],
        [
         "13",
         "5650B53B91DC98BB",
         "A",
         "interface_eu_test",
         "2020-12-18",
         "EU",
         "PC",
         "UNION EUROPEA",
         "2020-12-22 23:20:05",
         "login",
         null
        ],
        [
         "14",
         "6ED57949BDA6D94E",
         "A",
         "recommender_system_test",
         "2020-12-10",
         "EU",
         "iPhone",
         "UNION EUROPEA",
         "2020-12-10 00:00:10",
         "product_page",
         null
        ],
        [
         "15",
         "6ED57949BDA6D94E",
         "A",
         "recommender_system_test",
         "2020-12-10",
         "EU",
         "iPhone",
         "UNION EUROPEA",
         "2020-12-10 00:00:10",
         "login",
         null
        ],
        [
         "16",
         "10EB9927ADD61751",
         "A",
         "recommender_system_test",
         "2020-12-14",
         "EU",
         "Android",
         "UNION EUROPEA",
         "2020-12-14 04:31:34",
         "product_page",
         null
        ],
        [
         "17",
         "10EB9927ADD61751",
         "A",
         "recommender_system_test",
         "2020-12-14",
         "EU",
         "Android",
         "UNION EUROPEA",
         "2020-12-17 21:04:47",
         "product_page",
         null
        ],
        [
         "18",
         "10EB9927ADD61751",
         "A",
         "recommender_system_test",
         "2020-12-14",
         "EU",
         "Android",
         "UNION EUROPEA",
         "2020-12-14 04:31:34",
         "login",
         null
        ],
        [
         "19",
         "10EB9927ADD61751",
         "A",
         "recommender_system_test",
         "2020-12-14",
         "EU",
         "Android",
         "UNION EUROPEA",
         "2020-12-17 21:04:45",
         "login",
         null
        ],
        [
         "20",
         "93C90E45046887F3",
         "A",
         "interface_eu_test",
         "2020-12-15",
         "EU",
         "Android",
         "UNION EUROPEA",
         "2020-12-15 06:19:52",
         "login",
         null
        ],
        [
         "21",
         "93C90E45046887F3",
         "A",
         "interface_eu_test",
         "2020-12-15",
         "EU",
         "Android",
         "UNION EUROPEA",
         "2020-12-16 00:53:53",
         "login",
         null
        ],
        [
         "22",
         "93C90E45046887F3",
         "A",
         "interface_eu_test",
         "2020-12-15",
         "EU",
         "Android",
         "UNION EUROPEA",
         "2020-12-18 07:15:21",
         "login",
         null
        ],
        [
         "23",
         "D173942D5B956D85",
         "A",
         "recommender_system_test",
         "2020-12-19",
         "EU",
         "PC",
         "UNION EUROPEA",
         "2020-12-19 00:57:44",
         "purchase",
         "4.99"
        ],
        [
         "24",
         "D173942D5B956D85",
         "A",
         "recommender_system_test",
         "2020-12-19",
         "EU",
         "PC",
         "UNION EUROPEA",
         "2020-12-20 04:49:04",
         "purchase",
         "9.99"
        ],
        [
         "25",
         "D173942D5B956D85",
         "A",
         "recommender_system_test",
         "2020-12-19",
         "EU",
         "PC",
         "UNION EUROPEA",
         "2020-12-29 15:19:38",
         "purchase",
         "4.99"
        ],
        [
         "26",
         "D173942D5B956D85",
         "A",
         "recommender_system_test",
         "2020-12-19",
         "EU",
         "PC",
         "UNION EUROPEA",
         "2020-12-19 00:57:45",
         "product_cart",
         null
        ],
        [
         "27",
         "D173942D5B956D85",
         "A",
         "recommender_system_test",
         "2020-12-19",
         "EU",
         "PC",
         "UNION EUROPEA",
         "2020-12-20 04:49:04",
         "product_cart",
         null
        ],
        [
         "28",
         "D173942D5B956D85",
         "A",
         "recommender_system_test",
         "2020-12-19",
         "EU",
         "PC",
         "UNION EUROPEA",
         "2020-12-29 15:19:38",
         "product_cart",
         null
        ],
        [
         "29",
         "D173942D5B956D85",
         "A",
         "recommender_system_test",
         "2020-12-19",
         "EU",
         "PC",
         "UNION EUROPEA",
         "2020-12-19 00:57:44",
         "product_page",
         null
        ],
        [
         "30",
         "D173942D5B956D85",
         "A",
         "recommender_system_test",
         "2020-12-19",
         "EU",
         "PC",
         "UNION EUROPEA",
         "2020-12-20 04:49:06",
         "product_page",
         null
        ],
        [
         "31",
         "D173942D5B956D85",
         "A",
         "recommender_system_test",
         "2020-12-19",
         "EU",
         "PC",
         "UNION EUROPEA",
         "2020-12-29 15:19:38",
         "product_page",
         null
        ],
        [
         "32",
         "D173942D5B956D85",
         "A",
         "recommender_system_test",
         "2020-12-19",
         "EU",
         "PC",
         "UNION EUROPEA",
         "2020-12-19 00:57:44",
         "login",
         null
        ],
        [
         "33",
         "D173942D5B956D85",
         "A",
         "recommender_system_test",
         "2020-12-19",
         "EU",
         "PC",
         "UNION EUROPEA",
         "2020-12-20 04:49:04",
         "login",
         null
        ],
        [
         "34",
         "D173942D5B956D85",
         "A",
         "recommender_system_test",
         "2020-12-19",
         "EU",
         "PC",
         "UNION EUROPEA",
         "2020-12-29 15:19:38",
         "login",
         null
        ],
        [
         "35",
         "909F4EF02267D6A3",
         "A",
         "interface_eu_test",
         "2020-12-12",
         "EU",
         "PC",
         "UNION EUROPEA",
         "2020-12-12 09:20:40",
         "product_page",
         null
        ],
        [
         "36",
         "909F4EF02267D6A3",
         "A",
         "interface_eu_test",
         "2020-12-12",
         "EU",
         "PC",
         "UNION EUROPEA",
         "2020-12-14 16:27:16",
         "product_page",
         null
        ],
        [
         "37",
         "909F4EF02267D6A3",
         "A",
         "interface_eu_test",
         "2020-12-12",
         "EU",
         "PC",
         "UNION EUROPEA",
         "2020-12-15 23:26:13",
         "product_page",
         null
        ],
        [
         "38",
         "909F4EF02267D6A3",
         "A",
         "interface_eu_test",
         "2020-12-12",
         "EU",
         "PC",
         "UNION EUROPEA",
         "2020-12-24 11:55:11",
         "product_page",
         null
        ],
        [
         "39",
         "909F4EF02267D6A3",
         "A",
         "interface_eu_test",
         "2020-12-12",
         "EU",
         "PC",
         "UNION EUROPEA",
         "2020-12-26 17:46:32",
         "product_page",
         null
        ],
        [
         "40",
         "909F4EF02267D6A3",
         "A",
         "interface_eu_test",
         "2020-12-12",
         "EU",
         "PC",
         "UNION EUROPEA",
         "2020-12-12 09:20:40",
         "login",
         null
        ],
        [
         "41",
         "909F4EF02267D6A3",
         "A",
         "interface_eu_test",
         "2020-12-12",
         "EU",
         "PC",
         "UNION EUROPEA",
         "2020-12-14 16:27:16",
         "login",
         null
        ],
        [
         "42",
         "909F4EF02267D6A3",
         "A",
         "interface_eu_test",
         "2020-12-12",
         "EU",
         "PC",
         "UNION EUROPEA",
         "2020-12-15 23:26:13",
         "login",
         null
        ],
        [
         "43",
         "909F4EF02267D6A3",
         "A",
         "interface_eu_test",
         "2020-12-12",
         "EU",
         "PC",
         "UNION EUROPEA",
         "2020-12-24 11:55:11",
         "login",
         null
        ],
        [
         "44",
         "909F4EF02267D6A3",
         "A",
         "interface_eu_test",
         "2020-12-12",
         "EU",
         "PC",
         "UNION EUROPEA",
         "2020-12-26 17:46:31",
         "login",
         null
        ],
        [
         "45",
         "0ABA049074A9A440",
         "A",
         "interface_eu_test",
         "2020-12-19",
         "EU",
         "PC",
         "UNION EUROPEA",
         "2020-12-19 00:59:32",
         "purchase",
         "4.99"
        ],
        [
         "46",
         "0ABA049074A9A440",
         "A",
         "interface_eu_test",
         "2020-12-19",
         "EU",
         "PC",
         "UNION EUROPEA",
         "2020-12-21 09:16:01",
         "purchase",
         "4.99"
        ],
        [
         "47",
         "0ABA049074A9A440",
         "A",
         "interface_eu_test",
         "2020-12-19",
         "EU",
         "PC",
         "UNION EUROPEA",
         "2020-12-24 19:48:06",
         "purchase",
         "4.99"
        ],
        [
         "48",
         "0ABA049074A9A440",
         "A",
         "interface_eu_test",
         "2020-12-19",
         "EU",
         "PC",
         "UNION EUROPEA",
         "2020-12-29 16:10:11",
         "purchase",
         "4.99"
        ],
        [
         "49",
         "0ABA049074A9A440",
         "A",
         "interface_eu_test",
         "2020-12-19",
         "EU",
         "PC",
         "UNION EUROPEA",
         "2020-12-19 00:59:33",
         "product_page",
         null
        ]
       ],
       "shape": {
        "columns": 10,
        "rows": 89058
       }
      },
      "text/html": [
       "<div>\n",
       "<style scoped>\n",
       "    .dataframe tbody tr th:only-of-type {\n",
       "        vertical-align: middle;\n",
       "    }\n",
       "\n",
       "    .dataframe tbody tr th {\n",
       "        vertical-align: top;\n",
       "    }\n",
       "\n",
       "    .dataframe thead th {\n",
       "        text-align: right;\n",
       "    }\n",
       "</style>\n",
       "<table border=\"1\" class=\"dataframe\">\n",
       "  <thead>\n",
       "    <tr style=\"text-align: right;\">\n",
       "      <th></th>\n",
       "      <th>user_id</th>\n",
       "      <th>group</th>\n",
       "      <th>ab_test</th>\n",
       "      <th>first_date</th>\n",
       "      <th>region</th>\n",
       "      <th>device</th>\n",
       "      <th>region_s</th>\n",
       "      <th>event_dt</th>\n",
       "      <th>event_name</th>\n",
       "      <th>details</th>\n",
       "    </tr>\n",
       "  </thead>\n",
       "  <tbody>\n",
       "    <tr>\n",
       "      <th>0</th>\n",
       "      <td>D41F3E4CB153371E</td>\n",
       "      <td>A</td>\n",
       "      <td>interface_eu_test</td>\n",
       "      <td>2020-12-19</td>\n",
       "      <td>EU</td>\n",
       "      <td>Android</td>\n",
       "      <td>UNION EUROPEA</td>\n",
       "      <td>2020-12-19 07:34:51</td>\n",
       "      <td>product_page</td>\n",
       "      <td>NaN</td>\n",
       "    </tr>\n",
       "    <tr>\n",
       "      <th>1</th>\n",
       "      <td>D41F3E4CB153371E</td>\n",
       "      <td>A</td>\n",
       "      <td>interface_eu_test</td>\n",
       "      <td>2020-12-19</td>\n",
       "      <td>EU</td>\n",
       "      <td>Android</td>\n",
       "      <td>UNION EUROPEA</td>\n",
       "      <td>2020-12-21 01:50:30</td>\n",
       "      <td>product_page</td>\n",
       "      <td>NaN</td>\n",
       "    </tr>\n",
       "    <tr>\n",
       "      <th>2</th>\n",
       "      <td>D41F3E4CB153371E</td>\n",
       "      <td>A</td>\n",
       "      <td>interface_eu_test</td>\n",
       "      <td>2020-12-19</td>\n",
       "      <td>EU</td>\n",
       "      <td>Android</td>\n",
       "      <td>UNION EUROPEA</td>\n",
       "      <td>2020-12-23 00:46:12</td>\n",
       "      <td>product_page</td>\n",
       "      <td>NaN</td>\n",
       "    </tr>\n",
       "    <tr>\n",
       "      <th>3</th>\n",
       "      <td>D41F3E4CB153371E</td>\n",
       "      <td>A</td>\n",
       "      <td>interface_eu_test</td>\n",
       "      <td>2020-12-19</td>\n",
       "      <td>EU</td>\n",
       "      <td>Android</td>\n",
       "      <td>UNION EUROPEA</td>\n",
       "      <td>2020-12-19 07:34:50</td>\n",
       "      <td>login</td>\n",
       "      <td>NaN</td>\n",
       "    </tr>\n",
       "    <tr>\n",
       "      <th>4</th>\n",
       "      <td>D41F3E4CB153371E</td>\n",
       "      <td>A</td>\n",
       "      <td>interface_eu_test</td>\n",
       "      <td>2020-12-19</td>\n",
       "      <td>EU</td>\n",
       "      <td>Android</td>\n",
       "      <td>UNION EUROPEA</td>\n",
       "      <td>2020-12-21 01:50:27</td>\n",
       "      <td>login</td>\n",
       "      <td>NaN</td>\n",
       "    </tr>\n",
       "    <tr>\n",
       "      <th>...</th>\n",
       "      <td>...</td>\n",
       "      <td>...</td>\n",
       "      <td>...</td>\n",
       "      <td>...</td>\n",
       "      <td>...</td>\n",
       "      <td>...</td>\n",
       "      <td>...</td>\n",
       "      <td>...</td>\n",
       "      <td>...</td>\n",
       "      <td>...</td>\n",
       "    </tr>\n",
       "    <tr>\n",
       "      <th>89053</th>\n",
       "      <td>1D302F8688B91781</td>\n",
       "      <td>B</td>\n",
       "      <td>interface_eu_test</td>\n",
       "      <td>2020-12-15</td>\n",
       "      <td>EU</td>\n",
       "      <td>PC</td>\n",
       "      <td>UNION EUROPEA</td>\n",
       "      <td>2020-12-27 11:12:47</td>\n",
       "      <td>login</td>\n",
       "      <td>NaN</td>\n",
       "    </tr>\n",
       "    <tr>\n",
       "      <th>89054</th>\n",
       "      <td>79F9ABFB029CF724</td>\n",
       "      <td>B</td>\n",
       "      <td>interface_eu_test</td>\n",
       "      <td>2020-12-14</td>\n",
       "      <td>EU</td>\n",
       "      <td>PC</td>\n",
       "      <td>UNION EUROPEA</td>\n",
       "      <td>2020-12-14 19:12:49</td>\n",
       "      <td>login</td>\n",
       "      <td>NaN</td>\n",
       "    </tr>\n",
       "    <tr>\n",
       "      <th>89055</th>\n",
       "      <td>79F9ABFB029CF724</td>\n",
       "      <td>B</td>\n",
       "      <td>interface_eu_test</td>\n",
       "      <td>2020-12-14</td>\n",
       "      <td>EU</td>\n",
       "      <td>PC</td>\n",
       "      <td>UNION EUROPEA</td>\n",
       "      <td>2020-12-15 01:50:22</td>\n",
       "      <td>login</td>\n",
       "      <td>NaN</td>\n",
       "    </tr>\n",
       "    <tr>\n",
       "      <th>89056</th>\n",
       "      <td>79F9ABFB029CF724</td>\n",
       "      <td>B</td>\n",
       "      <td>interface_eu_test</td>\n",
       "      <td>2020-12-14</td>\n",
       "      <td>EU</td>\n",
       "      <td>PC</td>\n",
       "      <td>UNION EUROPEA</td>\n",
       "      <td>2020-12-16 19:27:36</td>\n",
       "      <td>login</td>\n",
       "      <td>NaN</td>\n",
       "    </tr>\n",
       "    <tr>\n",
       "      <th>89057</th>\n",
       "      <td>79F9ABFB029CF724</td>\n",
       "      <td>B</td>\n",
       "      <td>interface_eu_test</td>\n",
       "      <td>2020-12-14</td>\n",
       "      <td>EU</td>\n",
       "      <td>PC</td>\n",
       "      <td>UNION EUROPEA</td>\n",
       "      <td>2020-12-20 13:04:31</td>\n",
       "      <td>login</td>\n",
       "      <td>NaN</td>\n",
       "    </tr>\n",
       "  </tbody>\n",
       "</table>\n",
       "<p>89058 rows × 10 columns</p>\n",
       "</div>"
      ],
      "text/plain": [
       "                user_id group            ab_test  first_date region   device  \\\n",
       "0      D41F3E4CB153371E     A  interface_eu_test  2020-12-19     EU  Android   \n",
       "1      D41F3E4CB153371E     A  interface_eu_test  2020-12-19     EU  Android   \n",
       "2      D41F3E4CB153371E     A  interface_eu_test  2020-12-19     EU  Android   \n",
       "3      D41F3E4CB153371E     A  interface_eu_test  2020-12-19     EU  Android   \n",
       "4      D41F3E4CB153371E     A  interface_eu_test  2020-12-19     EU  Android   \n",
       "...                 ...   ...                ...         ...    ...      ...   \n",
       "89053  1D302F8688B91781     B  interface_eu_test  2020-12-15     EU       PC   \n",
       "89054  79F9ABFB029CF724     B  interface_eu_test  2020-12-14     EU       PC   \n",
       "89055  79F9ABFB029CF724     B  interface_eu_test  2020-12-14     EU       PC   \n",
       "89056  79F9ABFB029CF724     B  interface_eu_test  2020-12-14     EU       PC   \n",
       "89057  79F9ABFB029CF724     B  interface_eu_test  2020-12-14     EU       PC   \n",
       "\n",
       "            region_s            event_dt    event_name  details  \n",
       "0      UNION EUROPEA 2020-12-19 07:34:51  product_page      NaN  \n",
       "1      UNION EUROPEA 2020-12-21 01:50:30  product_page      NaN  \n",
       "2      UNION EUROPEA 2020-12-23 00:46:12  product_page      NaN  \n",
       "3      UNION EUROPEA 2020-12-19 07:34:50         login      NaN  \n",
       "4      UNION EUROPEA 2020-12-21 01:50:27         login      NaN  \n",
       "...              ...                 ...           ...      ...  \n",
       "89053  UNION EUROPEA 2020-12-27 11:12:47         login      NaN  \n",
       "89054  UNION EUROPEA 2020-12-14 19:12:49         login      NaN  \n",
       "89055  UNION EUROPEA 2020-12-15 01:50:22         login      NaN  \n",
       "89056  UNION EUROPEA 2020-12-16 19:27:36         login      NaN  \n",
       "89057  UNION EUROPEA 2020-12-20 13:04:31         login      NaN  \n",
       "\n",
       "[89058 rows x 10 columns]"
      ]
     },
     "execution_count": 362,
     "metadata": {},
     "output_type": "execute_result"
    }
   ],
   "source": [
    "# Fucionar dataframes\n",
    "user_data =pd.merge(balanced_data, new_users, on='user_id', how='left')\n",
    "data = pd.merge(user_data, events, on='user_id', how='left')\n",
    "data"
   ]
  },
  {
   "cell_type": "code",
   "execution_count": 363,
   "id": "58ff85a8",
   "metadata": {},
   "outputs": [
    {
     "name": "stdout",
     "output_type": "stream",
     "text": [
      "KPI SUMMARY\n",
      "============\n",
      "89,058 events\n",
      "17 days\n",
      "11,980 users\n",
      "7.43 events per user\n",
      "5238.71 events per day\n"
     ]
    }
   ],
   "source": [
    "#Grandes numeros\n",
    "events = len(data)\n",
    "days = len(data['first_date'].unique())\n",
    "users = len(data['user_id'].unique())\n",
    "events_per_user = events / users\n",
    "events_per_day = events / days\n",
    "\n",
    "print('KPI SUMMARY')\n",
    "print('============')\n",
    "print(f'{events:,} events')\n",
    "print(f'{days} days')\n",
    "print(f'{users:,} users')\n",
    "print(f'{events_per_user:.2f} events per user')\n",
    "print(f'{events_per_day:.2f} events per day')"
   ]
  },
  {
   "cell_type": "code",
   "execution_count": 364,
   "id": "16f2725b",
   "metadata": {},
   "outputs": [
    {
     "data": {
      "application/vnd.microsoft.datawrangler.viewer.v0+json": {
       "columns": [
        {
         "name": "event_name",
         "rawType": "object",
         "type": "string"
        },
        {
         "name": "user_id",
         "rawType": "int64",
         "type": "integer"
        },
        {
         "name": "conv",
         "rawType": "float64",
         "type": "float"
        }
       ],
       "conversionMethod": "pd.DataFrame",
       "ref": "e2de76d2-1518-4c81-8224-37a84a86e231",
       "rows": [
        [
         "login",
         "11978",
         "100.0"
        ],
        [
         "product_page",
         "7815",
         "65.24461512773418"
        ],
        [
         "purchase",
         "3977",
         "33.20253798630823"
        ],
        [
         "product_cart",
         "3882",
         "32.409417264985805"
        ]
       ],
       "shape": {
        "columns": 2,
        "rows": 4
       }
      },
      "text/html": [
       "<div>\n",
       "<style scoped>\n",
       "    .dataframe tbody tr th:only-of-type {\n",
       "        vertical-align: middle;\n",
       "    }\n",
       "\n",
       "    .dataframe tbody tr th {\n",
       "        vertical-align: top;\n",
       "    }\n",
       "\n",
       "    .dataframe thead th {\n",
       "        text-align: right;\n",
       "    }\n",
       "</style>\n",
       "<table border=\"1\" class=\"dataframe\">\n",
       "  <thead>\n",
       "    <tr style=\"text-align: right;\">\n",
       "      <th></th>\n",
       "      <th>user_id</th>\n",
       "      <th>conv</th>\n",
       "    </tr>\n",
       "    <tr>\n",
       "      <th>event_name</th>\n",
       "      <th></th>\n",
       "      <th></th>\n",
       "    </tr>\n",
       "  </thead>\n",
       "  <tbody>\n",
       "    <tr>\n",
       "      <th>login</th>\n",
       "      <td>11978</td>\n",
       "      <td>100.000000</td>\n",
       "    </tr>\n",
       "    <tr>\n",
       "      <th>product_page</th>\n",
       "      <td>7815</td>\n",
       "      <td>65.244615</td>\n",
       "    </tr>\n",
       "    <tr>\n",
       "      <th>purchase</th>\n",
       "      <td>3977</td>\n",
       "      <td>33.202538</td>\n",
       "    </tr>\n",
       "    <tr>\n",
       "      <th>product_cart</th>\n",
       "      <td>3882</td>\n",
       "      <td>32.409417</td>\n",
       "    </tr>\n",
       "  </tbody>\n",
       "</table>\n",
       "</div>"
      ],
      "text/plain": [
       "              user_id        conv\n",
       "event_name                       \n",
       "login           11978  100.000000\n",
       "product_page     7815   65.244615\n",
       "purchase         3977   33.202538\n",
       "product_cart     3882   32.409417"
      ]
     },
     "execution_count": 364,
     "metadata": {},
     "output_type": "execute_result"
    }
   ],
   "source": [
    "#Tasas de conversión\n",
    "funnel =(\n",
    "    data\n",
    "    .pivot_table(index= 'event_name', values='user_id', aggfunc='nunique')\n",
    "    .sort_values('user_id', ascending=False)\n",
    "\n",
    ")\n",
    "\n",
    "funnel['conv'] = 100*funnel['user_id'] / funnel['user_id'].max()\n",
    "\n",
    "funnel"
   ]
  },
  {
   "cell_type": "code",
   "execution_count": 365,
   "id": "9277f4f6",
   "metadata": {},
   "outputs": [],
   "source": [
    "# Calcular conversiones por grupo\n",
    "\n",
    "def calculate_funnel(group):\n",
    "    group_users = user_data[user_data['group'] == group]\n",
    "    total_users = len(group_users)\n",
    "    \n",
    "    # Eventos únicos por usuario\n",
    "    product_page_users = data[(data['group'] == group) & \n",
    "                                  (data['event_name'] == 'product_page')]['user_id'].nunique()\n",
    "    cart_users = data[(data['group'] == group) & \n",
    "                           (data['event_name'] == 'product_cart')]['user_id'].nunique()\n",
    "    purchase_users = data[(data['group'] == group) & \n",
    "                              (data['event_name'] == 'purchase')]['user_id'].nunique()\n",
    "    \n",
    "    return {\n",
    "        'product_page': product_page_users / total_users,\n",
    "        'product_cart': cart_users / product_page_users if product_page_users > 0 else 0,\n",
    "        'purchase': purchase_users / cart_users if cart_users > 0 else 0,\n",
    "        'final_conversion': purchase_users / total_users\n",
    "    }\n",
    "\n",
    "# Calcular para ambos grupos\n",
    "funnel_A = calculate_funnel('A')\n",
    "funnel_B = calculate_funnel('B')"
   ]
  },
  {
   "cell_type": "code",
   "execution_count": 366,
   "id": "c0c0a680",
   "metadata": {},
   "outputs": [],
   "source": [
    "#Generamos tabla de conversiones\n",
    "table_data = [\n",
    "    [\"1. product_page\", \n",
    "     f\"{funnel_A['product_page']*100:.1f}%\", \n",
    "     f\"{funnel_B['product_page']*100:.1f}%\",\n",
    "     f\"+{(funnel_B['product_page']-funnel_A['product_page'])*100:.1f}%\",\n",
    "     f\"+{(funnel_B['product_page']-funnel_A['product_page'])/funnel_A['product_page']*100:.1f}%\" if funnel_A['product_page'] > 0 else \"N/A\",\n",
    "     \"No\" if (funnel_B['product_page']-funnel_A['product_page'])/funnel_A['product_page'] < 0.1 else \"Sí\"],\n",
    "    \n",
    "    [\"2. product_cart\", \n",
    "     f\"{funnel_A['product_cart']*100:.1f}% (de {funnel_A['product_page']*100:.1f}%)\", \n",
    "     f\"{funnel_B['product_cart']*100:.1f}% (de {funnel_B['product_page']*100:.1f}%)\",\n",
    "     f\"+{(funnel_B['product_cart']-funnel_A['product_cart'])*100:.1f}%\",\n",
    "     f\"+{(funnel_B['product_cart']-funnel_A['product_cart'])/funnel_A['product_cart']*100:.1f}%\" if funnel_A['product_cart'] > 0 else \"N/A\",\n",
    "     \"No\" if (funnel_B['product_cart']-funnel_A['product_cart'])/funnel_A['product_cart'] < 0.1 else \"Sí\"],\n",
    "    \n",
    "    [\"3. purchase\", \n",
    "     f\"{funnel_A['purchase']*100:.1f}% (de {funnel_A['product_cart']*100:.1f}%)\", \n",
    "     f\"{funnel_B['purchase']*100:.1f}% (de {funnel_B['product_cart']*100:.1f}%)\",\n",
    "     f\"+{(funnel_B['purchase']-funnel_A['purchase'])*100:.1f}%\",\n",
    "     f\"+{(funnel_B['purchase']-funnel_A['purchase'])/funnel_A['purchase']*100:.1f}%\" if funnel_A['purchase'] > 0 else \"N/A\",\n",
    "     \"No\" if (funnel_B['purchase']-funnel_A['purchase'])/funnel_A['purchase'] < 0.1 else \"Sí\"],\n",
    "    \n",
    "    [\"Conversión Final\", \n",
    "     f\"{funnel_A['final_conversion']*100:.1f}%\", \n",
    "     f\"{funnel_B['final_conversion']*100:.1f}%\",\n",
    "     f\"+{(funnel_B['final_conversion']-funnel_A['final_conversion'])*100:.1f}%\",\n",
    "     f\"+{(funnel_B['final_conversion']-funnel_A['final_conversion'])/funnel_A['final_conversion']*100:.1f}%\" if funnel_A['final_conversion'] > 0 else \"N/A\",\n",
    "     \"No\" if (funnel_B['final_conversion']-funnel_A['final_conversion'])/funnel_A['final_conversion'] < 0.1 else \"Sí\"]\n",
    "]"
   ]
  },
  {
   "cell_type": "code",
   "execution_count": 367,
   "id": "6f4ff5f2",
   "metadata": {},
   "outputs": [
    {
     "data": {
      "application/vnd.microsoft.datawrangler.viewer.v0+json": {
       "columns": [
        {
         "name": "index",
         "rawType": "int64",
         "type": "integer"
        },
        {
         "name": "Etapa",
         "rawType": "object",
         "type": "string"
        },
        {
         "name": "Grupo A (Control)",
         "rawType": "object",
         "type": "string"
        },
        {
         "name": "Grupo B (Tratamiento)",
         "rawType": "object",
         "type": "string"
        },
        {
         "name": "Diferencia (B - A)",
         "rawType": "object",
         "type": "string"
        },
        {
         "name": "Mejora (%)",
         "rawType": "object",
         "type": "string"
        },
        {
         "name": "¿Alcanza 10%?",
         "rawType": "object",
         "type": "string"
        }
       ],
       "conversionMethod": "pd.DataFrame",
       "ref": "80bb4840-9d9a-46ed-8000-6bf634652740",
       "rows": [
        [
         "0",
         "1. product_page",
         "63.9%",
         "63.2%",
         "+-0.7%",
         "+-1.1%",
         "No"
        ],
        [
         "1",
         "2. product_cart",
         "48.2% (de 63.9%)",
         "51.1% (de 63.2%)",
         "+2.9%",
         "+6.1%",
         "No"
        ],
        [
         "2",
         "3. purchase",
         "106.3% (de 48.2%)",
         "98.6% (de 51.1%)",
         "+-7.7%",
         "+-7.3%",
         "No"
        ],
        [
         "3",
         "Conversión Final",
         "32.7%",
         "31.8%",
         "+-0.9%",
         "+-2.7%",
         "No"
        ]
       ],
       "shape": {
        "columns": 6,
        "rows": 4
       }
      },
      "text/html": [
       "<div>\n",
       "<style scoped>\n",
       "    .dataframe tbody tr th:only-of-type {\n",
       "        vertical-align: middle;\n",
       "    }\n",
       "\n",
       "    .dataframe tbody tr th {\n",
       "        vertical-align: top;\n",
       "    }\n",
       "\n",
       "    .dataframe thead th {\n",
       "        text-align: right;\n",
       "    }\n",
       "</style>\n",
       "<table border=\"1\" class=\"dataframe\">\n",
       "  <thead>\n",
       "    <tr style=\"text-align: right;\">\n",
       "      <th></th>\n",
       "      <th>Etapa</th>\n",
       "      <th>Grupo A (Control)</th>\n",
       "      <th>Grupo B (Tratamiento)</th>\n",
       "      <th>Diferencia (B - A)</th>\n",
       "      <th>Mejora (%)</th>\n",
       "      <th>¿Alcanza 10%?</th>\n",
       "    </tr>\n",
       "  </thead>\n",
       "  <tbody>\n",
       "    <tr>\n",
       "      <th>0</th>\n",
       "      <td>1. product_page</td>\n",
       "      <td>63.9%</td>\n",
       "      <td>63.2%</td>\n",
       "      <td>+-0.7%</td>\n",
       "      <td>+-1.1%</td>\n",
       "      <td>No</td>\n",
       "    </tr>\n",
       "    <tr>\n",
       "      <th>1</th>\n",
       "      <td>2. product_cart</td>\n",
       "      <td>48.2% (de 63.9%)</td>\n",
       "      <td>51.1% (de 63.2%)</td>\n",
       "      <td>+2.9%</td>\n",
       "      <td>+6.1%</td>\n",
       "      <td>No</td>\n",
       "    </tr>\n",
       "    <tr>\n",
       "      <th>2</th>\n",
       "      <td>3. purchase</td>\n",
       "      <td>106.3% (de 48.2%)</td>\n",
       "      <td>98.6% (de 51.1%)</td>\n",
       "      <td>+-7.7%</td>\n",
       "      <td>+-7.3%</td>\n",
       "      <td>No</td>\n",
       "    </tr>\n",
       "    <tr>\n",
       "      <th>3</th>\n",
       "      <td>Conversión Final</td>\n",
       "      <td>32.7%</td>\n",
       "      <td>31.8%</td>\n",
       "      <td>+-0.9%</td>\n",
       "      <td>+-2.7%</td>\n",
       "      <td>No</td>\n",
       "    </tr>\n",
       "  </tbody>\n",
       "</table>\n",
       "</div>"
      ],
      "text/plain": [
       "              Etapa  Grupo A (Control) Grupo B (Tratamiento)  \\\n",
       "0   1. product_page              63.9%                 63.2%   \n",
       "1   2. product_cart   48.2% (de 63.9%)      51.1% (de 63.2%)   \n",
       "2       3. purchase  106.3% (de 48.2%)      98.6% (de 51.1%)   \n",
       "3  Conversión Final              32.7%                 31.8%   \n",
       "\n",
       "  Diferencia (B - A) Mejora (%) ¿Alcanza 10%?  \n",
       "0             +-0.7%     +-1.1%            No  \n",
       "1              +2.9%      +6.1%            No  \n",
       "2             +-7.7%     +-7.3%            No  \n",
       "3             +-0.9%     +-2.7%            No  "
      ]
     },
     "execution_count": 367,
     "metadata": {},
     "output_type": "execute_result"
    }
   ],
   "source": [
    "\n",
    "# Crear DataFrame\n",
    "funnel_df = pd.DataFrame(table_data, columns=[\n",
    "    \"Etapa\", \"Grupo A (Control)\", \"Grupo B (Tratamiento)\", \n",
    "    \"Diferencia (B - A)\", \"Mejora (%)\", \"¿Alcanza 10%?\"\n",
    "])\n",
    "\n",
    "funnel_df"
   ]
  },
  {
   "cell_type": "markdown",
   "id": "121d890e",
   "metadata": {},
   "source": [
    "### Realizar prueba estatística"
   ]
  },
  {
   "cell_type": "code",
   "execution_count": 368,
   "id": "ce06ac92",
   "metadata": {},
   "outputs": [
    {
     "name": "stderr",
     "output_type": "stream",
     "text": [
      "C:\\Users\\Te Amo\\AppData\\Local\\Temp\\ipykernel_20072\\3755627023.py:5: RuntimeWarning: invalid value encountered in sqrt\n",
      "  z = (p_b - p_a) / np.sqrt(p_pool * (1 - p_pool) * (1/total_a + 1/total_b))\n"
     ]
    }
   ],
   "source": [
    "def z_test(group_a_events, group_b_events, total_a, total_b):\n",
    "    p_a = group_a_events / total_a\n",
    "    p_b = group_b_events / total_b\n",
    "    p_pool = (group_a_events + group_b_events) / (total_a + total_b)\n",
    "    z = (p_b - p_a) / np.sqrt(p_pool * (1 - p_pool) * (1/total_a + 1/total_b))\n",
    "    p_value = stats.norm.sf(abs(z)) * 2  # Two-tailed\n",
    "    return p_value\n",
    "\n",
    "# Obtener conteos para pruebas Z\n",
    "total_a = len(user_data[user_data['group'] == 'A'])\n",
    "total_b = len(user_data[user_data['group'] == 'B'])\n",
    "\n",
    "page_a = data[(data['group'] == 'A') & (data['event_name'] == 'product_page')]['user_id'].nunique()\n",
    "page_b = data[(data['group'] == 'B') & (data['event_name'] == 'product_page')]['user_id'].nunique()\n",
    "\n",
    "cart_a = data[(data['group'] == 'A') & (data['event_name'] == 'product_cart')]['user_id'].nunique()\n",
    "cart_b = data[(data['group'] == 'B') & (data['event_name'] == 'product_cart')]['user_id'].nunique()\n",
    "\n",
    "purchase_a = data[(data['group'] == 'A') & (data['event_name'] == 'purchase')]['user_id'].nunique()\n",
    "purchase_b = data[(data['group'] == 'B') & (data['event_name'] == 'purchase')]['user_id'].nunique()\n",
    "\n",
    "# Calcular p-valores\n",
    "pvals = [\n",
    "    z_test(page_a, page_b, total_a, total_b),\n",
    "    z_test(cart_a, cart_b, page_a, page_b),\n",
    "    z_test(purchase_a, purchase_b, cart_a, cart_b)\n",
    "]\n",
    "\n",
    "# Crear tabla de significancia\n",
    "significance_df = pd.DataFrame({\n",
    "    'Etapa': ['product_page', 'product_cart', 'purchase'],\n",
    "    'p-valor': [f\"{p:.3f}\" for p in pvals],\n",
    "    '¿Significativo? (α=0.05)': ['✅ Sí' if p < 0.05 else '❌ No' for p in pvals]\n",
    "})"
   ]
  },
  {
   "cell_type": "code",
   "execution_count": 369,
   "id": "8724ba2f",
   "metadata": {},
   "outputs": [
    {
     "data": {
      "text/html": [
       "<h3>Significancia Estadística (Prueba Z)</h3>"
      ],
      "text/plain": [
       "<IPython.core.display.HTML object>"
      ]
     },
     "metadata": {},
     "output_type": "display_data"
    },
    {
     "data": {
      "text/html": [
       "<style type=\"text/css\">\n",
       "#T_726e9 th {\n",
       "  background-color: #f0f0f0;\n",
       "  font-weight: bold;\n",
       "}\n",
       "#T_726e9_row0_col0, #T_726e9_row0_col1, #T_726e9_row0_col2, #T_726e9_row1_col0, #T_726e9_row1_col1, #T_726e9_row1_col2, #T_726e9_row2_col0, #T_726e9_row2_col1, #T_726e9_row2_col2 {\n",
       "  text-align: center;\n",
       "  border: 1px solid black;\n",
       "}\n",
       "</style>\n",
       "<table id=\"T_726e9\">\n",
       "  <thead>\n",
       "    <tr>\n",
       "      <th class=\"blank level0\" >&nbsp;</th>\n",
       "      <th id=\"T_726e9_level0_col0\" class=\"col_heading level0 col0\" >Etapa</th>\n",
       "      <th id=\"T_726e9_level0_col1\" class=\"col_heading level0 col1\" >p-valor</th>\n",
       "      <th id=\"T_726e9_level0_col2\" class=\"col_heading level0 col2\" >¿Significativo? (α=0.05)</th>\n",
       "    </tr>\n",
       "  </thead>\n",
       "  <tbody>\n",
       "    <tr>\n",
       "      <th id=\"T_726e9_level0_row0\" class=\"row_heading level0 row0\" >0</th>\n",
       "      <td id=\"T_726e9_row0_col0\" class=\"data row0 col0\" >product_page</td>\n",
       "      <td id=\"T_726e9_row0_col1\" class=\"data row0 col1\" >0.405</td>\n",
       "      <td id=\"T_726e9_row0_col2\" class=\"data row0 col2\" >❌ No</td>\n",
       "    </tr>\n",
       "    <tr>\n",
       "      <th id=\"T_726e9_level0_row1\" class=\"row_heading level0 row1\" >1</th>\n",
       "      <td id=\"T_726e9_row1_col0\" class=\"data row1 col0\" >product_cart</td>\n",
       "      <td id=\"T_726e9_row1_col1\" class=\"data row1 col1\" >0.009</td>\n",
       "      <td id=\"T_726e9_row1_col2\" class=\"data row1 col2\" >✅ Sí</td>\n",
       "    </tr>\n",
       "    <tr>\n",
       "      <th id=\"T_726e9_level0_row2\" class=\"row_heading level0 row2\" >2</th>\n",
       "      <td id=\"T_726e9_row2_col0\" class=\"data row2 col0\" >purchase</td>\n",
       "      <td id=\"T_726e9_row2_col1\" class=\"data row2 col1\" >nan</td>\n",
       "      <td id=\"T_726e9_row2_col2\" class=\"data row2 col2\" >❌ No</td>\n",
       "    </tr>\n",
       "  </tbody>\n",
       "</table>\n"
      ],
      "text/plain": [
       "<pandas.io.formats.style.Styler at 0x1ee0ac46d50>"
      ]
     },
     "metadata": {},
     "output_type": "display_data"
    }
   ],
   "source": [
    "\n",
    "# Estilo para las tablas\n",
    "def style_table(df):\n",
    "    return df.style.set_properties(**{\n",
    "        'text-align': 'center',\n",
    "        'border': '1px solid black'\n",
    "    }).set_table_styles([{\n",
    "        'selector': 'th',\n",
    "        'props': [('background-color', '#f0f0f0'), ('font-weight', 'bold')]\n",
    "    }])\n",
    "\n",
    "\n",
    "\n",
    "display(HTML(\"<h3>Significancia Estadística (Prueba Z)</h3>\"))\n",
    "display(style_table(significance_df))"
   ]
  },
  {
   "cell_type": "markdown",
   "id": "aa2d515b",
   "metadata": {},
   "source": [
    "### Conclusiones"
   ]
  },
  {
   "cell_type": "markdown",
   "id": "eed1dd5e",
   "metadata": {},
   "source": [
    "\n",
    "Conclusiones\n",
    "\n",
    "- product_cart muestra una diferencia estadísticamente significativa (p = 0.009). Esto indica que hay evidencia suficiente para afirmar que el experimento tuvo un efecto sobre el comportamiento de los usuarios en esta etapa (por ejemplo, agregaron más productos al carrito).\n",
    "\n",
    "- product_page no presenta significancia estadística (p = 0.405). No se puede concluir que hubo un impacto en esta métrica. Los usuarios probablemente no cambiaron su comportamiento al interactuar con la página de producto.\n",
    "\n",
    "- purchase tiene un valor nulo (nan), lo que sugiere que no se obtuvo un resultado válido para esta métrica. Esto puede deberse a falta de datos, errores de recolección o segmentación incorrecta.\n",
    "\n",
    "Recomendaciones \n",
    "- Explorar más a fondo el cambio en product_cart: El efecto positivo detectado aquí sugiere que la variación probada tiene potencial para aumentar la intención de compra. Se recomienda analizar qué factor específico (UX, botón, copy, etc.) generó ese cambio.\n",
    "\n",
    "- Revisar la implementación de la métrica purchase: Es crucial asegurarse de que esta métrica —clave para el negocio— esté correctamente registrada. Repetir la prueba o realizar un control de calidad en la recolección de datos es prioritario.\n",
    "\n",
    "- No tomar decisiones basadas en product_page por ahora: Como no hay evidencia de impacto en esa etapa, no se justifica un cambio relacionado con la visualización del producto, al menos con la información actual.\n",
    "\n",
    "- Repetir el experimento con mejoras: Asegúrate de capturar correctamente todas las métricas relevantes. Considera aumentar el tamaño de muestra si la conversión a compra es baja y puede haber limitado la detección de efectos significativos.\n",
    "\n"
   ]
  }
 ],
 "metadata": {
  "kernelspec": {
   "display_name": "Python 3",
   "language": "python",
   "name": "python3"
  },
  "language_info": {
   "codemirror_mode": {
    "name": "ipython",
    "version": 3
   },
   "file_extension": ".py",
   "mimetype": "text/x-python",
   "name": "python",
   "nbconvert_exporter": "python",
   "pygments_lexer": "ipython3",
   "version": "3.11.9"
  }
 },
 "nbformat": 4,
 "nbformat_minor": 5
}
