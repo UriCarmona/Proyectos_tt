{
 "cells": [
  {
   "cell_type": "markdown",
   "id": "78940b47",
   "metadata": {},
   "source": [
    "# Proyecto de pruebas A/B"
   ]
  },
  {
   "cell_type": "markdown",
   "id": "e41a6153",
   "metadata": {},
   "source": [
    "### Ejercicio\n",
    "Has recibido una tarea analítica de una tienda en línea internacional. Tus predecesores no consiguieron completarla: lanzaron una prueba A/B y luego abandonaron (para iniciar una granja de sandías en Brasil). Solo dejaron las especificaciones técnicas y los resultados de las pruebas.\n",
    "\n",
    "- Descripción técnica\n",
    "    - Nombre de la prueba: recommender_system_test\n",
    "    - Grupos: А (control), B (nuevo embudo de pago)\n",
    "    - Fecha de lanzamiento: 2020-12-07\n",
    "    - Fecha en la que dejaron de aceptar nuevos usuarios: 2020-12-21\n",
    "    - Fecha de finalización: 2021-01-01\n",
    "    - Audiencia: 15% de los nuevos usuarios de la región de la UE\n",
    "    - Propósito de la prueba: probar cambios relacionados con la introducción de un sistema de recomendaciones mejorado\n",
    "    - Resultado esperado: dentro de los 14 días posteriores a la inscripción, los usuarios mostrarán una mejor conversión en vistas de la página del        producto `(el evento product_page)`, instancias de agregar artículos al carrito de compras `(product_cart)` y compras `(purchase)`. En cada etapa del embudo product_page → product_cart → purchase, habrá al menos un 10% de aumento.\n",
    "    - Número previsto de participantes de la prueba: 6 000"
   ]
  },
  {
   "cell_type": "code",
   "execution_count": 1,
   "id": "9e877518",
   "metadata": {},
   "outputs": [],
   "source": [
    "# Carga de librerias\n",
    "import pandas as pd\n",
    "import numpy as np\n",
    "from scipy import stats\n",
    "import matplotlib.pyplot as plt\n",
    "import seaborn as sns\n",
    "from statsmodels.stats.proportion import proportions_ztest"
   ]
  },
  {
   "cell_type": "code",
   "execution_count": 2,
   "id": "ead4f2f3",
   "metadata": {},
   "outputs": [],
   "source": [
    "# Carga de datos\n",
    "marketing_events = pd.read_csv('ab_project_marketing_events_us.csv', sep=',')\n",
    "events = pd.read_csv('final_ab_events_upd_us.csv', sep=',')\n",
    "new_users = pd.read_csv('final_ab_new_users_upd_us.csv', sep=',')\n",
    "participants = pd.read_csv('final_ab_participants_upd_us.csv', sep=',')"
   ]
  },
  {
   "cell_type": "markdown",
   "id": "12a5a516",
   "metadata": {},
   "source": [
    "# Analisis exploratorio"
   ]
  },
  {
   "cell_type": "code",
   "execution_count": 3,
   "id": "cca48b99",
   "metadata": {},
   "outputs": [
    {
     "data": {
      "text/plain": [
       "(                           name                   regions    start_dt  \\\n",
       " 0      Christmas&New Year Promo             EU, N.America  2020-12-25   \n",
       " 1  St. Valentine's Day Giveaway  EU, CIS, APAC, N.America  2020-02-14   \n",
       " 2        St. Patric's Day Promo             EU, N.America  2020-03-17   \n",
       " 3                  Easter Promo  EU, CIS, APAC, N.America  2020-04-12   \n",
       " 4             4th of July Promo                 N.America  2020-07-04   \n",
       " \n",
       "     finish_dt  \n",
       " 0  2021-01-03  \n",
       " 1  2020-02-16  \n",
       " 2  2020-03-19  \n",
       " 3  2020-04-19  \n",
       " 4  2020-07-11  ,\n",
       "             user_id  first_date     region   device\n",
       " 0  D72A72121175D8BE  2020-12-07         EU       PC\n",
       " 1  F1C668619DFE6E65  2020-12-07  N.America  Android\n",
       " 2  2E1BF1D4C37EA01F  2020-12-07         EU       PC\n",
       " 3  50734A22C0C63768  2020-12-07         EU   iPhone\n",
       " 4  E1BDDCE0DAFA2679  2020-12-07  N.America   iPhone,\n",
       "             user_id             event_dt event_name  details\n",
       " 0  E1BDDCE0DAFA2679  2020-12-07 20:22:03   purchase    99.99\n",
       " 1  7B6452F081F49504  2020-12-07 09:22:53   purchase     9.99\n",
       " 2  9CD9F34546DF254C  2020-12-07 12:59:29   purchase     4.99\n",
       " 3  96F27A054B191457  2020-12-07 04:02:40   purchase     4.99\n",
       " 4  1FD7660FDF94CA1F  2020-12-07 10:15:09   purchase     4.99,\n",
       "             user_id group                  ab_test\n",
       " 0  D1ABA3E2887B6A73     A  recommender_system_test\n",
       " 1  A7A3664BD6242119     A  recommender_system_test\n",
       " 2  DABC14FDDFADD29E     A  recommender_system_test\n",
       " 3  04988C5DF189632E     A  recommender_system_test\n",
       " 4  4FF2998A348C484F     A  recommender_system_test)"
      ]
     },
     "execution_count": 3,
     "metadata": {},
     "output_type": "execute_result"
    }
   ],
   "source": [
    "\n",
    "# Inspeccionar las primeras filas de cada archivo\n",
    "marketing_events_head = marketing_events.head()\n",
    "new_users_head = new_users.head()\n",
    "events_head = events.head()\n",
    "participants_head = participants.head()\n",
    "\n",
    "marketing_events_head, new_users_head, events_head, participants_head"
   ]
  },
  {
   "cell_type": "markdown",
   "id": "eea20cf1",
   "metadata": {},
   "source": [
    "Realizar una revisión de los datos, buscando posibles problemas como tipos incorrectos, valores faltantes o duplicados.\n",
    "\n",
    "\n",
    "- Verificar los tipos de las columnas.\n",
    "\n",
    "- Revisar si hay valores faltantes.\n",
    "\n",
    "- Identificar posibles duplicados."
   ]
  },
  {
   "cell_type": "code",
   "execution_count": 4,
   "id": "a493447f",
   "metadata": {},
   "outputs": [
    {
     "name": "stdout",
     "output_type": "stream",
     "text": [
      "<class 'pandas.core.frame.DataFrame'>\n",
      "RangeIndex: 14 entries, 0 to 13\n",
      "Data columns (total 4 columns):\n",
      " #   Column     Non-Null Count  Dtype \n",
      "---  ------     --------------  ----- \n",
      " 0   name       14 non-null     object\n",
      " 1   regions    14 non-null     object\n",
      " 2   start_dt   14 non-null     object\n",
      " 3   finish_dt  14 non-null     object\n",
      "dtypes: object(4)\n",
      "memory usage: 580.0+ bytes\n",
      "\n",
      "<class 'pandas.core.frame.DataFrame'>\n",
      "RangeIndex: 58703 entries, 0 to 58702\n",
      "Data columns (total 4 columns):\n",
      " #   Column      Non-Null Count  Dtype \n",
      "---  ------      --------------  ----- \n",
      " 0   user_id     58703 non-null  object\n",
      " 1   first_date  58703 non-null  object\n",
      " 2   region      58703 non-null  object\n",
      " 3   device      58703 non-null  object\n",
      "dtypes: object(4)\n",
      "memory usage: 1.8+ MB\n",
      "\n",
      "<class 'pandas.core.frame.DataFrame'>\n",
      "RangeIndex: 423761 entries, 0 to 423760\n",
      "Data columns (total 4 columns):\n",
      " #   Column      Non-Null Count   Dtype  \n",
      "---  ------      --------------   -----  \n",
      " 0   user_id     423761 non-null  object \n",
      " 1   event_dt    423761 non-null  object \n",
      " 2   event_name  423761 non-null  object \n",
      " 3   details     60314 non-null   float64\n",
      "dtypes: float64(1), object(3)\n",
      "memory usage: 12.9+ MB\n",
      "\n",
      "<class 'pandas.core.frame.DataFrame'>\n",
      "RangeIndex: 14525 entries, 0 to 14524\n",
      "Data columns (total 3 columns):\n",
      " #   Column   Non-Null Count  Dtype \n",
      "---  ------   --------------  ----- \n",
      " 0   user_id  14525 non-null  object\n",
      " 1   group    14525 non-null  object\n",
      " 2   ab_test  14525 non-null  object\n",
      "dtypes: object(3)\n",
      "memory usage: 340.6+ KB\n"
     ]
    }
   ],
   "source": [
    "# Verificar tipos de datos y valores faltantes en cada archivo\n",
    "marketing_events_info = marketing_events.info()\n",
    "print()\n",
    "new_users_info = new_users.info()\n",
    "print()\n",
    "events_info = events.info()\n",
    "print()\n",
    "participants_info = participants.info()"
   ]
  },
  {
   "cell_type": "code",
   "execution_count": 5,
   "id": "20ac82b2",
   "metadata": {},
   "outputs": [],
   "source": [
    "# Revisar si hay duplicados en cada archivo\n",
    "marketing_events_duplicates = marketing_events.duplicated().sum()\n",
    "new_users_duplicates = new_users.duplicated().sum()\n",
    "events_duplicates = events.duplicated().sum()\n",
    "participants_duplicates = participants.duplicated().sum()"
   ]
  },
  {
   "cell_type": "markdown",
   "id": "e184d918",
   "metadata": {},
   "source": [
    "Tipos de datos:\n",
    "- Marketing Events: Las columnas son de tipo object, pero las fechas (start_dt, finish_dt) deberían ser de tipo datetime.\n",
    "\n",
    "- New Users: Las columnas están bien, pero las fechas (first_date) deberían ser convertidas a tipo datetime.\n",
    "\n",
    "- Events: Las fechas (event_dt) deben ser convertidas a datetime. Además, la columna details tiene muchos valores nulos (alrededor del 85%), lo cual puede indicar que no todos los eventos tienen información adicional.\n",
    "\n",
    "- Participants: Todos los datos son de tipo object y están completos.\n",
    "\n",
    "Valores faltantes:\n",
    "- Marketing Events: No tiene valores faltantes.\n",
    "\n",
    "- New Users: No tiene valores faltantes.\n",
    "\n",
    "- Events: La columna details tiene valores faltantes, lo cual es de esperar, ya que solo los eventos de tipo purchase tendrán detalles (por ejemplo, monto de la compra).\n",
    "\n",
    "- Participants: No tiene valores faltantes.\n",
    "\n",
    "Duplicados:\n",
    "No hay registros duplicados en ninguno de los archivos."
   ]
  },
  {
   "cell_type": "markdown",
   "id": "8a1d4d56",
   "metadata": {},
   "source": [
    "## Convertir las columnas de fechas a `datetime`."
   ]
  },
  {
   "cell_type": "code",
   "execution_count": 6,
   "id": "49912cee",
   "metadata": {},
   "outputs": [],
   "source": [
    "# Convertir las columnas de fechas a tipo datetime\n",
    "marketing_events['start_dt'] = pd.to_datetime(marketing_events['start_dt'])\n",
    "marketing_events['finish_dt'] = pd.to_datetime(marketing_events['finish_dt'])\n",
    "\n",
    "new_users['first_date'] = pd.to_datetime(new_users['first_date'])\n",
    "\n",
    "events['event_dt'] = pd.to_datetime(events['event_dt'])"
   ]
  },
  {
   "cell_type": "markdown",
   "id": "5f34e3be",
   "metadata": {},
   "source": [
    "Estudiar la distribución de eventos por usuario:\n",
    "\n",
    "- Comprobar si el número de eventos está equilibrado entre los grupos A y B.\n",
    "\n",
    "- Verificar si hay usuarios presentes en ambos grupos."
   ]
  },
  {
   "cell_type": "code",
   "execution_count": 7,
   "id": "3673967a",
   "metadata": {},
   "outputs": [
    {
     "data": {
      "text/plain": [
       "count    58703.000000\n",
       "mean         7.218728\n",
       "std          4.122609\n",
       "min          1.000000\n",
       "25%          4.000000\n",
       "50%          6.000000\n",
       "75%          9.000000\n",
       "max         36.000000\n",
       "Name: event_name, dtype: float64"
      ]
     },
     "execution_count": 7,
     "metadata": {},
     "output_type": "execute_result"
    }
   ],
   "source": [
    "# Contar los eventos por usuario\n",
    "events_per_user = events.groupby('user_id')['event_name'].count()\n",
    "events_per_user.describe()"
   ]
  },
  {
   "cell_type": "markdown",
   "id": "e364c826",
   "metadata": {},
   "source": [
    "El número promedio de eventos por usuario es 7.22 (con una desviación estándar de 4.12). Esto significa que la mayoría de los usuarios tienen entre 4 y 9 eventos, pero algunos usuarios tienen hasta 36 eventos."
   ]
  },
  {
   "cell_type": "code",
   "execution_count": 8,
   "id": "cddf939e",
   "metadata": {},
   "outputs": [
    {
     "data": {
      "text/plain": [
       "group\n",
       "A    7874\n",
       "B    6205\n",
       "Name: user_id, dtype: int64"
      ]
     },
     "execution_count": 8,
     "metadata": {},
     "output_type": "execute_result"
    }
   ],
   "source": [
    "# Contar los usuarios por grupo (A y B)\n",
    "participants_count = participants.groupby('group')['user_id'].nunique()\n",
    "participants_count"
   ]
  },
  {
   "cell_type": "markdown",
   "id": "9d1698b0",
   "metadata": {},
   "source": [
    "Grupo A (Control): 7,874 usuarios\n",
    "\n",
    "Grupo B (Nuevo embudo de pago): 6,205 usuarios\n",
    "\n",
    "La distribución de usuarios entre los grupos es razonablemente equilibrada, aunque el grupo A tiene un poco más de usuarios."
   ]
  },
  {
   "cell_type": "code",
   "execution_count": 9,
   "id": "339b7c98",
   "metadata": {},
   "outputs": [
    {
     "data": {
      "application/vnd.microsoft.datawrangler.viewer.v0+json": {
       "columns": [
        {
         "name": "index",
         "rawType": "int64",
         "type": "integer"
        },
        {
         "name": "user_id",
         "rawType": "object",
         "type": "string"
        },
        {
         "name": "group",
         "rawType": "object",
         "type": "string"
        },
        {
         "name": "ab_test",
         "rawType": "object",
         "type": "string"
        }
       ],
       "conversionMethod": "pd.DataFrame",
       "ref": "a6d529c7-975d-4516-b530-a070beaa551d",
       "rows": [
        [
         "2",
         "DABC14FDDFADD29E",
         "A",
         "recommender_system_test"
        ],
        [
         "3",
         "04988C5DF189632E",
         "A",
         "recommender_system_test"
        ],
        [
         "8",
         "B3A2485649E4A012",
         "A",
         "recommender_system_test"
        ],
        [
         "15",
         "EAFB9027A27D510C",
         "B",
         "recommender_system_test"
        ],
        [
         "17",
         "5D5E6EE92AF6E9E0",
         "B",
         "recommender_system_test"
        ],
        [
         "19",
         "0F1FF07B3788976D",
         "A",
         "recommender_system_test"
        ],
        [
         "20",
         "03FBDF999D5B81B8",
         "A",
         "recommender_system_test"
        ],
        [
         "22",
         "65F225074FEC2C03",
         "A",
         "recommender_system_test"
        ],
        [
         "26",
         "FC3F3E4DA7C85F88",
         "A",
         "recommender_system_test"
        ],
        [
         "27",
         "FE2AF0E94DBD470E",
         "A",
         "recommender_system_test"
        ],
        [
         "35",
         "EEF5EFB2D5915CF1",
         "A",
         "recommender_system_test"
        ],
        [
         "36",
         "C5AD06762E628169",
         "A",
         "recommender_system_test"
        ],
        [
         "53",
         "3B3F68DC5779E517",
         "B",
         "recommender_system_test"
        ],
        [
         "57",
         "19302754B5457163",
         "A",
         "recommender_system_test"
        ],
        [
         "59",
         "6D3792154BB5A659",
         "A",
         "recommender_system_test"
        ],
        [
         "60",
         "25CE0629AC6B6971",
         "A",
         "recommender_system_test"
        ],
        [
         "61",
         "04BE4EFE4C457312",
         "B",
         "recommender_system_test"
        ],
        [
         "63",
         "8D406B3B500671BD",
         "A",
         "recommender_system_test"
        ],
        [
         "67",
         "44EB15AD423DC31C",
         "A",
         "recommender_system_test"
        ],
        [
         "69",
         "0C2FF828F063B7AD",
         "A",
         "recommender_system_test"
        ],
        [
         "72",
         "3AA908B2D4A96AC2",
         "A",
         "recommender_system_test"
        ],
        [
         "73",
         "9CBD8387C8A1DDDF",
         "A",
         "recommender_system_test"
        ],
        [
         "78",
         "E594B711ADD81DD8",
         "A",
         "recommender_system_test"
        ],
        [
         "79",
         "A1C3D3C6C3CADDC5",
         "A",
         "recommender_system_test"
        ],
        [
         "81",
         "34A2E022930DFCA3",
         "A",
         "recommender_system_test"
        ],
        [
         "82",
         "14AEC962812EB706",
         "B",
         "recommender_system_test"
        ],
        [
         "83",
         "CD668979C54E22F7",
         "B",
         "recommender_system_test"
        ],
        [
         "85",
         "CFDED9167B27A57F",
         "A",
         "recommender_system_test"
        ],
        [
         "88",
         "C86F0150DA3B10F2",
         "A",
         "recommender_system_test"
        ],
        [
         "106",
         "6B72CFAE1935C789",
         "B",
         "recommender_system_test"
        ],
        [
         "108",
         "5D72D0AEF96C50FD",
         "A",
         "recommender_system_test"
        ],
        [
         "118",
         "001064FEAAB631A1",
         "B",
         "recommender_system_test"
        ],
        [
         "119",
         "02894A55BC14A70E",
         "A",
         "recommender_system_test"
        ],
        [
         "121",
         "81AA83FBC31B6C0B",
         "A",
         "recommender_system_test"
        ],
        [
         "123",
         "79BED20696125731",
         "A",
         "recommender_system_test"
        ],
        [
         "126",
         "48496344F079B793",
         "A",
         "recommender_system_test"
        ],
        [
         "127",
         "697F116B31D05FCF",
         "A",
         "recommender_system_test"
        ],
        [
         "131",
         "F97D8746923ABA37",
         "A",
         "recommender_system_test"
        ],
        [
         "132",
         "2B8FD20CA8A2A616",
         "A",
         "recommender_system_test"
        ],
        [
         "133",
         "0CC466ED84E0756D",
         "A",
         "recommender_system_test"
        ],
        [
         "139",
         "0ACD764342811460",
         "A",
         "recommender_system_test"
        ],
        [
         "146",
         "AA5A1803D3FA76B4",
         "A",
         "recommender_system_test"
        ],
        [
         "150",
         "2170CB76798D36EE",
         "A",
         "recommender_system_test"
        ],
        [
         "152",
         "3656B8F3DEF02DA0",
         "A",
         "recommender_system_test"
        ],
        [
         "154",
         "30DEB75B33B92DC8",
         "B",
         "recommender_system_test"
        ],
        [
         "156",
         "DC41AFF8213BE01A",
         "A",
         "recommender_system_test"
        ],
        [
         "157",
         "0D7E9E93CD497547",
         "B",
         "recommender_system_test"
        ],
        [
         "160",
         "E14805CD622EA211",
         "A",
         "recommender_system_test"
        ],
        [
         "166",
         "4B058B8F19045AC9",
         "A",
         "recommender_system_test"
        ],
        [
         "167",
         "60A6101325BBA47E",
         "A",
         "recommender_system_test"
        ]
       ],
       "shape": {
        "columns": 3,
        "rows": 1774
       }
      },
      "text/html": [
       "<div>\n",
       "<style scoped>\n",
       "    .dataframe tbody tr th:only-of-type {\n",
       "        vertical-align: middle;\n",
       "    }\n",
       "\n",
       "    .dataframe tbody tr th {\n",
       "        vertical-align: top;\n",
       "    }\n",
       "\n",
       "    .dataframe thead th {\n",
       "        text-align: right;\n",
       "    }\n",
       "</style>\n",
       "<table border=\"1\" class=\"dataframe\">\n",
       "  <thead>\n",
       "    <tr style=\"text-align: right;\">\n",
       "      <th></th>\n",
       "      <th>user_id</th>\n",
       "      <th>group</th>\n",
       "      <th>ab_test</th>\n",
       "    </tr>\n",
       "  </thead>\n",
       "  <tbody>\n",
       "    <tr>\n",
       "      <th>2</th>\n",
       "      <td>DABC14FDDFADD29E</td>\n",
       "      <td>A</td>\n",
       "      <td>recommender_system_test</td>\n",
       "    </tr>\n",
       "    <tr>\n",
       "      <th>3</th>\n",
       "      <td>04988C5DF189632E</td>\n",
       "      <td>A</td>\n",
       "      <td>recommender_system_test</td>\n",
       "    </tr>\n",
       "    <tr>\n",
       "      <th>8</th>\n",
       "      <td>B3A2485649E4A012</td>\n",
       "      <td>A</td>\n",
       "      <td>recommender_system_test</td>\n",
       "    </tr>\n",
       "    <tr>\n",
       "      <th>15</th>\n",
       "      <td>EAFB9027A27D510C</td>\n",
       "      <td>B</td>\n",
       "      <td>recommender_system_test</td>\n",
       "    </tr>\n",
       "    <tr>\n",
       "      <th>17</th>\n",
       "      <td>5D5E6EE92AF6E9E0</td>\n",
       "      <td>B</td>\n",
       "      <td>recommender_system_test</td>\n",
       "    </tr>\n",
       "    <tr>\n",
       "      <th>...</th>\n",
       "      <td>...</td>\n",
       "      <td>...</td>\n",
       "      <td>...</td>\n",
       "    </tr>\n",
       "    <tr>\n",
       "      <th>14433</th>\n",
       "      <td>7DF21AEB1AA231F9</td>\n",
       "      <td>B</td>\n",
       "      <td>interface_eu_test</td>\n",
       "    </tr>\n",
       "    <tr>\n",
       "      <th>14445</th>\n",
       "      <td>EA6EA431FF84563B</td>\n",
       "      <td>B</td>\n",
       "      <td>interface_eu_test</td>\n",
       "    </tr>\n",
       "    <tr>\n",
       "      <th>14470</th>\n",
       "      <td>70BF82527E6ED9C3</td>\n",
       "      <td>A</td>\n",
       "      <td>interface_eu_test</td>\n",
       "    </tr>\n",
       "    <tr>\n",
       "      <th>14487</th>\n",
       "      <td>EF2E4FAF26951358</td>\n",
       "      <td>A</td>\n",
       "      <td>interface_eu_test</td>\n",
       "    </tr>\n",
       "    <tr>\n",
       "      <th>14511</th>\n",
       "      <td>CA6F4DAED160E5B1</td>\n",
       "      <td>A</td>\n",
       "      <td>interface_eu_test</td>\n",
       "    </tr>\n",
       "  </tbody>\n",
       "</table>\n",
       "<p>1774 rows × 3 columns</p>\n",
       "</div>"
      ],
      "text/plain": [
       "                user_id group                  ab_test\n",
       "2      DABC14FDDFADD29E     A  recommender_system_test\n",
       "3      04988C5DF189632E     A  recommender_system_test\n",
       "8      B3A2485649E4A012     A  recommender_system_test\n",
       "15     EAFB9027A27D510C     B  recommender_system_test\n",
       "17     5D5E6EE92AF6E9E0     B  recommender_system_test\n",
       "...                 ...   ...                      ...\n",
       "14433  7DF21AEB1AA231F9     B        interface_eu_test\n",
       "14445  EA6EA431FF84563B     B        interface_eu_test\n",
       "14470  70BF82527E6ED9C3     A        interface_eu_test\n",
       "14487  EF2E4FAF26951358     A        interface_eu_test\n",
       "14511  CA6F4DAED160E5B1     A        interface_eu_test\n",
       "\n",
       "[1774 rows x 3 columns]"
      ]
     },
     "execution_count": 9,
     "metadata": {},
     "output_type": "execute_result"
    }
   ],
   "source": [
    "# Comprobar si hay usuarios que estén en ambos grupos\n",
    "overlap_users = participants[participants.duplicated(subset='user_id', keep=False)]\n",
    "overlap_users"
   ]
  },
  {
   "cell_type": "markdown",
   "id": "d9f37001",
   "metadata": {},
   "source": [
    "Hay 1,774 usuarios que están registrados en ambos grupos A y B, lo cual es un posible problema de contaminación del grupo y podría afectar los resultados de la prueba A/B. Es importante decidir cómo manejar estos usuarios (por ejemplo, eliminarlos de uno de los grupos)."
   ]
  },
  {
   "cell_type": "code",
   "execution_count": 10,
   "id": "41fced84",
   "metadata": {},
   "outputs": [
    {
     "data": {
      "text/plain": [
       "event_dt\n",
       "2020-12-07    11385\n",
       "2020-12-08    12547\n",
       "2020-12-09    12122\n",
       "2020-12-10    14077\n",
       "2020-12-11    13864\n",
       "2020-12-12    17634\n",
       "2020-12-13    20985\n",
       "2020-12-14    26184\n",
       "2020-12-15    23469\n",
       "2020-12-16    20909\n",
       "2020-12-17    21751\n",
       "2020-12-18    22871\n",
       "2020-12-19    24273\n",
       "2020-12-20    26425\n",
       "2020-12-21    32559\n",
       "2020-12-22    29472\n",
       "2020-12-23    26108\n",
       "2020-12-24    19399\n",
       "2020-12-26    14058\n",
       "2020-12-27    12420\n",
       "2020-12-28    11014\n",
       "2020-12-29    10146\n",
       "2020-12-30       89\n",
       "Name: event_name, dtype: int64"
      ]
     },
     "execution_count": 10,
     "metadata": {},
     "output_type": "execute_result"
    }
   ],
   "source": [
    "# Analizar la distribución de los eventos entre los días\n",
    "events_per_day = events.groupby(events['event_dt'].dt.date)['event_name'].count()\n",
    "\n",
    "events_per_day"
   ]
  },
  {
   "cell_type": "markdown",
   "id": "8611c66a",
   "metadata": {},
   "source": [
    "El número de eventos aumenta progresivamente, con un máximo de 14,077 eventos registrados el 10 de diciembre de 2020."
   ]
  },
  {
   "cell_type": "markdown",
   "id": "e2083b0b",
   "metadata": {},
   "source": [
    "### Excluir a los usuarios que están en ambos grupos para evitar contaminación del grupo."
   ]
  },
  {
   "cell_type": "code",
   "execution_count": 11,
   "id": "4ea07bf1",
   "metadata": {},
   "outputs": [],
   "source": [
    "# Excluir usuarios que están en ambos grupos (duplicados)\n",
    "valid_participants = participants[~participants['user_id'].isin(overlap_users['user_id'])]"
   ]
  },
  {
   "cell_type": "code",
   "execution_count": 12,
   "id": "ca3f5e06",
   "metadata": {},
   "outputs": [],
   "source": [
    "# Filtrar los eventos de los participantes válidos\n",
    "valid_events = events[events['user_id'].isin(valid_participants['user_id'])]"
   ]
  },
  {
   "cell_type": "code",
   "execution_count": 13,
   "id": "41711484",
   "metadata": {},
   "outputs": [],
   "source": [
    "# Contar los eventos en cada etapa del embudo\n",
    "product_page_events = valid_events[valid_events['event_name'] == 'product_page']\n",
    "product_cart_events = valid_events[valid_events['event_name'] == 'product_cart']\n",
    "purchase_events = valid_events[valid_events['event_name'] == 'purchase']"
   ]
  },
  {
   "cell_type": "markdown",
   "id": "43b32fff",
   "metadata": {},
   "source": [
    "# Conversiones (proporciones de usuarios en cada etapa)"
   ]
  },
  {
   "cell_type": "code",
   "execution_count": 14,
   "id": "9fc3701f",
   "metadata": {},
   "outputs": [
    {
     "data": {
      "text/plain": [
       "(65.69680809348286,\n",
       " 32.475884244372985,\n",
       " 33.605207434711005,\n",
       "        product_page_conversion  product_cart_conversion  purchase_conversion\n",
       " group                                                                       \n",
       " A                     0.666291                 0.318624             0.343155\n",
       " B                     0.645281                 0.332450             0.327147)"
      ]
     },
     "execution_count": 14,
     "metadata": {},
     "output_type": "execute_result"
    }
   ],
   "source": [
    "# Calcular conversiones (proporciones de usuarios en cada etapa)\n",
    "product_page_conversion = product_page_events['user_id'].nunique() / valid_participants['user_id'].nunique() *100\n",
    "product_cart_conversion = product_cart_events['user_id'].nunique() / valid_participants['user_id'].nunique()*100\n",
    "purchase_conversion = purchase_events['user_id'].nunique() / valid_participants['user_id'].nunique()*100\n",
    "\n",
    "# Comparar las conversiones entre los grupos A y B\n",
    "group_conversions = valid_participants.groupby('group').agg(\n",
    "    product_page_conversion=('user_id', lambda x: product_page_events[product_page_events['user_id'].isin(x)]['user_id'].nunique() / len(x)),\n",
    "    product_cart_conversion=('user_id', lambda x: product_cart_events[product_cart_events['user_id'].isin(x)]['user_id'].nunique() / len(x)),\n",
    "    purchase_conversion=('user_id', lambda x: purchase_events[purchase_events['user_id'].isin(x)]['user_id'].nunique() / len(x))\n",
    ")\n",
    "\n",
    "\n",
    "product_page_conversion, product_cart_conversion, purchase_conversion, group_conversions"
   ]
  },
  {
   "cell_type": "markdown",
   "id": "358c75e9",
   "metadata": {},
   "source": [
    "En general, el Grupo A tiene una ligera ventaja en las tres etapas del embudo: vistas de producto, agregar al carrito y compras.\n",
    "\n",
    "El Grupo B tiene un mejor rendimiento en la etapa de agregar al carrito (33.25% frente a 31.86% del Grupo A), pero el Grupo A tiene una mayor conversión en las etapas de vistas de producto y compras."
   ]
  },
  {
   "cell_type": "markdown",
   "id": "a46df0e5",
   "metadata": {},
   "source": [
    "## Prueba estadistica"
   ]
  },
  {
   "cell_type": "code",
   "execution_count": 15,
   "id": "75859a69",
   "metadata": {},
   "outputs": [],
   "source": [
    "# Definir el número de éxitos y el número de observaciones para cada grupo y cada etapa\n",
    "successes = [\n",
    "    # Vistas de producto\n",
    "    (group_conversions.loc['A', 'product_page_conversion'] * participants_count['A'],\n",
    "     group_conversions.loc['B', 'product_page_conversion'] * participants_count['B']),\n",
    "    \n",
    "    # Agregar al carrito\n",
    "    (group_conversions.loc['A', 'product_cart_conversion'] * participants_count['A'],\n",
    "     group_conversions.loc['B', 'product_cart_conversion'] * participants_count['B']),\n",
    "    \n",
    "    # Compras\n",
    "    (group_conversions.loc['A', 'purchase_conversion'] * participants_count['A'],\n",
    "     group_conversions.loc['B', 'purchase_conversion'] * participants_count['B'])\n",
    "]"
   ]
  },
  {
   "cell_type": "code",
   "execution_count": 16,
   "id": "da8e5fee",
   "metadata": {},
   "outputs": [],
   "source": [
    "# Definir el número total de participantes en cada grupo\n",
    "n = [\n",
    "    participants_count['A'],\n",
    "    participants_count['B']\n",
    "]\n"
   ]
  },
  {
   "cell_type": "code",
   "execution_count": 17,
   "id": "f617ff65",
   "metadata": {},
   "outputs": [
    {
     "data": {
      "text/plain": [
       "[(np.float64(2.6072462226758417), np.float64(0.009127370064603358)),\n",
       " (np.float64(-1.7392907745918536), np.float64(0.08198362922778935)),\n",
       " (np.float64(1.996316025304993), np.float64(0.045899534801336135))]"
      ]
     },
     "execution_count": 17,
     "metadata": {},
     "output_type": "execute_result"
    }
   ],
   "source": [
    "# Realizar la prueba Z para cada etapa\n",
    "z_results = []\n",
    "for success_a, success_b in successes:\n",
    "    z_stat, p_value = proportions_ztest([success_a, success_b], [n[0], n[1]])\n",
    "    z_results.append((z_stat, p_value))\n",
    "\n",
    "z_results"
   ]
  },
  {
   "cell_type": "code",
   "execution_count": 20,
   "id": "bcce55a7",
   "metadata": {},
   "outputs": [
    {
     "data": {
      "application/vnd.microsoft.datawrangler.viewer.v0+json": {
       "columns": [
        {
         "name": "index",
         "rawType": "int64",
         "type": "integer"
        },
        {
         "name": "Stage",
         "rawType": "object",
         "type": "string"
        },
        {
         "name": "Z-Statistic",
         "rawType": "float64",
         "type": "float"
        },
        {
         "name": "P-Value",
         "rawType": "float64",
         "type": "float"
        },
        {
         "name": "Significant?",
         "rawType": "object",
         "type": "string"
        }
       ],
       "conversionMethod": "pd.DataFrame",
       "ref": "b0523eae-feeb-4c2f-9a7c-ca6098553c14",
       "rows": [
        [
         "0",
         "product_page",
         "2.6072462226758417",
         "0.009127370064603358",
         "Yes"
        ],
        [
         "1",
         "product_cart",
         "-1.7392907745918536",
         "0.08198362922778935",
         "No"
        ],
        [
         "2",
         "purchase",
         "1.996316025304993",
         "0.045899534801336135",
         "Yes"
        ]
       ],
       "shape": {
        "columns": 4,
        "rows": 3
       }
      },
      "text/html": [
       "<div>\n",
       "<style scoped>\n",
       "    .dataframe tbody tr th:only-of-type {\n",
       "        vertical-align: middle;\n",
       "    }\n",
       "\n",
       "    .dataframe tbody tr th {\n",
       "        vertical-align: top;\n",
       "    }\n",
       "\n",
       "    .dataframe thead th {\n",
       "        text-align: right;\n",
       "    }\n",
       "</style>\n",
       "<table border=\"1\" class=\"dataframe\">\n",
       "  <thead>\n",
       "    <tr style=\"text-align: right;\">\n",
       "      <th></th>\n",
       "      <th>Stage</th>\n",
       "      <th>Z-Statistic</th>\n",
       "      <th>P-Value</th>\n",
       "      <th>Significant?</th>\n",
       "    </tr>\n",
       "  </thead>\n",
       "  <tbody>\n",
       "    <tr>\n",
       "      <th>0</th>\n",
       "      <td>product_page</td>\n",
       "      <td>2.607246</td>\n",
       "      <td>0.009127</td>\n",
       "      <td>Yes</td>\n",
       "    </tr>\n",
       "    <tr>\n",
       "      <th>1</th>\n",
       "      <td>product_cart</td>\n",
       "      <td>-1.739291</td>\n",
       "      <td>0.081984</td>\n",
       "      <td>No</td>\n",
       "    </tr>\n",
       "    <tr>\n",
       "      <th>2</th>\n",
       "      <td>purchase</td>\n",
       "      <td>1.996316</td>\n",
       "      <td>0.045900</td>\n",
       "      <td>Yes</td>\n",
       "    </tr>\n",
       "  </tbody>\n",
       "</table>\n",
       "</div>"
      ],
      "text/plain": [
       "          Stage  Z-Statistic   P-Value Significant?\n",
       "0  product_page     2.607246  0.009127          Yes\n",
       "1  product_cart    -1.739291  0.081984           No\n",
       "2      purchase     1.996316  0.045900          Yes"
      ]
     },
     "execution_count": 20,
     "metadata": {},
     "output_type": "execute_result"
    }
   ],
   "source": [
    "# Crear una tabla con los resultados de la prueba estadística Z\n",
    "z_test_results = pd.DataFrame(\n",
    "    {\n",
    "        'Stage': ['product_page', 'product_cart', 'purchase'],\n",
    "        'Z-Statistic': [z_results[0][0], z_results[1][0], z_results[2][0]],\n",
    "        'P-Value': [z_results[0][1], z_results[1][1], z_results[2][1]],\n",
    "        'Significant?': ['Yes' if p < 0.05 else 'No' for _, p in z_results]\n",
    "    }\n",
    ")\n",
    "\n",
    "z_test_results"
   ]
  },
  {
   "cell_type": "markdown",
   "id": "19f2d779",
   "metadata": {},
   "source": [
    "Resultados de la prueba Z:\n",
    "- Vistas de producto (product_page):\n",
    "\n",
    "    - Estadístico Z: 2.61\n",
    "\n",
    "    - Valor p: 0.0091\n",
    "\n",
    "La diferencia entre los grupos A y B en esta etapa es estadísticamente significativa (p < 0.05), lo que sugiere que el Grupo A tiene una mayor conversión en vistas de producto.\n",
    "\n",
    "- Agregar al carrito (product_cart):\n",
    "\n",
    "    - Estadístico Z: -1.74\n",
    "\n",
    "    - Valor p: 0.082\n",
    "\n",
    "La diferencia entre los grupos A y B en esta etapa no es estadísticamente significativa (p > 0.05), lo que indica que no hay suficiente evidencia para afirmar que uno de los grupos tenga una mayor conversión en esta etapa.\n",
    "\n",
    "- Compras (purchase):\n",
    "\n",
    "    -Estadístico Z: 2.00\n",
    "\n",
    "    - Valor p: 0.0459\n",
    "\n",
    "La diferencia entre los grupos A y B en esta etapa es estadísticamente significativa (p < 0.05), lo que sugiere que el Grupo A tiene una mayor conversión en compras.\n",
    "\n",
    "- Conclusiones:\n",
    "Vistas de producto: La diferencia entre los grupos es significativa, con el Grupo A mostrando una mayor conversión.\n",
    "\n",
    "Agregar al carrito: No hay evidencia suficiente para afirmar que uno de los grupos sea superior en esta etapa.\n",
    "\n",
    "Compras: La diferencia es significativa, y nuevamente, el Grupo A muestra una mayor conversión.\n",
    "\n",
    "- Recomendación:\n",
    "El sistema de recomendaciones en el Grupo B no parece tener un efecto positivo en las conversiones globales, ya que el Grupo A mostró mejores resultados en las etapas clave del embudo. Sin embargo, la prueba A/B no muestra una mejora sustancial en las conversiones, especialmente en la etapa de agregar al carrito."
   ]
  }
 ],
 "metadata": {
  "kernelspec": {
   "display_name": "Python 3",
   "language": "python",
   "name": "python3"
  },
  "language_info": {
   "codemirror_mode": {
    "name": "ipython",
    "version": 3
   },
   "file_extension": ".py",
   "mimetype": "text/x-python",
   "name": "python",
   "nbconvert_exporter": "python",
   "pygments_lexer": "ipython3",
   "version": "3.11.9"
  }
 },
 "nbformat": 4,
 "nbformat_minor": 5
}
