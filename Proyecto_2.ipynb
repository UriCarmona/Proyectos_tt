{
 "cells": [
  {
   "cell_type": "markdown",
   "metadata": {},
   "source": [
    "# Proyecto 2"
   ]
  },
  {
   "cell_type": "markdown",
   "metadata": {},
   "source": [
    "Trabajas en una empresa emergente que vende productos alimenticios. Debes investigar el comportamiento del usuario para la aplicación de la empresa.\n",
    "\n",
    "Primero, estudia el embudo de ventas. Descubre cómo los usuarios llegan a la etapa de compra. ¿Cuántos usuarios realmente llegan a esta etapa? ¿Cuántos se atascan en etapas anteriores? ¿Qué etapas en particular?"
   ]
  },
  {
   "cell_type": "code",
   "execution_count": 6,
   "metadata": {},
   "outputs": [],
   "source": [
    "# Carga de librerias\n",
    "import pandas as pd\n",
    "import numpy as np\n",
    "import matplotlib.pyplot as plt\n",
    "import seaborn as sns   \n",
    "import matplotlib.dates as mdates\n",
    "from statsmodels.stats.proportion import proportions_ztest, proportion_confint\n"
   ]
  },
  {
   "cell_type": "code",
   "execution_count": 7,
   "metadata": {},
   "outputs": [],
   "source": [
    "# Carga de dataset\n",
    "data = pd.read_csv('logs_exp_us.csv', sep= '\\t')"
   ]
  },
  {
   "cell_type": "markdown",
   "metadata": {},
   "source": [
    "# Diagnostico incial de los datos"
   ]
  },
  {
   "cell_type": "code",
   "execution_count": 8,
   "metadata": {},
   "outputs": [
    {
     "name": "stdout",
     "output_type": "stream",
     "text": [
      "<class 'pandas.core.frame.DataFrame'>\n",
      "RangeIndex: 244126 entries, 0 to 244125\n",
      "Data columns (total 4 columns):\n",
      " #   Column          Non-Null Count   Dtype \n",
      "---  ------          --------------   ----- \n",
      " 0   EventName       244126 non-null  object\n",
      " 1   DeviceIDHash    244126 non-null  int64 \n",
      " 2   EventTimestamp  244126 non-null  int64 \n",
      " 3   ExpId           244126 non-null  int64 \n",
      "dtypes: int64(3), object(1)\n",
      "memory usage: 7.5+ MB\n"
     ]
    }
   ],
   "source": [
    "data.info()"
   ]
  },
  {
   "cell_type": "code",
   "execution_count": 9,
   "metadata": {},
   "outputs": [
    {
     "data": {
      "text/html": [
       "<div>\n",
       "<style scoped>\n",
       "    .dataframe tbody tr th:only-of-type {\n",
       "        vertical-align: middle;\n",
       "    }\n",
       "\n",
       "    .dataframe tbody tr th {\n",
       "        vertical-align: top;\n",
       "    }\n",
       "\n",
       "    .dataframe thead th {\n",
       "        text-align: right;\n",
       "    }\n",
       "</style>\n",
       "<table border=\"1\" class=\"dataframe\">\n",
       "  <thead>\n",
       "    <tr style=\"text-align: right;\">\n",
       "      <th></th>\n",
       "      <th>EventName</th>\n",
       "      <th>DeviceIDHash</th>\n",
       "      <th>EventTimestamp</th>\n",
       "      <th>ExpId</th>\n",
       "    </tr>\n",
       "  </thead>\n",
       "  <tbody>\n",
       "    <tr>\n",
       "      <th>190021</th>\n",
       "      <td>MainScreenAppear</td>\n",
       "      <td>7316683411435209477</td>\n",
       "      <td>1565087959</td>\n",
       "      <td>248</td>\n",
       "    </tr>\n",
       "    <tr>\n",
       "      <th>218623</th>\n",
       "      <td>PaymentScreenSuccessful</td>\n",
       "      <td>1406753793485315697</td>\n",
       "      <td>1565162785</td>\n",
       "      <td>246</td>\n",
       "    </tr>\n",
       "    <tr>\n",
       "      <th>98577</th>\n",
       "      <td>MainScreenAppear</td>\n",
       "      <td>8151171791094472646</td>\n",
       "      <td>1564847363</td>\n",
       "      <td>247</td>\n",
       "    </tr>\n",
       "    <tr>\n",
       "      <th>49281</th>\n",
       "      <td>Tutorial</td>\n",
       "      <td>6332565246182501322</td>\n",
       "      <td>1564737031</td>\n",
       "      <td>248</td>\n",
       "    </tr>\n",
       "    <tr>\n",
       "      <th>216805</th>\n",
       "      <td>MainScreenAppear</td>\n",
       "      <td>3695682546619974353</td>\n",
       "      <td>1565158147</td>\n",
       "      <td>248</td>\n",
       "    </tr>\n",
       "    <tr>\n",
       "      <th>15215</th>\n",
       "      <td>MainScreenAppear</td>\n",
       "      <td>3690159454468088620</td>\n",
       "      <td>1564657115</td>\n",
       "      <td>246</td>\n",
       "    </tr>\n",
       "    <tr>\n",
       "      <th>112831</th>\n",
       "      <td>OffersScreenAppear</td>\n",
       "      <td>6614985746798545862</td>\n",
       "      <td>1564903628</td>\n",
       "      <td>246</td>\n",
       "    </tr>\n",
       "    <tr>\n",
       "      <th>35307</th>\n",
       "      <td>OffersScreenAppear</td>\n",
       "      <td>6707886513123955772</td>\n",
       "      <td>1564686550</td>\n",
       "      <td>246</td>\n",
       "    </tr>\n",
       "    <tr>\n",
       "      <th>87442</th>\n",
       "      <td>PaymentScreenSuccessful</td>\n",
       "      <td>8173190940950873857</td>\n",
       "      <td>1564830729</td>\n",
       "      <td>246</td>\n",
       "    </tr>\n",
       "    <tr>\n",
       "      <th>132627</th>\n",
       "      <td>OffersScreenAppear</td>\n",
       "      <td>6394616444764198947</td>\n",
       "      <td>1564936209</td>\n",
       "      <td>246</td>\n",
       "    </tr>\n",
       "  </tbody>\n",
       "</table>\n",
       "</div>"
      ],
      "text/plain": [
       "                      EventName         DeviceIDHash  EventTimestamp  ExpId\n",
       "190021         MainScreenAppear  7316683411435209477      1565087959    248\n",
       "218623  PaymentScreenSuccessful  1406753793485315697      1565162785    246\n",
       "98577          MainScreenAppear  8151171791094472646      1564847363    247\n",
       "49281                  Tutorial  6332565246182501322      1564737031    248\n",
       "216805         MainScreenAppear  3695682546619974353      1565158147    248\n",
       "15215          MainScreenAppear  3690159454468088620      1564657115    246\n",
       "112831       OffersScreenAppear  6614985746798545862      1564903628    246\n",
       "35307        OffersScreenAppear  6707886513123955772      1564686550    246\n",
       "87442   PaymentScreenSuccessful  8173190940950873857      1564830729    246\n",
       "132627       OffersScreenAppear  6394616444764198947      1564936209    246"
      ]
     },
     "execution_count": 9,
     "metadata": {},
     "output_type": "execute_result"
    }
   ],
   "source": [
    "data.sample(10)"
   ]
  },
  {
   "cell_type": "code",
   "execution_count": 10,
   "metadata": {},
   "outputs": [
    {
     "data": {
      "text/plain": [
       "ExpId\n",
       "248    85747\n",
       "246    80304\n",
       "247    78075\n",
       "Name: count, dtype: int64"
      ]
     },
     "execution_count": 10,
     "metadata": {},
     "output_type": "execute_result"
    }
   ],
   "source": [
    "#Contamos los casos de cada experimento para ver si hay desequilibrio\n",
    "data['ExpId'].value_counts()"
   ]
  },
  {
   "cell_type": "code",
   "execution_count": 11,
   "metadata": {},
   "outputs": [
    {
     "data": {
      "text/plain": [
       "EventName\n",
       "MainScreenAppear           119205\n",
       "OffersScreenAppear          46825\n",
       "CartScreenAppear            42731\n",
       "PaymentScreenSuccessful     34313\n",
       "Tutorial                     1052\n",
       "Name: count, dtype: int64"
      ]
     },
     "execution_count": 11,
     "metadata": {},
     "output_type": "execute_result"
    }
   ],
   "source": [
    "#Contamos los nombres de los eventos\n",
    "data['EventName'].value_counts()"
   ]
  },
  {
   "cell_type": "code",
   "execution_count": 12,
   "metadata": {},
   "outputs": [
    {
     "data": {
      "text/plain": [
       "7551"
      ]
     },
     "execution_count": 12,
     "metadata": {},
     "output_type": "execute_result"
    }
   ],
   "source": [
    "#Revisamos el total de usuarios\n",
    "data['DeviceIDHash'].nunique()"
   ]
  },
  {
   "cell_type": "markdown",
   "metadata": {},
   "source": [
    "# Plan de trabajo"
   ]
  },
  {
   "cell_type": "markdown",
   "metadata": {},
   "source": [
    "- Cambiamos el nombre de las columnas a un tipo snakecase\n",
    "- Cambiamos el tipo de columna de EventTimestamp a tipo datetime\n",
    "- Hacemos mas semantico los grupos de experimento\n",
    "- Agregamos la columnas de fecha y hora\n",
    "- Eliminamos los registros de Tutorial"
   ]
  },
  {
   "cell_type": "markdown",
   "metadata": {},
   "source": [
    "# Procesamiento de datos"
   ]
  },
  {
   "cell_type": "code",
   "execution_count": 13,
   "metadata": {},
   "outputs": [
    {
     "name": "stdout",
     "output_type": "stream",
     "text": [
      "<class 'pandas.core.frame.DataFrame'>\n",
      "RangeIndex: 244126 entries, 0 to 244125\n",
      "Data columns (total 4 columns):\n",
      " #   Column     Non-Null Count   Dtype \n",
      "---  ------     --------------   ----- \n",
      " 0   event      244126 non-null  object\n",
      " 1   user       244126 non-null  int64 \n",
      " 2   timestamp  244126 non-null  int64 \n",
      " 3   exp_id     244126 non-null  int64 \n",
      "dtypes: int64(3), object(1)\n",
      "memory usage: 7.5+ MB\n"
     ]
    }
   ],
   "source": [
    "#Cambiamos el nombre de las columna a snakecase\n",
    "data = data.rename(columns={'EventName': 'event', 'DeviceIDHash': 'user', 'EventTimestamp':'timestamp', 'ExpId': 'exp_id'})\n",
    "data.info()"
   ]
  },
  {
   "cell_type": "code",
   "execution_count": 14,
   "metadata": {},
   "outputs": [
    {
     "data": {
      "text/html": [
       "<div>\n",
       "<style scoped>\n",
       "    .dataframe tbody tr th:only-of-type {\n",
       "        vertical-align: middle;\n",
       "    }\n",
       "\n",
       "    .dataframe tbody tr th {\n",
       "        vertical-align: top;\n",
       "    }\n",
       "\n",
       "    .dataframe thead th {\n",
       "        text-align: right;\n",
       "    }\n",
       "</style>\n",
       "<table border=\"1\" class=\"dataframe\">\n",
       "  <thead>\n",
       "    <tr style=\"text-align: right;\">\n",
       "      <th></th>\n",
       "      <th>event</th>\n",
       "      <th>user</th>\n",
       "      <th>timestamp</th>\n",
       "      <th>exp_id</th>\n",
       "    </tr>\n",
       "  </thead>\n",
       "  <tbody>\n",
       "    <tr>\n",
       "      <th>0</th>\n",
       "      <td>MainScreenAppear</td>\n",
       "      <td>4575588528974610257</td>\n",
       "      <td>2019-07-25 04:43:36</td>\n",
       "      <td>246</td>\n",
       "    </tr>\n",
       "    <tr>\n",
       "      <th>1</th>\n",
       "      <td>MainScreenAppear</td>\n",
       "      <td>7416695313311560658</td>\n",
       "      <td>2019-07-25 11:11:42</td>\n",
       "      <td>246</td>\n",
       "    </tr>\n",
       "    <tr>\n",
       "      <th>2</th>\n",
       "      <td>PaymentScreenSuccessful</td>\n",
       "      <td>3518123091307005509</td>\n",
       "      <td>2019-07-25 11:28:47</td>\n",
       "      <td>248</td>\n",
       "    </tr>\n",
       "    <tr>\n",
       "      <th>3</th>\n",
       "      <td>CartScreenAppear</td>\n",
       "      <td>3518123091307005509</td>\n",
       "      <td>2019-07-25 11:28:47</td>\n",
       "      <td>248</td>\n",
       "    </tr>\n",
       "    <tr>\n",
       "      <th>4</th>\n",
       "      <td>PaymentScreenSuccessful</td>\n",
       "      <td>6217807653094995999</td>\n",
       "      <td>2019-07-25 11:48:42</td>\n",
       "      <td>248</td>\n",
       "    </tr>\n",
       "    <tr>\n",
       "      <th>...</th>\n",
       "      <td>...</td>\n",
       "      <td>...</td>\n",
       "      <td>...</td>\n",
       "      <td>...</td>\n",
       "    </tr>\n",
       "    <tr>\n",
       "      <th>244121</th>\n",
       "      <td>MainScreenAppear</td>\n",
       "      <td>4599628364049201812</td>\n",
       "      <td>2019-08-07 21:12:25</td>\n",
       "      <td>247</td>\n",
       "    </tr>\n",
       "    <tr>\n",
       "      <th>244122</th>\n",
       "      <td>MainScreenAppear</td>\n",
       "      <td>5849806612437486590</td>\n",
       "      <td>2019-08-07 21:13:59</td>\n",
       "      <td>246</td>\n",
       "    </tr>\n",
       "    <tr>\n",
       "      <th>244123</th>\n",
       "      <td>MainScreenAppear</td>\n",
       "      <td>5746969938801999050</td>\n",
       "      <td>2019-08-07 21:14:43</td>\n",
       "      <td>246</td>\n",
       "    </tr>\n",
       "    <tr>\n",
       "      <th>244124</th>\n",
       "      <td>MainScreenAppear</td>\n",
       "      <td>5746969938801999050</td>\n",
       "      <td>2019-08-07 21:14:58</td>\n",
       "      <td>246</td>\n",
       "    </tr>\n",
       "    <tr>\n",
       "      <th>244125</th>\n",
       "      <td>OffersScreenAppear</td>\n",
       "      <td>5746969938801999050</td>\n",
       "      <td>2019-08-07 21:15:17</td>\n",
       "      <td>246</td>\n",
       "    </tr>\n",
       "  </tbody>\n",
       "</table>\n",
       "<p>244126 rows × 4 columns</p>\n",
       "</div>"
      ],
      "text/plain": [
       "                          event                 user           timestamp  \\\n",
       "0              MainScreenAppear  4575588528974610257 2019-07-25 04:43:36   \n",
       "1              MainScreenAppear  7416695313311560658 2019-07-25 11:11:42   \n",
       "2       PaymentScreenSuccessful  3518123091307005509 2019-07-25 11:28:47   \n",
       "3              CartScreenAppear  3518123091307005509 2019-07-25 11:28:47   \n",
       "4       PaymentScreenSuccessful  6217807653094995999 2019-07-25 11:48:42   \n",
       "...                         ...                  ...                 ...   \n",
       "244121         MainScreenAppear  4599628364049201812 2019-08-07 21:12:25   \n",
       "244122         MainScreenAppear  5849806612437486590 2019-08-07 21:13:59   \n",
       "244123         MainScreenAppear  5746969938801999050 2019-08-07 21:14:43   \n",
       "244124         MainScreenAppear  5746969938801999050 2019-08-07 21:14:58   \n",
       "244125       OffersScreenAppear  5746969938801999050 2019-08-07 21:15:17   \n",
       "\n",
       "        exp_id  \n",
       "0          246  \n",
       "1          246  \n",
       "2          248  \n",
       "3          248  \n",
       "4          248  \n",
       "...        ...  \n",
       "244121     247  \n",
       "244122     246  \n",
       "244123     246  \n",
       "244124     246  \n",
       "244125     246  \n",
       "\n",
       "[244126 rows x 4 columns]"
      ]
     },
     "execution_count": 14,
     "metadata": {},
     "output_type": "execute_result"
    }
   ],
   "source": [
    "# Cambiamos el tipo de datos de la columna EventTimestamp\n",
    "data['timestamp'] = pd.to_datetime(data['timestamp'],unit='s')\n",
    "data"
   ]
  },
  {
   "cell_type": "code",
   "execution_count": 15,
   "metadata": {},
   "outputs": [
    {
     "data": {
      "text/html": [
       "<div>\n",
       "<style scoped>\n",
       "    .dataframe tbody tr th:only-of-type {\n",
       "        vertical-align: middle;\n",
       "    }\n",
       "\n",
       "    .dataframe tbody tr th {\n",
       "        vertical-align: top;\n",
       "    }\n",
       "\n",
       "    .dataframe thead th {\n",
       "        text-align: right;\n",
       "    }\n",
       "</style>\n",
       "<table border=\"1\" class=\"dataframe\">\n",
       "  <thead>\n",
       "    <tr style=\"text-align: right;\">\n",
       "      <th></th>\n",
       "      <th>event</th>\n",
       "      <th>user</th>\n",
       "      <th>timestamp</th>\n",
       "      <th>exp_id</th>\n",
       "      <th>date</th>\n",
       "    </tr>\n",
       "  </thead>\n",
       "  <tbody>\n",
       "    <tr>\n",
       "      <th>0</th>\n",
       "      <td>MainScreenAppear</td>\n",
       "      <td>4575588528974610257</td>\n",
       "      <td>2019-07-25 04:43:36</td>\n",
       "      <td>246</td>\n",
       "      <td>2019-07-25</td>\n",
       "    </tr>\n",
       "    <tr>\n",
       "      <th>1</th>\n",
       "      <td>MainScreenAppear</td>\n",
       "      <td>7416695313311560658</td>\n",
       "      <td>2019-07-25 11:11:42</td>\n",
       "      <td>246</td>\n",
       "      <td>2019-07-25</td>\n",
       "    </tr>\n",
       "    <tr>\n",
       "      <th>2</th>\n",
       "      <td>PaymentScreenSuccessful</td>\n",
       "      <td>3518123091307005509</td>\n",
       "      <td>2019-07-25 11:28:47</td>\n",
       "      <td>248</td>\n",
       "      <td>2019-07-25</td>\n",
       "    </tr>\n",
       "    <tr>\n",
       "      <th>3</th>\n",
       "      <td>CartScreenAppear</td>\n",
       "      <td>3518123091307005509</td>\n",
       "      <td>2019-07-25 11:28:47</td>\n",
       "      <td>248</td>\n",
       "      <td>2019-07-25</td>\n",
       "    </tr>\n",
       "    <tr>\n",
       "      <th>4</th>\n",
       "      <td>PaymentScreenSuccessful</td>\n",
       "      <td>6217807653094995999</td>\n",
       "      <td>2019-07-25 11:48:42</td>\n",
       "      <td>248</td>\n",
       "      <td>2019-07-25</td>\n",
       "    </tr>\n",
       "    <tr>\n",
       "      <th>...</th>\n",
       "      <td>...</td>\n",
       "      <td>...</td>\n",
       "      <td>...</td>\n",
       "      <td>...</td>\n",
       "      <td>...</td>\n",
       "    </tr>\n",
       "    <tr>\n",
       "      <th>244121</th>\n",
       "      <td>MainScreenAppear</td>\n",
       "      <td>4599628364049201812</td>\n",
       "      <td>2019-08-07 21:12:25</td>\n",
       "      <td>247</td>\n",
       "      <td>2019-08-07</td>\n",
       "    </tr>\n",
       "    <tr>\n",
       "      <th>244122</th>\n",
       "      <td>MainScreenAppear</td>\n",
       "      <td>5849806612437486590</td>\n",
       "      <td>2019-08-07 21:13:59</td>\n",
       "      <td>246</td>\n",
       "      <td>2019-08-07</td>\n",
       "    </tr>\n",
       "    <tr>\n",
       "      <th>244123</th>\n",
       "      <td>MainScreenAppear</td>\n",
       "      <td>5746969938801999050</td>\n",
       "      <td>2019-08-07 21:14:43</td>\n",
       "      <td>246</td>\n",
       "      <td>2019-08-07</td>\n",
       "    </tr>\n",
       "    <tr>\n",
       "      <th>244124</th>\n",
       "      <td>MainScreenAppear</td>\n",
       "      <td>5746969938801999050</td>\n",
       "      <td>2019-08-07 21:14:58</td>\n",
       "      <td>246</td>\n",
       "      <td>2019-08-07</td>\n",
       "    </tr>\n",
       "    <tr>\n",
       "      <th>244125</th>\n",
       "      <td>OffersScreenAppear</td>\n",
       "      <td>5746969938801999050</td>\n",
       "      <td>2019-08-07 21:15:17</td>\n",
       "      <td>246</td>\n",
       "      <td>2019-08-07</td>\n",
       "    </tr>\n",
       "  </tbody>\n",
       "</table>\n",
       "<p>244126 rows × 5 columns</p>\n",
       "</div>"
      ],
      "text/plain": [
       "                          event                 user           timestamp  \\\n",
       "0              MainScreenAppear  4575588528974610257 2019-07-25 04:43:36   \n",
       "1              MainScreenAppear  7416695313311560658 2019-07-25 11:11:42   \n",
       "2       PaymentScreenSuccessful  3518123091307005509 2019-07-25 11:28:47   \n",
       "3              CartScreenAppear  3518123091307005509 2019-07-25 11:28:47   \n",
       "4       PaymentScreenSuccessful  6217807653094995999 2019-07-25 11:48:42   \n",
       "...                         ...                  ...                 ...   \n",
       "244121         MainScreenAppear  4599628364049201812 2019-08-07 21:12:25   \n",
       "244122         MainScreenAppear  5849806612437486590 2019-08-07 21:13:59   \n",
       "244123         MainScreenAppear  5746969938801999050 2019-08-07 21:14:43   \n",
       "244124         MainScreenAppear  5746969938801999050 2019-08-07 21:14:58   \n",
       "244125       OffersScreenAppear  5746969938801999050 2019-08-07 21:15:17   \n",
       "\n",
       "        exp_id       date  \n",
       "0          246 2019-07-25  \n",
       "1          246 2019-07-25  \n",
       "2          248 2019-07-25  \n",
       "3          248 2019-07-25  \n",
       "4          248 2019-07-25  \n",
       "...        ...        ...  \n",
       "244121     247 2019-08-07  \n",
       "244122     246 2019-08-07  \n",
       "244123     246 2019-08-07  \n",
       "244124     246 2019-08-07  \n",
       "244125     246 2019-08-07  \n",
       "\n",
       "[244126 rows x 5 columns]"
      ]
     },
     "execution_count": 15,
     "metadata": {},
     "output_type": "execute_result"
    }
   ],
   "source": [
    "#Agregamos la columna de dia\n",
    "data['date'] = data['timestamp'].dt.floor('d')\n",
    "data"
   ]
  },
  {
   "cell_type": "code",
   "execution_count": 16,
   "metadata": {},
   "outputs": [
    {
     "data": {
      "text/html": [
       "<div>\n",
       "<style scoped>\n",
       "    .dataframe tbody tr th:only-of-type {\n",
       "        vertical-align: middle;\n",
       "    }\n",
       "\n",
       "    .dataframe tbody tr th {\n",
       "        vertical-align: top;\n",
       "    }\n",
       "\n",
       "    .dataframe thead th {\n",
       "        text-align: right;\n",
       "    }\n",
       "</style>\n",
       "<table border=\"1\" class=\"dataframe\">\n",
       "  <thead>\n",
       "    <tr style=\"text-align: right;\">\n",
       "      <th></th>\n",
       "      <th>event</th>\n",
       "      <th>user</th>\n",
       "      <th>timestamp</th>\n",
       "      <th>exp_id</th>\n",
       "      <th>date</th>\n",
       "      <th>hour</th>\n",
       "    </tr>\n",
       "  </thead>\n",
       "  <tbody>\n",
       "    <tr>\n",
       "      <th>0</th>\n",
       "      <td>MainScreenAppear</td>\n",
       "      <td>4575588528974610257</td>\n",
       "      <td>2019-07-25 04:43:36</td>\n",
       "      <td>246</td>\n",
       "      <td>2019-07-25</td>\n",
       "      <td>4</td>\n",
       "    </tr>\n",
       "    <tr>\n",
       "      <th>1</th>\n",
       "      <td>MainScreenAppear</td>\n",
       "      <td>7416695313311560658</td>\n",
       "      <td>2019-07-25 11:11:42</td>\n",
       "      <td>246</td>\n",
       "      <td>2019-07-25</td>\n",
       "      <td>11</td>\n",
       "    </tr>\n",
       "    <tr>\n",
       "      <th>2</th>\n",
       "      <td>PaymentScreenSuccessful</td>\n",
       "      <td>3518123091307005509</td>\n",
       "      <td>2019-07-25 11:28:47</td>\n",
       "      <td>248</td>\n",
       "      <td>2019-07-25</td>\n",
       "      <td>11</td>\n",
       "    </tr>\n",
       "    <tr>\n",
       "      <th>3</th>\n",
       "      <td>CartScreenAppear</td>\n",
       "      <td>3518123091307005509</td>\n",
       "      <td>2019-07-25 11:28:47</td>\n",
       "      <td>248</td>\n",
       "      <td>2019-07-25</td>\n",
       "      <td>11</td>\n",
       "    </tr>\n",
       "    <tr>\n",
       "      <th>4</th>\n",
       "      <td>PaymentScreenSuccessful</td>\n",
       "      <td>6217807653094995999</td>\n",
       "      <td>2019-07-25 11:48:42</td>\n",
       "      <td>248</td>\n",
       "      <td>2019-07-25</td>\n",
       "      <td>11</td>\n",
       "    </tr>\n",
       "    <tr>\n",
       "      <th>...</th>\n",
       "      <td>...</td>\n",
       "      <td>...</td>\n",
       "      <td>...</td>\n",
       "      <td>...</td>\n",
       "      <td>...</td>\n",
       "      <td>...</td>\n",
       "    </tr>\n",
       "    <tr>\n",
       "      <th>244121</th>\n",
       "      <td>MainScreenAppear</td>\n",
       "      <td>4599628364049201812</td>\n",
       "      <td>2019-08-07 21:12:25</td>\n",
       "      <td>247</td>\n",
       "      <td>2019-08-07</td>\n",
       "      <td>21</td>\n",
       "    </tr>\n",
       "    <tr>\n",
       "      <th>244122</th>\n",
       "      <td>MainScreenAppear</td>\n",
       "      <td>5849806612437486590</td>\n",
       "      <td>2019-08-07 21:13:59</td>\n",
       "      <td>246</td>\n",
       "      <td>2019-08-07</td>\n",
       "      <td>21</td>\n",
       "    </tr>\n",
       "    <tr>\n",
       "      <th>244123</th>\n",
       "      <td>MainScreenAppear</td>\n",
       "      <td>5746969938801999050</td>\n",
       "      <td>2019-08-07 21:14:43</td>\n",
       "      <td>246</td>\n",
       "      <td>2019-08-07</td>\n",
       "      <td>21</td>\n",
       "    </tr>\n",
       "    <tr>\n",
       "      <th>244124</th>\n",
       "      <td>MainScreenAppear</td>\n",
       "      <td>5746969938801999050</td>\n",
       "      <td>2019-08-07 21:14:58</td>\n",
       "      <td>246</td>\n",
       "      <td>2019-08-07</td>\n",
       "      <td>21</td>\n",
       "    </tr>\n",
       "    <tr>\n",
       "      <th>244125</th>\n",
       "      <td>OffersScreenAppear</td>\n",
       "      <td>5746969938801999050</td>\n",
       "      <td>2019-08-07 21:15:17</td>\n",
       "      <td>246</td>\n",
       "      <td>2019-08-07</td>\n",
       "      <td>21</td>\n",
       "    </tr>\n",
       "  </tbody>\n",
       "</table>\n",
       "<p>244126 rows × 6 columns</p>\n",
       "</div>"
      ],
      "text/plain": [
       "                          event                 user           timestamp  \\\n",
       "0              MainScreenAppear  4575588528974610257 2019-07-25 04:43:36   \n",
       "1              MainScreenAppear  7416695313311560658 2019-07-25 11:11:42   \n",
       "2       PaymentScreenSuccessful  3518123091307005509 2019-07-25 11:28:47   \n",
       "3              CartScreenAppear  3518123091307005509 2019-07-25 11:28:47   \n",
       "4       PaymentScreenSuccessful  6217807653094995999 2019-07-25 11:48:42   \n",
       "...                         ...                  ...                 ...   \n",
       "244121         MainScreenAppear  4599628364049201812 2019-08-07 21:12:25   \n",
       "244122         MainScreenAppear  5849806612437486590 2019-08-07 21:13:59   \n",
       "244123         MainScreenAppear  5746969938801999050 2019-08-07 21:14:43   \n",
       "244124         MainScreenAppear  5746969938801999050 2019-08-07 21:14:58   \n",
       "244125       OffersScreenAppear  5746969938801999050 2019-08-07 21:15:17   \n",
       "\n",
       "        exp_id       date  hour  \n",
       "0          246 2019-07-25     4  \n",
       "1          246 2019-07-25    11  \n",
       "2          248 2019-07-25    11  \n",
       "3          248 2019-07-25    11  \n",
       "4          248 2019-07-25    11  \n",
       "...        ...        ...   ...  \n",
       "244121     247 2019-08-07    21  \n",
       "244122     246 2019-08-07    21  \n",
       "244123     246 2019-08-07    21  \n",
       "244124     246 2019-08-07    21  \n",
       "244125     246 2019-08-07    21  \n",
       "\n",
       "[244126 rows x 6 columns]"
      ]
     },
     "execution_count": 16,
     "metadata": {},
     "output_type": "execute_result"
    }
   ],
   "source": [
    "#Agregamos la columna de Hora\n",
    "data['hour'] = data['timestamp'].dt.hour\n",
    "data"
   ]
  },
  {
   "cell_type": "code",
   "execution_count": 17,
   "metadata": {},
   "outputs": [
    {
     "data": {
      "text/html": [
       "<div>\n",
       "<style scoped>\n",
       "    .dataframe tbody tr th:only-of-type {\n",
       "        vertical-align: middle;\n",
       "    }\n",
       "\n",
       "    .dataframe tbody tr th {\n",
       "        vertical-align: top;\n",
       "    }\n",
       "\n",
       "    .dataframe thead th {\n",
       "        text-align: right;\n",
       "    }\n",
       "</style>\n",
       "<table border=\"1\" class=\"dataframe\">\n",
       "  <thead>\n",
       "    <tr style=\"text-align: right;\">\n",
       "      <th></th>\n",
       "      <th>event</th>\n",
       "      <th>user</th>\n",
       "      <th>timestamp</th>\n",
       "      <th>exp_id</th>\n",
       "      <th>date</th>\n",
       "      <th>hour</th>\n",
       "      <th>group</th>\n",
       "    </tr>\n",
       "  </thead>\n",
       "  <tbody>\n",
       "    <tr>\n",
       "      <th>155673</th>\n",
       "      <td>OffersScreenAppear</td>\n",
       "      <td>2121174247160023476</td>\n",
       "      <td>2019-08-05 11:54:44</td>\n",
       "      <td>248</td>\n",
       "      <td>2019-08-05</td>\n",
       "      <td>11</td>\n",
       "      <td>B</td>\n",
       "    </tr>\n",
       "    <tr>\n",
       "      <th>134259</th>\n",
       "      <td>PaymentScreenSuccessful</td>\n",
       "      <td>6847206579854335590</td>\n",
       "      <td>2019-08-04 17:16:21</td>\n",
       "      <td>246</td>\n",
       "      <td>2019-08-04</td>\n",
       "      <td>17</td>\n",
       "      <td>A1</td>\n",
       "    </tr>\n",
       "    <tr>\n",
       "      <th>176291</th>\n",
       "      <td>MainScreenAppear</td>\n",
       "      <td>8420911729771828510</td>\n",
       "      <td>2019-08-05 21:22:47</td>\n",
       "      <td>247</td>\n",
       "      <td>2019-08-05</td>\n",
       "      <td>21</td>\n",
       "      <td>A2</td>\n",
       "    </tr>\n",
       "    <tr>\n",
       "      <th>214665</th>\n",
       "      <td>CartScreenAppear</td>\n",
       "      <td>1754140665440434215</td>\n",
       "      <td>2019-08-07 04:15:21</td>\n",
       "      <td>247</td>\n",
       "      <td>2019-08-07</td>\n",
       "      <td>4</td>\n",
       "      <td>A2</td>\n",
       "    </tr>\n",
       "    <tr>\n",
       "      <th>222165</th>\n",
       "      <td>MainScreenAppear</td>\n",
       "      <td>4558270579483616930</td>\n",
       "      <td>2019-08-07 09:39:57</td>\n",
       "      <td>248</td>\n",
       "      <td>2019-08-07</td>\n",
       "      <td>9</td>\n",
       "      <td>B</td>\n",
       "    </tr>\n",
       "    <tr>\n",
       "      <th>118826</th>\n",
       "      <td>MainScreenAppear</td>\n",
       "      <td>9097925422443755756</td>\n",
       "      <td>2019-08-04 10:30:53</td>\n",
       "      <td>248</td>\n",
       "      <td>2019-08-04</td>\n",
       "      <td>10</td>\n",
       "      <td>B</td>\n",
       "    </tr>\n",
       "    <tr>\n",
       "      <th>153774</th>\n",
       "      <td>MainScreenAppear</td>\n",
       "      <td>6888229484609913653</td>\n",
       "      <td>2019-08-05 11:00:09</td>\n",
       "      <td>247</td>\n",
       "      <td>2019-08-05</td>\n",
       "      <td>11</td>\n",
       "      <td>A2</td>\n",
       "    </tr>\n",
       "    <tr>\n",
       "      <th>211897</th>\n",
       "      <td>MainScreenAppear</td>\n",
       "      <td>424826562612017366</td>\n",
       "      <td>2019-08-06 20:40:07</td>\n",
       "      <td>247</td>\n",
       "      <td>2019-08-06</td>\n",
       "      <td>20</td>\n",
       "      <td>A2</td>\n",
       "    </tr>\n",
       "    <tr>\n",
       "      <th>172909</th>\n",
       "      <td>OffersScreenAppear</td>\n",
       "      <td>4891111378981166101</td>\n",
       "      <td>2019-08-05 18:44:42</td>\n",
       "      <td>248</td>\n",
       "      <td>2019-08-05</td>\n",
       "      <td>18</td>\n",
       "      <td>B</td>\n",
       "    </tr>\n",
       "    <tr>\n",
       "      <th>102732</th>\n",
       "      <td>OffersScreenAppear</td>\n",
       "      <td>2910761286178294850</td>\n",
       "      <td>2019-08-03 17:45:39</td>\n",
       "      <td>248</td>\n",
       "      <td>2019-08-03</td>\n",
       "      <td>17</td>\n",
       "      <td>B</td>\n",
       "    </tr>\n",
       "  </tbody>\n",
       "</table>\n",
       "</div>"
      ],
      "text/plain": [
       "                          event                 user           timestamp  \\\n",
       "155673       OffersScreenAppear  2121174247160023476 2019-08-05 11:54:44   \n",
       "134259  PaymentScreenSuccessful  6847206579854335590 2019-08-04 17:16:21   \n",
       "176291         MainScreenAppear  8420911729771828510 2019-08-05 21:22:47   \n",
       "214665         CartScreenAppear  1754140665440434215 2019-08-07 04:15:21   \n",
       "222165         MainScreenAppear  4558270579483616930 2019-08-07 09:39:57   \n",
       "118826         MainScreenAppear  9097925422443755756 2019-08-04 10:30:53   \n",
       "153774         MainScreenAppear  6888229484609913653 2019-08-05 11:00:09   \n",
       "211897         MainScreenAppear   424826562612017366 2019-08-06 20:40:07   \n",
       "172909       OffersScreenAppear  4891111378981166101 2019-08-05 18:44:42   \n",
       "102732       OffersScreenAppear  2910761286178294850 2019-08-03 17:45:39   \n",
       "\n",
       "        exp_id       date  hour group  \n",
       "155673     248 2019-08-05    11     B  \n",
       "134259     246 2019-08-04    17    A1  \n",
       "176291     247 2019-08-05    21    A2  \n",
       "214665     247 2019-08-07     4    A2  \n",
       "222165     248 2019-08-07     9     B  \n",
       "118826     248 2019-08-04    10     B  \n",
       "153774     247 2019-08-05    11    A2  \n",
       "211897     247 2019-08-06    20    A2  \n",
       "172909     248 2019-08-05    18     B  \n",
       "102732     248 2019-08-03    17     B  "
      ]
     },
     "execution_count": 17,
     "metadata": {},
     "output_type": "execute_result"
    }
   ],
   "source": [
    "#Hacemos mas semantica la columna ExpId\n",
    "def exp_sem(x):\n",
    "    if x == 246:\n",
    "        return 'A1'\n",
    "    elif x == 247:\n",
    "        return 'A2'\n",
    "    else:\n",
    "        return 'B'\n",
    "data['group'] = data['exp_id'].apply(exp_sem)\n",
    "data.sample(10)"
   ]
  },
  {
   "cell_type": "code",
   "execution_count": 18,
   "metadata": {},
   "outputs": [
    {
     "data": {
      "text/plain": [
       "(243074, 7)"
      ]
     },
     "execution_count": 18,
     "metadata": {},
     "output_type": "execute_result"
    }
   ],
   "source": [
    "#Eliminar los registros del tutorial\n",
    "data = data.query('event != \"Tutorial\"')\n",
    "data.shape"
   ]
  },
  {
   "cell_type": "code",
   "execution_count": 19,
   "metadata": {},
   "outputs": [
    {
     "name": "stdout",
     "output_type": "stream",
     "text": [
      "<class 'pandas.core.frame.DataFrame'>\n",
      "Index: 243074 entries, 0 to 244125\n",
      "Data columns (total 7 columns):\n",
      " #   Column     Non-Null Count   Dtype         \n",
      "---  ------     --------------   -----         \n",
      " 0   event      243074 non-null  object        \n",
      " 1   user       243074 non-null  int64         \n",
      " 2   timestamp  243074 non-null  datetime64[ns]\n",
      " 3   exp_id     243074 non-null  int64         \n",
      " 4   date       243074 non-null  datetime64[ns]\n",
      " 5   hour       243074 non-null  int32         \n",
      " 6   group      243074 non-null  object        \n",
      "dtypes: datetime64[ns](2), int32(1), int64(2), object(2)\n",
      "memory usage: 13.9+ MB\n"
     ]
    }
   ],
   "source": [
    "data.info()"
   ]
  },
  {
   "cell_type": "markdown",
   "metadata": {},
   "source": [
    "# Analisis exploratorio de datos"
   ]
  },
  {
   "cell_type": "markdown",
   "metadata": {},
   "source": [
    "¿Cuántos eventos hay en los registros?"
   ]
  },
  {
   "cell_type": "code",
   "execution_count": 20,
   "metadata": {},
   "outputs": [
    {
     "name": "stdout",
     "output_type": "stream",
     "text": [
      "Número de eventos: 243074\n"
     ]
    }
   ],
   "source": [
    "events = len(data)\n",
    "print(f'Número de eventos: {events}')"
   ]
  },
  {
   "cell_type": "markdown",
   "metadata": {},
   "source": [
    "¿Cuántos usuarios hay en los registros?"
   ]
  },
  {
   "cell_type": "code",
   "execution_count": 21,
   "metadata": {},
   "outputs": [
    {
     "name": "stdout",
     "output_type": "stream",
     "text": [
      "Número de usuarios: 7547\n"
     ]
    }
   ],
   "source": [
    "users = data['user'].nunique()\n",
    "print(f'Número de usuarios: {users}')"
   ]
  },
  {
   "cell_type": "markdown",
   "metadata": {},
   "source": [
    "¿Cuál es el promedio de eventos por usuario?"
   ]
  },
  {
   "cell_type": "code",
   "execution_count": 22,
   "metadata": {},
   "outputs": [
    {
     "name": "stdout",
     "output_type": "stream",
     "text": [
      "Número de eventos por usuario: 32.21\n"
     ]
    }
   ],
   "source": [
    "event_per_user = events / users\n",
    "print(f'Número de eventos por usuario: {event_per_user:.2f}')"
   ]
  },
  {
   "cell_type": "markdown",
   "metadata": {},
   "source": [
    "¿Qué periodo de tiempo cubren los datos?"
   ]
  },
  {
   "cell_type": "code",
   "execution_count": 23,
   "metadata": {},
   "outputs": [
    {
     "name": "stdout",
     "output_type": "stream",
     "text": [
      "Número de días: 14\n"
     ]
    }
   ],
   "source": [
    "days = data['date'].nunique()   \n",
    "print(f'Número de días: {days}')"
   ]
  },
  {
   "cell_type": "code",
   "execution_count": 24,
   "metadata": {},
   "outputs": [
    {
     "name": "stdout",
     "output_type": "stream",
     "text": [
      "Número de eventos por día: 17362.43\n"
     ]
    }
   ],
   "source": [
    "events_per_day = events / days  \n",
    "print(f'Número de eventos por día: {events_per_day:.2f}')"
   ]
  },
  {
   "cell_type": "code",
   "execution_count": 25,
   "metadata": {},
   "outputs": [
    {
     "name": "stdout",
     "output_type": "stream",
     "text": [
      "Número de eventos: 243074\n",
      "Usuarios: 7547\n",
      "Días: 14\n",
      "Eventos por día: 17362.43\n",
      "Eventos por usuario: 32.21\n"
     ]
    }
   ],
   "source": [
    "print(f'Número de eventos: {events}')\n",
    "print(f'Usuarios: {users}')\n",
    "print(f'Días: {days}')\n",
    "print(f'Eventos por día: {events_per_day:.2f}')\n",
    "print(f'Eventos por usuario: {event_per_user:.2f}')\n",
    "\n"
   ]
  },
  {
   "cell_type": "markdown",
   "metadata": {},
   "source": [
    "### Eventos por día\n"
   ]
  },
  {
   "cell_type": "code",
   "execution_count": 26,
   "metadata": {},
   "outputs": [
    {
     "data": {
      "image/png": "[encoded data removed]",
      "text/plain": [
       "<Figure size 1000x500 with 1 Axes>"
      ]
     },
     "metadata": {},
     "output_type": "display_data"
    }
   ],
   "source": [
    "events_by_date = data.groupby('date').agg(events = ('event','count')).reset_index ()\n",
    "\n",
    "# Estilo\n",
    "sns.set_style('whitegrid')\n",
    "\n",
    "# Crear la figura y ajustar tamaño\n",
    "plt.figure(figsize=(10,5))\n",
    "\n",
    "# Graficar \n",
    "sns.lineplot(\n",
    "    data=events_by_date,\n",
    "    x='date',\n",
    "    y='events',\n",
    "    marker='o',\n",
    "    linewidth=2,\n",
    "    color='tomato'\n",
    ")\n",
    "\n",
    "# Mejorar formato de fechas en eje X\n",
    "plt.gca().xaxis.set_major_formatter(mdates.DateFormatter('%Y-%m-%d'))\n",
    "plt.xticks(rotation=45, ha='right')\n",
    "\n",
    "# Títulos y etiquetas\n",
    "plt.title('Cantidad de eventos por día', fontsize=14, fontweight='bold')\n",
    "plt.xlabel('Fecha', fontsize=12)\n",
    "plt.ylabel('Número de eventos', fontsize=12)\n",
    "\n",
    "# Ajustar cuadrícula\n",
    "plt.grid(True, linestyle='--', alpha=0.6)\n",
    "\n",
    "# Mostrar gráfico\n",
    "plt.show()"
   ]
  },
  {
   "cell_type": "markdown",
   "metadata": {},
   "source": [
    "No se tienen los suficientes datos en las primeras fechas, por lo que no nos sirven de nada y los tendriamos que eliminar para que no nos perjudique en nuestra prueba, el periodo representativo real seria apartir del dia 01-08-2019"
   ]
  },
  {
   "cell_type": "code",
   "execution_count": 27,
   "metadata": {},
   "outputs": [],
   "source": [
    "#Eliminar fechas con poca informacion\n",
    "data = data.query('date >= \"2019-08-01\"')\n"
   ]
  },
  {
   "cell_type": "markdown",
   "metadata": {},
   "source": [
    "### Eventos por hora"
   ]
  },
  {
   "cell_type": "code",
   "execution_count": 28,
   "metadata": {},
   "outputs": [
    {
     "data": {
      "image/png": "[encoded data removed]",
      "text/plain": [
       "<Figure size 1200x600 with 1 Axes>"
      ]
     },
     "metadata": {},
     "output_type": "display_data"
    }
   ],
   "source": [
    "events_by_hour = data.groupby(['date', 'hour']).agg(events=('event', 'count')).reset_index()\n",
    "\n",
    "#Estilo\n",
    "sns.set_style('darkgrid')\n",
    "\n",
    "# Crear la figura y ajustar tamaño\n",
    "plt.figure(figsize=(12,6))\n",
    "\n",
    "# Graficar\n",
    "sns.barplot(\n",
    "    data=events_by_hour,\n",
    "    x='hour',\n",
    "    y='events',\n",
    "    color='purple',\n",
    "    alpha=0.75,\n",
    "    err_kws={'color': 'black'}\n",
    ")\n",
    "\n",
    "plt.title('Cantidad de eventos por hora', fontsize=14, fontweight='bold')\n",
    "plt.xlabel('Hora', fontsize=12)\n",
    "plt.ylabel('Número de eventos', fontsize=12)\n",
    "\n",
    "plt.show()"
   ]
  },
  {
   "cell_type": "markdown",
   "metadata": {},
   "source": [
    "¿Perdiste muchos eventos y usuarios al excluir los datos más antiguos?"
   ]
  },
  {
   "cell_type": "code",
   "execution_count": 29,
   "metadata": {},
   "outputs": [
    {
     "name": "stdout",
     "output_type": "stream",
     "text": [
      "Numero de eventos perdidos 2815\n",
      "Numero de usuarios perdidos 17\n"
     ]
    }
   ],
   "source": [
    "events_2 = len(data)    \n",
    "total_events_perd = events - events_2\n",
    "print(f'Numero de eventos perdidos {total_events_perd}')\n",
    "\n",
    "users_2 = data['user'].nunique()\n",
    "total_users_perd = users - users_2\n",
    "print(f'Numero de usuarios perdidos {total_users_perd}')"
   ]
  },
  {
   "cell_type": "markdown",
   "metadata": {},
   "source": [
    "### Lo cual no represtan un impacto, debido a la cantidad de eventos que se tienen, es minima la perdida"
   ]
  },
  {
   "cell_type": "markdown",
   "metadata": {},
   "source": [
    "## Balace de grupos experimentales"
   ]
  },
  {
   "cell_type": "code",
   "execution_count": 30,
   "metadata": {},
   "outputs": [
    {
     "data": {
      "text/html": [
       "<div>\n",
       "<style scoped>\n",
       "    .dataframe tbody tr th:only-of-type {\n",
       "        vertical-align: middle;\n",
       "    }\n",
       "\n",
       "    .dataframe tbody tr th {\n",
       "        vertical-align: top;\n",
       "    }\n",
       "\n",
       "    .dataframe thead th {\n",
       "        text-align: right;\n",
       "    }\n",
       "</style>\n",
       "<table border=\"1\" class=\"dataframe\">\n",
       "  <thead>\n",
       "    <tr style=\"text-align: right;\">\n",
       "      <th></th>\n",
       "      <th>events</th>\n",
       "      <th>share</th>\n",
       "    </tr>\n",
       "    <tr>\n",
       "      <th>group</th>\n",
       "      <th></th>\n",
       "      <th></th>\n",
       "    </tr>\n",
       "  </thead>\n",
       "  <tbody>\n",
       "    <tr>\n",
       "      <th>A1</th>\n",
       "      <td>79102</td>\n",
       "      <td>32.92</td>\n",
       "    </tr>\n",
       "    <tr>\n",
       "      <th>A2</th>\n",
       "      <td>76804</td>\n",
       "      <td>31.97</td>\n",
       "    </tr>\n",
       "    <tr>\n",
       "      <th>B</th>\n",
       "      <td>84353</td>\n",
       "      <td>35.11</td>\n",
       "    </tr>\n",
       "  </tbody>\n",
       "</table>\n",
       "</div>"
      ],
      "text/plain": [
       "       events  share\n",
       "group               \n",
       "A1      79102  32.92\n",
       "A2      76804  31.97\n",
       "B       84353  35.11"
      ]
     },
     "execution_count": 30,
     "metadata": {},
     "output_type": "execute_result"
    }
   ],
   "source": [
    "events_by_exp = data.groupby('group').agg(events=('event', 'count'))\n",
    "events_by_exp['share'] = (100 * events_by_exp['events'] / events_by_exp['events'].sum()).round(2)\n",
    "events_by_exp"
   ]
  },
  {
   "cell_type": "markdown",
   "metadata": {},
   "source": [
    "Asegúrate de tener usuarios de los tres grupos experimentales."
   ]
  },
  {
   "cell_type": "code",
   "execution_count": 31,
   "metadata": {},
   "outputs": [
    {
     "data": {
      "text/html": [
       "<div>\n",
       "<style scoped>\n",
       "    .dataframe tbody tr th:only-of-type {\n",
       "        vertical-align: middle;\n",
       "    }\n",
       "\n",
       "    .dataframe tbody tr th {\n",
       "        vertical-align: top;\n",
       "    }\n",
       "\n",
       "    .dataframe thead th {\n",
       "        text-align: right;\n",
       "    }\n",
       "</style>\n",
       "<table border=\"1\" class=\"dataframe\">\n",
       "  <thead>\n",
       "    <tr style=\"text-align: right;\">\n",
       "      <th></th>\n",
       "      <th>users</th>\n",
       "      <th>share</th>\n",
       "    </tr>\n",
       "    <tr>\n",
       "      <th>group</th>\n",
       "      <th></th>\n",
       "      <th></th>\n",
       "    </tr>\n",
       "  </thead>\n",
       "  <tbody>\n",
       "    <tr>\n",
       "      <th>A1</th>\n",
       "      <td>2483</td>\n",
       "      <td>32.97</td>\n",
       "    </tr>\n",
       "    <tr>\n",
       "      <th>A2</th>\n",
       "      <td>2512</td>\n",
       "      <td>33.36</td>\n",
       "    </tr>\n",
       "    <tr>\n",
       "      <th>B</th>\n",
       "      <td>2535</td>\n",
       "      <td>33.67</td>\n",
       "    </tr>\n",
       "  </tbody>\n",
       "</table>\n",
       "</div>"
      ],
      "text/plain": [
       "       users  share\n",
       "group              \n",
       "A1      2483  32.97\n",
       "A2      2512  33.36\n",
       "B       2535  33.67"
      ]
     },
     "execution_count": 31,
     "metadata": {},
     "output_type": "execute_result"
    }
   ],
   "source": [
    "users_by_exp = data.groupby('group').agg(users=('user', 'nunique'))\n",
    "users_by_exp['share'] = (100 * users_by_exp['users'] / users_by_exp['users'].sum()).round(2)\n",
    "users_by_exp"
   ]
  },
  {
   "cell_type": "markdown",
   "metadata": {},
   "source": [
    "## Eventos y frecuencia de suceso"
   ]
  },
  {
   "cell_type": "code",
   "execution_count": 32,
   "metadata": {},
   "outputs": [
    {
     "data": {
      "text/html": [
       "<div>\n",
       "<style scoped>\n",
       "    .dataframe tbody tr th:only-of-type {\n",
       "        vertical-align: middle;\n",
       "    }\n",
       "\n",
       "    .dataframe tbody tr th {\n",
       "        vertical-align: top;\n",
       "    }\n",
       "\n",
       "    .dataframe thead th {\n",
       "        text-align: right;\n",
       "    }\n",
       "</style>\n",
       "<table border=\"1\" class=\"dataframe\">\n",
       "  <thead>\n",
       "    <tr style=\"text-align: right;\">\n",
       "      <th></th>\n",
       "      <th>user</th>\n",
       "    </tr>\n",
       "    <tr>\n",
       "      <th>event</th>\n",
       "      <th></th>\n",
       "    </tr>\n",
       "  </thead>\n",
       "  <tbody>\n",
       "    <tr>\n",
       "      <th>MainScreenAppear</th>\n",
       "      <td>7419</td>\n",
       "    </tr>\n",
       "    <tr>\n",
       "      <th>OffersScreenAppear</th>\n",
       "      <td>4593</td>\n",
       "    </tr>\n",
       "    <tr>\n",
       "      <th>CartScreenAppear</th>\n",
       "      <td>3734</td>\n",
       "    </tr>\n",
       "    <tr>\n",
       "      <th>PaymentScreenSuccessful</th>\n",
       "      <td>3539</td>\n",
       "    </tr>\n",
       "  </tbody>\n",
       "</table>\n",
       "</div>"
      ],
      "text/plain": [
       "                         user\n",
       "event                        \n",
       "MainScreenAppear         7419\n",
       "OffersScreenAppear       4593\n",
       "CartScreenAppear         3734\n",
       "PaymentScreenSuccessful  3539"
      ]
     },
     "execution_count": 32,
     "metadata": {},
     "output_type": "execute_result"
    }
   ],
   "source": [
    "# Frecuencia de eventos\n",
    "funnel =(\n",
    "    data.pivot_table(index= 'event', values='user', aggfunc='nunique').sort_values('user', ascending=False)\n",
    ")\n",
    "\n",
    "funnel\n"
   ]
  },
  {
   "cell_type": "code",
   "execution_count": 33,
   "metadata": {},
   "outputs": [
    {
     "name": "stdout",
     "output_type": "stream",
     "text": [
      "                         user    conv\n",
      "event                                \n",
      "MainScreenAppear         7419  100.00\n",
      "OffersScreenAppear       4593   61.91\n",
      "CartScreenAppear         3734   50.33\n",
      "PaymentScreenSuccessful  3539   47.70\n"
     ]
    }
   ],
   "source": [
    "# Cantidad de usuarios por evento y procentajes\n",
    "funnel['conv'] = (100*funnel['user'] / funnel['user'].max()).round(2)\n",
    "print(funnel)"
   ]
  },
  {
   "cell_type": "code",
   "execution_count": 34,
   "metadata": {},
   "outputs": [
    {
     "name": "stdout",
     "output_type": "stream",
     "text": [
      "                         Usuarios únicos  Proporción de conversión\n",
      "event                                                             \n",
      "MainScreenAppear                    7419                 61.908613\n",
      "OffersScreenAppear                  4593                 81.297627\n",
      "CartScreenAppear                    3734                 94.777718\n",
      "PaymentScreenSuccessful             3539                  0.000000\n",
      "Proporción de usuarios que pasan de A → B: 61.91%\n",
      "Proporción de usuarios que pasan de B → C: 81.30%\n"
     ]
    }
   ],
   "source": [
    "# Definir el orden del embudo\n",
    "funnel_steps = ['MainScreenAppear', 'OffersScreenAppear', 'CartScreenAppear', 'PaymentScreenSuccessful']\n",
    "\n",
    "# Contar usuarios únicos en cada evento\n",
    "users_per_step = data.groupby('event')['user'].nunique().reindex(funnel_steps, fill_value=0)\n",
    "\n",
    "# Calcular proporciones de conversión\n",
    "conversion_rates = users_per_step.shift(-1) / users_per_step *100\n",
    "\n",
    "# Combinar resultados en un DataFrame\n",
    "funnel_df = pd.DataFrame({\n",
    "    'Usuarios únicos': users_per_step,\n",
    "    'Proporción de conversión': conversion_rates\n",
    "}).fillna(0)  \n",
    "\n",
    "\n",
    "print(funnel_df)\n",
    "\n",
    "# Calcular proporciones de conversión\n",
    "conversion_B_A = users_per_step['OffersScreenAppear'] / users_per_step['MainScreenAppear']  # Proporción B respecto a A\n",
    "conversion_C_B = users_per_step['CartScreenAppear'] / users_per_step['OffersScreenAppear']  # Proporción C respecto a B\n",
    "\n",
    "\n",
    "print(f\"Proporción de usuarios que pasan de A → B: {conversion_B_A:.2%}\")\n",
    "print(f\"Proporción de usuarios que pasan de B → C: {conversion_C_B:.2%}\")"
   ]
  },
  {
   "cell_type": "markdown",
   "metadata": {},
   "source": [
    "Se pierden mas usuarios cuando pasan a la pantlla de ofertas y de todos los usuarios el 47 % hacen todo el viaje desde su primer evento hasta el pago"
   ]
  },
  {
   "cell_type": "markdown",
   "metadata": {},
   "source": [
    "# Tasas de conversion por grupo "
   ]
  },
  {
   "cell_type": "code",
   "execution_count": 35,
   "metadata": {},
   "outputs": [
    {
     "name": "stdout",
     "output_type": "stream",
     "text": [
      "                         convA1\n",
      "event                          \n",
      "MainScreenAppear         100.00\n",
      "OffersScreenAppear        62.94\n",
      "CartScreenAppear          51.67\n",
      "PaymentScreenSuccessful   48.98\n"
     ]
    }
   ],
   "source": [
    "# Tasa de conversion grupo A1\n",
    "funnel_A1 = (\n",
    "    data.query('group == \"A1\"')\n",
    "    .pivot_table(index= 'event', values='user', aggfunc='nunique')\n",
    "    .sort_values('user', ascending=False)\n",
    ")\n",
    "\n",
    "n_A1 = funnel_A1['user'].max()\n",
    "funnel_A1['convA1'] = (100*funnel_A1['user'] / n_A1).round(2)\n",
    "funnel_A1.drop(columns='user', inplace=True)\n",
    "\n",
    "print(funnel_A1)"
   ]
  },
  {
   "cell_type": "code",
   "execution_count": 36,
   "metadata": {},
   "outputs": [
    {
     "name": "stdout",
     "output_type": "stream",
     "text": [
      "                             convA2\n",
      "event                              \n",
      "MainScreenAppear         100.000000\n",
      "OffersScreenAppear        61.389338\n",
      "CartScreenAppear          50.000000\n",
      "PaymentScreenSuccessful   46.768982\n"
     ]
    }
   ],
   "source": [
    "funnel_A2 = (\n",
    "    data.query('group == \"A2\"')\n",
    "    .pivot_table(index='event', values='user', aggfunc='nunique')\n",
    "    .sort_values('user', ascending=False)\n",
    ")\n",
    "\n",
    "n_A2 = funnel_A2['user'].max()\n",
    "funnel_A2['convA2'] = 100*funnel_A2['user'] / n_A2\n",
    "funnel_A2.drop(columns='user', inplace=True)\n",
    "\n",
    "print(funnel_A2) "
   ]
  },
  {
   "cell_type": "code",
   "execution_count": 37,
   "metadata": {},
   "outputs": [
    {
     "name": "stdout",
     "output_type": "stream",
     "text": [
      "                              convB\n",
      "event                              \n",
      "MainScreenAppear         100.000000\n",
      "OffersScreenAppear        61.411953\n",
      "CartScreenAppear          49.338147\n",
      "PaymentScreenSuccessful   47.372643\n"
     ]
    }
   ],
   "source": [
    "# Tasa de conversion grupo B\n",
    "\n",
    "funnel_B = (\n",
    "    data.query('group == \"B\"')\n",
    "    .pivot_table(index='event', values='user', aggfunc='nunique')\n",
    "    .sort_values('user', ascending=False)\n",
    ")\n",
    "\n",
    "n_B = funnel_B['user'].max()\n",
    "funnel_B['convB'] = 100*funnel_B['user'] / n_B\n",
    "funnel_B.drop(columns='user', inplace=True)\n",
    "\n",
    "print(funnel_B) \n",
    "\n"
   ]
  },
  {
   "cell_type": "code",
   "execution_count": 38,
   "metadata": {},
   "outputs": [
    {
     "name": "stdout",
     "output_type": "stream",
     "text": [
      "                             A1          A2           B\n",
      "event                                                  \n",
      "MainScreenAppear         100.00  100.000000  100.000000\n",
      "OffersScreenAppear        62.94   61.389338   61.411953\n",
      "CartScreenAppear          51.67   50.000000   49.338147\n",
      "PaymentScreenSuccessful   48.98   46.768982   47.372643\n"
     ]
    }
   ],
   "source": [
    "#funnel agregado\n",
    "\n",
    "funnel = (\n",
    "    funnel_A1\n",
    "    .merge(funnel_A2, on= 'event')\n",
    "    .merge(funnel_B, on='event')\n",
    ")\n",
    "\n",
    "funnel.columns = ['A1', 'A2', 'B']  \n",
    "\n",
    "print(funnel)"
   ]
  },
  {
   "cell_type": "markdown",
   "metadata": {},
   "source": [
    "**Pruebas de hipotesis**\n",
    "\n",
    "- Hipotesis nula: No hay diferencias significativas entre los grupos experimentales\n",
    "- hipotesis alternativa: Existen diferencias significativas entre los grupos experimentales"
   ]
  },
  {
   "cell_type": "code",
   "execution_count": 39,
   "metadata": {},
   "outputs": [
    {
     "data": {
      "text/plain": [
       "A1    2450\n",
       "A2    2476\n",
       "B     2493\n",
       "dtype: int64"
      ]
     },
     "execution_count": 39,
     "metadata": {},
     "output_type": "execute_result"
    }
   ],
   "source": [
    "# Usuarios en cada grupo\n",
    "n = pd.Series([n_A1, n_A2, n_B], index=['A1', 'A2', 'B'])\n",
    "n"
   ]
  },
  {
   "cell_type": "markdown",
   "metadata": {},
   "source": [
    "Diferencia estadistica entre las muestras A1 y A2"
   ]
  },
  {
   "cell_type": "code",
   "execution_count": 40,
   "metadata": {},
   "outputs": [
    {
     "name": "stdout",
     "output_type": "stream",
     "text": [
      "Valor p: 26.2%\n",
      "Intervalo de confianza: [61.0%, 64.9%]\n",
      "Intervalo de confianza: [59.5%, 63.3%]\n",
      "No se rechaza la hipotesis nula: Las tasas de conversion son iguales\n"
     ]
    }
   ],
   "source": [
    "alpha = 0.05\n",
    "\n",
    "# Prueba de hipotesis en el evento offerscreenappear antre A1 y A2 \n",
    "p_1 = funnel.loc['OffersScreenAppear', 'A1'] /100\n",
    "suc_1 = int(p_1*n['A1'])\n",
    "\n",
    "p_2 = funnel.loc['OffersScreenAppear', 'A2'] /100\n",
    "suc_2 = int(p_2*n['A2'])\n",
    "\n",
    "suc = [suc_1, suc_2]\n",
    "obs = [n['A1'], n['A2']]\n",
    "\n",
    "z_stat, p_value = proportions_ztest(\n",
    "    count=suc,\n",
    "    nobs=obs,\n",
    "    alternative='two-sided'\n",
    ")\n",
    "\n",
    "print (f'Valor p: {p_value:.1%}')\n",
    "(inf_1, inf_2), (sup_1, sup_2) = proportion_confint(\n",
    "    count=suc,\n",
    "    nobs=obs,\n",
    "    alpha=alpha\n",
    ")\n",
    "\n",
    "print (f'Intervalo de confianza: [{inf_1:.1%}, {sup_1:.1%}]')   \n",
    "print (f'Intervalo de confianza: [{inf_2:.1%}, {sup_2:.1%}]')\n",
    "\n",
    "#desicion\n",
    "\n",
    "if p_value > alpha:\n",
    "    print('No se rechaza la hipotesis nula: Las tasas de conversion son iguales')\n",
    "else:\n",
    "    print('Se rechaza la hipotesis nula: Las tasas de conversion son diferentes')"
   ]
  },
  {
   "cell_type": "code",
   "execution_count": 41,
   "metadata": {},
   "outputs": [],
   "source": [
    "#funcion secuencial para pruebas de hipotesis\n",
    "\n",
    "def prueba_ab (evento, g1, g2 , alpha=0.05):\n",
    "    p_1 = funnel.loc[evento, g1] /100\n",
    "    suc_1 = int(p_1*n[g1])\n",
    "\n",
    "    p_2 = funnel.loc[evento, g2] /100\n",
    "    suc_2 = int(p_2*n[g2])\n",
    "\n",
    "    suc = [suc_1, suc_2]\n",
    "    obs = [n[g1], n[g2]]\n",
    "\n",
    "    z_stat, p_value = proportions_ztest(\n",
    "        count=suc,\n",
    "        nobs=obs,\n",
    "        alternative='two-sided'\n",
    "    )\n",
    "\n",
    "    print (f'Valor p: {p_value:.1%}')\n",
    "    (inf_1, inf_2), (sup_1, sup_2) = proportion_confint(\n",
    "        count=suc,\n",
    "        nobs=obs,\n",
    "        alpha=alpha\n",
    "    )\n",
    "    print (f'Intervalo de confianza {g1}: [{inf_1:.1%}, {sup_1:.1%}]')\n",
    "    print (f'Intervalo de confianza {g2}: [{inf_2:.1%}, {sup_2:.1%}]')\n",
    "\n",
    "    #desicion\n",
    "\n",
    "    if p_value > alpha:\n",
    "        print('No se rechaza la hipotesis nula: Las tasas de conversion son iguales')\n",
    "    else:\n",
    "        print('Se puede rechazar la hipotesis nula')\n",
    "    return p_value"
   ]
  },
  {
   "cell_type": "markdown",
   "metadata": {},
   "source": [
    "Hacer el test para cada evento entre los distintos grupos"
   ]
  },
  {
   "cell_type": "code",
   "execution_count": 42,
   "metadata": {},
   "outputs": [
    {
     "name": "stdout",
     "output_type": "stream",
     "text": [
      "EVENTO: OffersScreenAppear\n",
      "====================\n",
      "Valor p: 26.2%\n",
      "Intervalo de confianza A1: [61.0%, 64.9%]\n",
      "Intervalo de confianza A2: [59.5%, 63.3%]\n",
      "No se rechaza la hipotesis nula: Las tasas de conversion son iguales\n",
      "\n",
      "EVENTO: CartScreenAppear\n",
      "====================\n",
      "Valor p: 25.2%\n",
      "Intervalo de confianza A1: [49.7%, 53.6%]\n",
      "Intervalo de confianza A2: [48.0%, 52.0%]\n",
      "No se rechaza la hipotesis nula: Las tasas de conversion son iguales\n",
      "\n",
      "EVENTO: PaymentScreenSuccessful\n",
      "====================\n",
      "Valor p: 12.0%\n",
      "Intervalo de confianza A1: [47.0%, 51.0%]\n",
      "Intervalo de confianza A2: [44.8%, 48.7%]\n",
      "No se rechaza la hipotesis nula: Las tasas de conversion son iguales\n",
      "\n"
     ]
    }
   ],
   "source": [
    "#Comprobacion entre los grupos A1 y A2\n",
    "A1_A2 = []\n",
    "for i in funnel.index[1:]:\n",
    "    print(f'EVENTO: {i}')\n",
    "    print('====================')\n",
    "    A1_A2.append(prueba_ab(i, 'A1', 'A2'))\n",
    "\n",
    "    print()\n",
    "    "
   ]
  },
  {
   "cell_type": "code",
   "execution_count": 43,
   "metadata": {},
   "outputs": [
    {
     "name": "stdout",
     "output_type": "stream",
     "text": [
      "EVENTO: OffersScreenAppear\n",
      "====================\n",
      "Valor p: 25.6%\n",
      "Intervalo de confianza A1: [61.0%, 64.9%]\n",
      "Intervalo de confianza B: [59.5%, 63.3%]\n",
      "No se rechaza la hipotesis nula: Las tasas de conversion son iguales\n",
      "\n",
      "EVENTO: CartScreenAppear\n",
      "====================\n",
      "Valor p: 10.7%\n",
      "Intervalo de confianza A1: [49.7%, 53.6%]\n",
      "Intervalo de confianza B: [47.4%, 51.3%]\n",
      "No se rechaza la hipotesis nula: Las tasas de conversion son iguales\n",
      "\n",
      "EVENTO: PaymentScreenSuccessful\n",
      "====================\n",
      "Valor p: 25.8%\n",
      "Intervalo de confianza A1: [47.0%, 51.0%]\n",
      "Intervalo de confianza B: [45.4%, 49.3%]\n",
      "No se rechaza la hipotesis nula: Las tasas de conversion son iguales\n",
      "\n"
     ]
    }
   ],
   "source": [
    "#Comprobacion entre los grupos A1 y B\n",
    "A1_B = []\n",
    "for i in funnel.index[1:]:\n",
    "    print(f'EVENTO: {i}')\n",
    "    print('====================')\n",
    "    A1_B.append(prueba_ab(i, 'A1', 'B'))\n",
    "\n",
    "    print()"
   ]
  },
  {
   "cell_type": "code",
   "execution_count": 44,
   "metadata": {},
   "outputs": [
    {
     "name": "stdout",
     "output_type": "stream",
     "text": [
      "EVENTO: OffersScreenAppear\n",
      "====================\n",
      "Valor p: 99.0%\n",
      "Intervalo de confianza A2: [59.5%, 63.3%]\n",
      "Intervalo de confianza B: [59.5%, 63.3%]\n",
      "No se rechaza la hipotesis nula: Las tasas de conversion son iguales\n",
      "\n",
      "EVENTO: CartScreenAppear\n",
      "====================\n",
      "Valor p: 64.1%\n",
      "Intervalo de confianza A2: [48.0%, 52.0%]\n",
      "Intervalo de confianza B: [47.4%, 51.3%]\n",
      "No se rechaza la hipotesis nula: Las tasas de conversion son iguales\n",
      "\n",
      "EVENTO: PaymentScreenSuccessful\n",
      "====================\n",
      "Valor p: 67.0%\n",
      "Intervalo de confianza A2: [44.8%, 48.7%]\n",
      "Intervalo de confianza B: [45.4%, 49.3%]\n",
      "No se rechaza la hipotesis nula: Las tasas de conversion son iguales\n",
      "\n"
     ]
    }
   ],
   "source": [
    "#Comprobacion entre los grupos A2 y B\n",
    "A2_B = []\n",
    "for i in funnel.index[1:]:\n",
    "    print(f'EVENTO: {i}')\n",
    "    print('====================')\n",
    "    A2_B.append(prueba_ab(i, 'A2', 'B'))\n",
    "\n",
    "    print()"
   ]
  },
  {
   "cell_type": "code",
   "execution_count": 45,
   "metadata": {},
   "outputs": [
    {
     "name": "stdout",
     "output_type": "stream",
     "text": [
      "                           A1vsA2     A1vsB\n",
      "event                                      \n",
      "OffersScreenAppear       0.262234  0.256105\n",
      "CartScreenAppear         0.251787  0.106701\n",
      "PaymentScreenSuccessful  0.120443  0.258264\n",
      "\n",
      "\n",
      "                     event   group    signif\n",
      "0       OffersScreenAppear  A1vsA2  0.262234\n",
      "1         CartScreenAppear  A1vsA2  0.251787\n",
      "2  PaymentScreenSuccessful  A1vsA2  0.120443\n",
      "3       OffersScreenAppear   A1vsB  0.256105\n",
      "4         CartScreenAppear   A1vsB  0.106701\n",
      "5  PaymentScreenSuccessful   A1vsB  0.258264\n"
     ]
    }
   ],
   "source": [
    "signif = pd.DataFrame(dict(\n",
    "    A1vsA2 = A1_A2,\n",
    "    A1vsB = A1_B,\n",
    "),index = funnel.index[1:])\n",
    "\n",
    "print(signif)\n",
    "print('\\n')\n",
    "\n",
    "signif = signif.reset_index().melt(id_vars= 'event', var_name='group', value_name='signif')\n",
    "print(signif)"
   ]
  },
  {
   "cell_type": "code",
   "execution_count": 46,
   "metadata": {},
   "outputs": [
    {
     "data": {
      "image/png": "[encoded data removed]",
      "text/plain": [
       "<Figure size 1000x600 with 1 Axes>"
      ]
     },
     "metadata": {},
     "output_type": "display_data"
    }
   ],
   "source": [
    "# Configurar estilo y paleta de colores\n",
    "sns.set_style('whitegrid')\n",
    "sns.set_palette(['royalblue', 'crimson']) \n",
    "\n",
    "# Ajustar tamaño de la figura\n",
    "plt.figure(figsize=(10, 6))\n",
    "\n",
    "# Graficar barras con bordes y transparencia\n",
    "sns.barplot(\n",
    "    data=signif,\n",
    "    x='event',\n",
    "    y='signif',\n",
    "    hue='group',\n",
    "    edgecolor='black',\n",
    "    alpha=0.85\n",
    ")\n",
    "\n",
    "# Agregar líneas de referencia con etiquetas\n",
    "plt.axhline(y=0.05, color='black', linestyle='--', linewidth=1)\n",
    "plt.axhline(y=0.1, color='black', linestyle='--', linewidth=1)\n",
    "\n",
    "\n",
    "# Títulos y etiquetas mejoradas\n",
    "plt.title('Significancia por Evento y Grupo', fontsize=16, fontweight='bold')\n",
    "plt.xlabel('Evento', fontsize=14)\n",
    "plt.ylabel('Significancia', fontsize=14)\n",
    "plt.xticks(rotation=45)\n",
    "\n",
    "# Mejorar la leyenda\n",
    "plt.legend(title=\"Grupo\", title_fontsize='13', fontsize='11')\n",
    "\n",
    "# Mostrar gráfico\n",
    "plt.show()"
   ]
  },
  {
   "cell_type": "markdown",
   "metadata": {},
   "source": [
    "El nivel de significancia lo establecimos con el 95% de confianza, pero si lo bajamos a 90% existen algunos grupos que estarian apenas pasando la confianza, lo que ocasionaria que tal vez con mas tiempo en el experimento se rechace la hipotesis dado que ya existiria la desigualdad, por lo que tendriamos que estar analizando el comportamiento de dichos grupos aun con el 95% de confianza "
   ]
  }
 ],
 "metadata": {
  "kernelspec": {
   "display_name": "Python 3",
   "language": "python",
   "name": "python3"
  },
  "language_info": {
   "codemirror_mode": {
    "name": "ipython",
    "version": 3
   },
   "file_extension": ".py",
   "mimetype": "text/x-python",
   "name": "python",
   "nbconvert_exporter": "python",
   "pygments_lexer": "ipython3",
   "version": "3.11.9"
  }
 },
 "nbformat": 4,
 "nbformat_minor": 2
}
