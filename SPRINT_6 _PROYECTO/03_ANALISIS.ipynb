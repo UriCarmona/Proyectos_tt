{
 "cells": [
  {
   "cell_type": "markdown",
   "metadata": {},
   "source": [
    "## En este scrip se ejecuta un analisis exploratorio"
   ]
  },
  {
   "cell_type": "code",
   "execution_count": 135,
   "metadata": {},
   "outputs": [],
   "source": [
    "import pandas as pd\n",
    "import numpy as np\n",
    "import matplotlib.pyplot as plt\n",
    "from scipy import stats as st"
   ]
  },
  {
   "cell_type": "code",
   "execution_count": 136,
   "metadata": {},
   "outputs": [],
   "source": [
    "# CARGAR DATOS YA PROCESADOS\n",
    "df_games_clean = pd.read_csv('games_clean.csv')"
   ]
  },
  {
   "cell_type": "code",
   "execution_count": 137,
   "metadata": {},
   "outputs": [
    {
     "name": "stdout",
     "output_type": "stream",
     "text": [
      "<class 'pandas.core.frame.DataFrame'>\n",
      "RangeIndex: 16444 entries, 0 to 16443\n",
      "Data columns (total 14 columns):\n",
      " #   Column           Non-Null Count  Dtype  \n",
      "---  ------           --------------  -----  \n",
      " 0   name             16444 non-null  object \n",
      " 1   platform         16444 non-null  object \n",
      " 2   year_of_release  16444 non-null  int64  \n",
      " 3   genre            16444 non-null  object \n",
      " 4   na_sales         16444 non-null  float64\n",
      " 5   eu_sales         16444 non-null  float64\n",
      " 6   jp_sales         16444 non-null  float64\n",
      " 7   other_sales      16444 non-null  float64\n",
      " 8   critic_score     7982 non-null   float64\n",
      " 9   user_score       7462 non-null   float64\n",
      " 10  rating           9767 non-null   object \n",
      " 11  platform_group   16444 non-null  object \n",
      " 12  Rating_sem       16444 non-null  object \n",
      " 13  total_sales      16444 non-null  float64\n",
      "dtypes: float64(7), int64(1), object(6)\n",
      "memory usage: 1.8+ MB\n"
     ]
    }
   ],
   "source": [
    "df_games_clean.info()"
   ]
  },
  {
   "cell_type": "markdown",
   "metadata": {},
   "source": [
    "¿Cuantos juegos fueron lanzados por año?"
   ]
  },
  {
   "cell_type": "code",
   "execution_count": 138,
   "metadata": {},
   "outputs": [
    {
     "data": {
      "image/png": "[encoded data removed]",
      "text/plain": [
       "<Figure size 640x480 with 1 Axes>"
      ]
     },
     "metadata": {},
     "output_type": "display_data"
    }
   ],
   "source": [
    "df_games_por_year = df_games_clean.groupby('year_of_release')['name'].count()\n",
    "\n",
    "df_games_por_year.plot(kind='line',\n",
    "                       title='Lanzamiento por año',\n",
    "                       ylabel= 'numero de juegos',\n",
    "                       xlabel= 'años',\n",
    "                       color = 'pink',\n",
    "                       marker = '.')\n",
    "\n",
    "\n",
    "plt.show()"
   ]
  },
  {
   "cell_type": "markdown",
   "metadata": {},
   "source": [
    "No todos los años son relevantes, por tnto se quitaran los años de bajo volumen de produccion "
   ]
  },
  {
   "cell_type": "code",
   "execution_count": 139,
   "metadata": {},
   "outputs": [],
   "source": [
    "df_games_clean.query('year_of_release >= 1995', inplace=True)\n"
   ]
  },
  {
   "cell_type": "markdown",
   "metadata": {},
   "source": [
    "Como se han comportado las ventas en las distintas plataformas"
   ]
  },
  {
   "cell_type": "code",
   "execution_count": 140,
   "metadata": {},
   "outputs": [
    {
     "data": {
      "text/html": [
       "<div>\n",
       "<style scoped>\n",
       "    .dataframe tbody tr th:only-of-type {\n",
       "        vertical-align: middle;\n",
       "    }\n",
       "\n",
       "    .dataframe tbody tr th {\n",
       "        vertical-align: top;\n",
       "    }\n",
       "\n",
       "    .dataframe thead th {\n",
       "        text-align: right;\n",
       "    }\n",
       "</style>\n",
       "<table border=\"1\" class=\"dataframe\">\n",
       "  <thead>\n",
       "    <tr style=\"text-align: right;\">\n",
       "      <th>platform_group</th>\n",
       "      <th>Nintendo</th>\n",
       "      <th>Other</th>\n",
       "      <th>PC</th>\n",
       "      <th>PlayStation</th>\n",
       "      <th>Xbox</th>\n",
       "    </tr>\n",
       "    <tr>\n",
       "      <th>year_of_release</th>\n",
       "      <th></th>\n",
       "      <th></th>\n",
       "      <th></th>\n",
       "      <th></th>\n",
       "      <th></th>\n",
       "    </tr>\n",
       "  </thead>\n",
       "  <tbody>\n",
       "    <tr>\n",
       "      <th>1995</th>\n",
       "      <td>35.80</td>\n",
       "      <td>12.14</td>\n",
       "      <td>4.22</td>\n",
       "      <td>35.96</td>\n",
       "      <td>0.00</td>\n",
       "    </tr>\n",
       "    <tr>\n",
       "      <th>1996</th>\n",
       "      <td>86.05</td>\n",
       "      <td>7.79</td>\n",
       "      <td>10.61</td>\n",
       "      <td>94.70</td>\n",
       "      <td>0.00</td>\n",
       "    </tr>\n",
       "    <tr>\n",
       "      <th>1997</th>\n",
       "      <td>46.86</td>\n",
       "      <td>6.77</td>\n",
       "      <td>11.27</td>\n",
       "      <td>136.17</td>\n",
       "      <td>0.00</td>\n",
       "    </tr>\n",
       "    <tr>\n",
       "      <th>1998</th>\n",
       "      <td>76.36</td>\n",
       "      <td>7.20</td>\n",
       "      <td>3.26</td>\n",
       "      <td>169.49</td>\n",
       "      <td>0.00</td>\n",
       "    </tr>\n",
       "    <tr>\n",
       "      <th>1999</th>\n",
       "      <td>96.13</td>\n",
       "      <td>5.71</td>\n",
       "      <td>4.74</td>\n",
       "      <td>144.53</td>\n",
       "      <td>0.00</td>\n",
       "    </tr>\n",
       "    <tr>\n",
       "      <th>2000</th>\n",
       "      <td>53.80</td>\n",
       "      <td>6.67</td>\n",
       "      <td>4.66</td>\n",
       "      <td>135.54</td>\n",
       "      <td>0.99</td>\n",
       "    </tr>\n",
       "    <tr>\n",
       "      <th>2001</th>\n",
       "      <td>100.36</td>\n",
       "      <td>1.35</td>\n",
       "      <td>5.47</td>\n",
       "      <td>202.02</td>\n",
       "      <td>22.26</td>\n",
       "    </tr>\n",
       "    <tr>\n",
       "      <th>2002</th>\n",
       "      <td>126.05</td>\n",
       "      <td>0.29</td>\n",
       "      <td>8.57</td>\n",
       "      <td>212.05</td>\n",
       "      <td>48.01</td>\n",
       "    </tr>\n",
       "    <tr>\n",
       "      <th>2003</th>\n",
       "      <td>107.28</td>\n",
       "      <td>0.00</td>\n",
       "      <td>8.84</td>\n",
       "      <td>186.38</td>\n",
       "      <td>55.04</td>\n",
       "    </tr>\n",
       "    <tr>\n",
       "      <th>2004</th>\n",
       "      <td>124.00</td>\n",
       "      <td>0.00</td>\n",
       "      <td>10.39</td>\n",
       "      <td>218.87</td>\n",
       "      <td>65.42</td>\n",
       "    </tr>\n",
       "    <tr>\n",
       "      <th>2005</th>\n",
       "      <td>191.62</td>\n",
       "      <td>0.00</td>\n",
       "      <td>4.37</td>\n",
       "      <td>204.50</td>\n",
       "      <td>57.33</td>\n",
       "    </tr>\n",
       "    <tr>\n",
       "      <th>2006</th>\n",
       "      <td>273.50</td>\n",
       "      <td>0.00</td>\n",
       "      <td>2.85</td>\n",
       "      <td>179.70</td>\n",
       "      <td>61.66</td>\n",
       "    </tr>\n",
       "    <tr>\n",
       "      <th>2007</th>\n",
       "      <td>303.38</td>\n",
       "      <td>0.02</td>\n",
       "      <td>9.28</td>\n",
       "      <td>196.11</td>\n",
       "      <td>95.96</td>\n",
       "    </tr>\n",
       "    <tr>\n",
       "      <th>2008</th>\n",
       "      <td>316.63</td>\n",
       "      <td>0.04</td>\n",
       "      <td>12.42</td>\n",
       "      <td>206.97</td>\n",
       "      <td>135.44</td>\n",
       "    </tr>\n",
       "    <tr>\n",
       "      <th>2009</th>\n",
       "      <td>326.51</td>\n",
       "      <td>0.00</td>\n",
       "      <td>16.91</td>\n",
       "      <td>195.11</td>\n",
       "      <td>120.29</td>\n",
       "    </tr>\n",
       "    <tr>\n",
       "      <th>2010</th>\n",
       "      <td>212.97</td>\n",
       "      <td>0.00</td>\n",
       "      <td>24.28</td>\n",
       "      <td>182.85</td>\n",
       "      <td>170.03</td>\n",
       "    </tr>\n",
       "    <tr>\n",
       "      <th>2011</th>\n",
       "      <td>149.03</td>\n",
       "      <td>0.00</td>\n",
       "      <td>35.03</td>\n",
       "      <td>179.68</td>\n",
       "      <td>143.84</td>\n",
       "    </tr>\n",
       "    <tr>\n",
       "      <th>2012</th>\n",
       "      <td>101.64</td>\n",
       "      <td>0.00</td>\n",
       "      <td>23.22</td>\n",
       "      <td>131.23</td>\n",
       "      <td>99.74</td>\n",
       "    </tr>\n",
       "    <tr>\n",
       "      <th>2013</th>\n",
       "      <td>88.35</td>\n",
       "      <td>0.00</td>\n",
       "      <td>12.38</td>\n",
       "      <td>152.97</td>\n",
       "      <td>107.54</td>\n",
       "    </tr>\n",
       "    <tr>\n",
       "      <th>2014</th>\n",
       "      <td>69.54</td>\n",
       "      <td>0.00</td>\n",
       "      <td>13.28</td>\n",
       "      <td>159.90</td>\n",
       "      <td>88.81</td>\n",
       "    </tr>\n",
       "    <tr>\n",
       "      <th>2015</th>\n",
       "      <td>45.27</td>\n",
       "      <td>0.00</td>\n",
       "      <td>8.52</td>\n",
       "      <td>142.09</td>\n",
       "      <td>72.10</td>\n",
       "    </tr>\n",
       "    <tr>\n",
       "      <th>2016</th>\n",
       "      <td>19.92</td>\n",
       "      <td>0.00</td>\n",
       "      <td>5.25</td>\n",
       "      <td>77.10</td>\n",
       "      <td>27.67</td>\n",
       "    </tr>\n",
       "  </tbody>\n",
       "</table>\n",
       "</div>"
      ],
      "text/plain": [
       "platform_group   Nintendo  Other     PC  PlayStation    Xbox\n",
       "year_of_release                                             \n",
       "1995                35.80  12.14   4.22        35.96    0.00\n",
       "1996                86.05   7.79  10.61        94.70    0.00\n",
       "1997                46.86   6.77  11.27       136.17    0.00\n",
       "1998                76.36   7.20   3.26       169.49    0.00\n",
       "1999                96.13   5.71   4.74       144.53    0.00\n",
       "2000                53.80   6.67   4.66       135.54    0.99\n",
       "2001               100.36   1.35   5.47       202.02   22.26\n",
       "2002               126.05   0.29   8.57       212.05   48.01\n",
       "2003               107.28   0.00   8.84       186.38   55.04\n",
       "2004               124.00   0.00  10.39       218.87   65.42\n",
       "2005               191.62   0.00   4.37       204.50   57.33\n",
       "2006               273.50   0.00   2.85       179.70   61.66\n",
       "2007               303.38   0.02   9.28       196.11   95.96\n",
       "2008               316.63   0.04  12.42       206.97  135.44\n",
       "2009               326.51   0.00  16.91       195.11  120.29\n",
       "2010               212.97   0.00  24.28       182.85  170.03\n",
       "2011               149.03   0.00  35.03       179.68  143.84\n",
       "2012               101.64   0.00  23.22       131.23   99.74\n",
       "2013                88.35   0.00  12.38       152.97  107.54\n",
       "2014                69.54   0.00  13.28       159.90   88.81\n",
       "2015                45.27   0.00   8.52       142.09   72.10\n",
       "2016                19.92   0.00   5.25        77.10   27.67"
      ]
     },
     "execution_count": 140,
     "metadata": {},
     "output_type": "execute_result"
    }
   ],
   "source": [
    "df_sales_per_platform = df_games_clean.pivot_table(\n",
    "    index= 'year_of_release',\n",
    "    columns= 'platform_group',\n",
    "    values= 'total_sales',\n",
    "    aggfunc= 'sum',\n",
    "    fill_value= 0\n",
    ")\n",
    "\n",
    "df_sales_per_platform"
   ]
  },
  {
   "cell_type": "code",
   "execution_count": 141,
   "metadata": {},
   "outputs": [
    {
     "data": {
      "image/png": "[encoded data removed]",
      "text/plain": [
       "<Figure size 640x480 with 1 Axes>"
      ]
     },
     "metadata": {},
     "output_type": "display_data"
    }
   ],
   "source": [
    "df_sales_per_platform.plot(kind= 'box',    showfliers=False,\n",
    "    title=\"Distribucion de la Variacion en el PIB\",\n",
    "    color = dict(boxes=\"lightblue\", whiskers=\"slateblue\", medians=\"green\", caps=\"slateblue\"),\n",
    "    patch_artist=True)\n",
    "\n",
    "plt.show()\n"
   ]
  },
  {
   "cell_type": "markdown",
   "metadata": {},
   "source": [
    "No todas las plataformas son relevantes, por tanto se quitaran aquellas que no tienen ventas significativas"
   ]
  },
  {
   "cell_type": "code",
   "execution_count": 142,
   "metadata": {},
   "outputs": [],
   "source": [
    "lista = ['Nintendo', 'PlayStation','Xbox']\n",
    "\n",
    "df_games_clean.query('platform_group == @lista',inplace=True)\n",
    "\n",
    "\n"
   ]
  },
  {
   "cell_type": "markdown",
   "metadata": {},
   "source": [
    "¿Existen diferencias significativas en el valor medio de ventas anuales entre nintendo y playstation"
   ]
  },
  {
   "cell_type": "code",
   "execution_count": 143,
   "metadata": {},
   "outputs": [],
   "source": [
    "#Extraer las muestras para la inferencia estadistica\n",
    "muestra_NS = df_sales_per_platform['Nintendo']\n",
    "muestra_PS = df_sales_per_platform['PlayStation']"
   ]
  },
  {
   "cell_type": "markdown",
   "metadata": {},
   "source": [
    "PRUEBA 1\n",
    "- H NULA: LAS VARIANZAS SON IGUALES\n",
    "- H ALTERNATIVA: LAS VARIANZAS SON DIFERENTES "
   ]
  },
  {
   "cell_type": "code",
   "execution_count": 144,
   "metadata": {},
   "outputs": [],
   "source": [
    "#definir un umbral de rechazo\n",
    "p_umbral = 0.1\n"
   ]
  },
  {
   "cell_type": "code",
   "execution_count": 145,
   "metadata": {},
   "outputs": [
    {
     "name": "stdout",
     "output_type": "stream",
     "text": [
      " Valor p: 5.6%\n",
      "Si se rechaza la hipotesis nula de que las varianzas sean iguales\n"
     ]
    }
   ],
   "source": [
    "#Prueba del levene\n",
    "\n",
    "p_leven = st.levene(muestra_NS,muestra_PS).pvalue\n",
    "\n",
    "print (f' Valor p: {p_leven:.1%}')\n",
    "\n",
    "if p_leven > p_umbral:\n",
    "    print ('No se rechaza la hipotesis nula de que las varianzas sean iguales')\n",
    "else:\n",
    "    print ('Si se rechaza la hipotesis nula de que las varianzas sean iguales')"
   ]
  },
  {
   "cell_type": "markdown",
   "metadata": {},
   "source": [
    "## Prueba 2\n",
    "\n",
    "- H NULA: EL PROMEDIO DE VENTAS ES IGUAL\n",
    "- H ALTERNATIVA: EL PROMEDIO DE VENTAS ES DIFERENTE"
   ]
  },
  {
   "cell_type": "code",
   "execution_count": 146,
   "metadata": {},
   "outputs": [
    {
     "name": "stdout",
     "output_type": "stream",
     "text": [
      " Valor p: 24.1%\n",
      "No se rechaza la hipotesis nula de que las varianzas sean iguales\n"
     ]
    }
   ],
   "source": [
    "p_ttest = st.ttest_ind (muestra_NS,muestra_PS, equal_var=False).pvalue\n",
    "\n",
    "print (f' Valor p: {p_ttest:.1%}')\n",
    "\n",
    "if p_ttest> p_umbral:\n",
    "    print ('No se rechaza la hipotesis nula de que las varianzas sean iguales')\n",
    "else:\n",
    "    print ('Si se rechaza la hipotesis nula de que las varianzas sean iguales')"
   ]
  },
  {
   "cell_type": "code",
   "execution_count": 147,
   "metadata": {},
   "outputs": [
    {
     "data": {
      "text/plain": [
       "<Axes: ylabel='Density'>"
      ]
     },
     "execution_count": 147,
     "metadata": {},
     "output_type": "execute_result"
    },
    {
     "data": {
      "image/png": "[encoded data removed]",
      "text/plain": [
       "<Figure size 640x480 with 1 Axes>"
      ]
     },
     "metadata": {},
     "output_type": "display_data"
    }
   ],
   "source": [
    "muestra_NS.plot(kind='kde')"
   ]
  },
  {
   "cell_type": "code",
   "execution_count": 148,
   "metadata": {},
   "outputs": [
    {
     "data": {
      "text/plain": [
       "np.float64(140.96045454545455)"
      ]
     },
     "execution_count": 148,
     "metadata": {},
     "output_type": "execute_result"
    }
   ],
   "source": [
    "caso = muestra_NS.sample(len(muestra_NS),replace=True)\n",
    "media = caso.mean()\n",
    "media"
   ]
  },
  {
   "cell_type": "code",
   "execution_count": 149,
   "metadata": {},
   "outputs": [
    {
     "data": {
      "image/png": "[encoded data removed]",
      "text/plain": [
       "<Figure size 640x480 with 1 Axes>"
      ]
     },
     "metadata": {},
     "output_type": "display_data"
    }
   ],
   "source": [
    "lista_medias = []\n",
    "for i in range(10000):\n",
    "    caso = muestra_NS.sample(len(muestra_NS),replace=True)\n",
    "    media = caso.mean()\n",
    "    lista_medias.append(media)\n",
    "\n",
    "plt.hist(x=\n",
    "lista_medias)\n",
    "\n",
    "plt.show()"
   ]
  }
 ],
 "metadata": {
  "kernelspec": {
   "display_name": "Python 3",
   "language": "python",
   "name": "python3"
  },
  "language_info": {
   "codemirror_mode": {
    "name": "ipython",
    "version": 3
   },
   "file_extension": ".py",
   "mimetype": "text/x-python",
   "name": "python",
   "nbconvert_exporter": "python",
   "pygments_lexer": "ipython3",
   "version": "3.13.1"
  }
 },
 "nbformat": 4,
 "nbformat_minor": 2
}
